{
 "cells": [
  {
   "cell_type": "markdown",
   "metadata": {},
   "source": [
    "# Project for increasing revenue for an online store"
   ]
  },
  {
   "cell_type": "markdown",
   "metadata": {},
   "source": [
    "## Introduction"
   ]
  },
  {
   "cell_type": "markdown",
   "metadata": {},
   "source": [
    "In the upcoming project, our main task is to find the best way to increase the online store's revenue. We have a list of hypotheses provided by the marketing department. We will prioritize the hypotheses according to the RICE and ICE frameworks and then make an A/B test for the hypothesis of the highest priority.\n",
    "During the process of conducting A/B testing, we will carry out standard steps for the received data analysis:\n",
    "1. Evaluate the cumulative data (receipt, revenue, conversion) and build the necessary graphs;\n",
    "2. Determine abnormal data;\n",
    "3. Calculate the statistical significance of differences in raw data and in filtered data;\n",
    "4. Decide whether to stop or continue the experiment;\n",
    "5. Draw conclusions based on the conducted study.\n"
   ]
  },
  {
   "cell_type": "markdown",
   "metadata": {},
   "source": [
    "## Data overview"
   ]
  },
  {
   "cell_type": "markdown",
   "metadata": {},
   "source": [
    "###  Import of libraries"
   ]
  },
  {
   "cell_type": "code",
   "execution_count": 100,
   "metadata": {},
   "outputs": [],
   "source": [
    "import pandas as pd\n",
    "import numpy as np\n",
    "from datetime import datetime, timedelta\n",
    "import seaborn as sns\n",
    "from matplotlib import pyplot as plt\n",
    "import scipy.stats as stats\n",
    "import warnings\n",
    "warnings.filterwarnings('ignore')"
   ]
  },
  {
   "cell_type": "markdown",
   "metadata": {},
   "source": [
    "We imported necessary libraries."
   ]
  },
  {
   "cell_type": "markdown",
   "metadata": {},
   "source": [
    "### Import of datasets"
   ]
  },
  {
   "cell_type": "code",
   "execution_count": 101,
   "metadata": {},
   "outputs": [],
   "source": [
    "try: \n",
    "    hypothesis = pd.read_csv('C:/Praktikum/a_b_test_project/hypothesis_ab.csv')\n",
    "    orders = pd.read_csv('C:/Praktikum/a_b_test_project/orders_ab.csv')\n",
    "    visitors = pd.read_csv('C:/Praktikum/a_b_test_project/visitors_ab.csv')\n",
    "except: \n",
    "    hypothesis = pd.read_csv('/datasets/hypothesis.csv') # specified local and public paths\n",
    "    orders = pd.read_csv('/datasets/orders.csv')\n",
    "    visitors = pd.read_csv('/datasets/visitors.csv')"
   ]
  },
  {
   "cell_type": "code",
   "execution_count": 102,
   "metadata": {
    "scrolled": false
   },
   "outputs": [
    {
     "name": "stdout",
     "output_type": "stream",
     "text": [
      "Main information:\n",
      "\n",
      "<class 'pandas.core.frame.DataFrame'>\n",
      "RangeIndex: 9 entries, 0 to 8\n",
      "Data columns (total 5 columns):\n",
      " #   Column      Non-Null Count  Dtype \n",
      "---  ------      --------------  ----- \n",
      " 0   Hypothesis  9 non-null      object\n",
      " 1   Reach       9 non-null      int64 \n",
      " 2   Impact      9 non-null      int64 \n",
      " 3   Confidence  9 non-null      int64 \n",
      " 4   Efforts     9 non-null      int64 \n",
      "dtypes: int64(4), object(1)\n",
      "memory usage: 488.0+ bytes\n",
      "\n",
      "The first 10 rows of the data:\n"
     ]
    },
    {
     "data": {
      "text/html": [
       "<div>\n",
       "<style scoped>\n",
       "    .dataframe tbody tr th:only-of-type {\n",
       "        vertical-align: middle;\n",
       "    }\n",
       "\n",
       "    .dataframe tbody tr th {\n",
       "        vertical-align: top;\n",
       "    }\n",
       "\n",
       "    .dataframe thead th {\n",
       "        text-align: right;\n",
       "    }\n",
       "</style>\n",
       "<table border=\"1\" class=\"dataframe\">\n",
       "  <thead>\n",
       "    <tr style=\"text-align: right;\">\n",
       "      <th></th>\n",
       "      <th>Hypothesis</th>\n",
       "      <th>Reach</th>\n",
       "      <th>Impact</th>\n",
       "      <th>Confidence</th>\n",
       "      <th>Efforts</th>\n",
       "    </tr>\n",
       "  </thead>\n",
       "  <tbody>\n",
       "    <tr>\n",
       "      <th>0</th>\n",
       "      <td>Добавить два новых канала привлечения трафика,...</td>\n",
       "      <td>3</td>\n",
       "      <td>10</td>\n",
       "      <td>8</td>\n",
       "      <td>6</td>\n",
       "    </tr>\n",
       "    <tr>\n",
       "      <th>1</th>\n",
       "      <td>Запустить собственную службу доставки, что сок...</td>\n",
       "      <td>2</td>\n",
       "      <td>5</td>\n",
       "      <td>4</td>\n",
       "      <td>10</td>\n",
       "    </tr>\n",
       "    <tr>\n",
       "      <th>2</th>\n",
       "      <td>Добавить блоки рекомендаций товаров на сайт ин...</td>\n",
       "      <td>8</td>\n",
       "      <td>3</td>\n",
       "      <td>7</td>\n",
       "      <td>3</td>\n",
       "    </tr>\n",
       "    <tr>\n",
       "      <th>3</th>\n",
       "      <td>Изменить структура категорий, что увеличит кон...</td>\n",
       "      <td>8</td>\n",
       "      <td>3</td>\n",
       "      <td>3</td>\n",
       "      <td>8</td>\n",
       "    </tr>\n",
       "    <tr>\n",
       "      <th>4</th>\n",
       "      <td>Изменить цвет фона главной страницы, чтобы уве...</td>\n",
       "      <td>3</td>\n",
       "      <td>1</td>\n",
       "      <td>1</td>\n",
       "      <td>1</td>\n",
       "    </tr>\n",
       "  </tbody>\n",
       "</table>\n",
       "</div>"
      ],
      "text/plain": [
       "                                          Hypothesis  Reach  Impact  \\\n",
       "0  Добавить два новых канала привлечения трафика,...      3      10   \n",
       "1  Запустить собственную службу доставки, что сок...      2       5   \n",
       "2  Добавить блоки рекомендаций товаров на сайт ин...      8       3   \n",
       "3  Изменить структура категорий, что увеличит кон...      8       3   \n",
       "4  Изменить цвет фона главной страницы, чтобы уве...      3       1   \n",
       "\n",
       "   Confidence  Efforts  \n",
       "0           8        6  \n",
       "1           4       10  \n",
       "2           7        3  \n",
       "3           3        8  \n",
       "4           1        1  "
      ]
     },
     "metadata": {},
     "output_type": "display_data"
    },
    {
     "name": "stdout",
     "output_type": "stream",
     "text": [
      "\n",
      "Main characteristics of the data:\n"
     ]
    },
    {
     "data": {
      "text/html": [
       "<div>\n",
       "<style scoped>\n",
       "    .dataframe tbody tr th:only-of-type {\n",
       "        vertical-align: middle;\n",
       "    }\n",
       "\n",
       "    .dataframe tbody tr th {\n",
       "        vertical-align: top;\n",
       "    }\n",
       "\n",
       "    .dataframe thead th {\n",
       "        text-align: right;\n",
       "    }\n",
       "</style>\n",
       "<table border=\"1\" class=\"dataframe\">\n",
       "  <thead>\n",
       "    <tr style=\"text-align: right;\">\n",
       "      <th></th>\n",
       "      <th>Reach</th>\n",
       "      <th>Impact</th>\n",
       "      <th>Confidence</th>\n",
       "      <th>Efforts</th>\n",
       "    </tr>\n",
       "  </thead>\n",
       "  <tbody>\n",
       "    <tr>\n",
       "      <th>count</th>\n",
       "      <td>9.000000</td>\n",
       "      <td>9.000000</td>\n",
       "      <td>9.000000</td>\n",
       "      <td>9.000000</td>\n",
       "    </tr>\n",
       "    <tr>\n",
       "      <th>mean</th>\n",
       "      <td>4.777778</td>\n",
       "      <td>4.777778</td>\n",
       "      <td>5.555556</td>\n",
       "      <td>4.888889</td>\n",
       "    </tr>\n",
       "    <tr>\n",
       "      <th>std</th>\n",
       "      <td>3.153481</td>\n",
       "      <td>3.192874</td>\n",
       "      <td>3.045944</td>\n",
       "      <td>2.803767</td>\n",
       "    </tr>\n",
       "    <tr>\n",
       "      <th>min</th>\n",
       "      <td>1.000000</td>\n",
       "      <td>1.000000</td>\n",
       "      <td>1.000000</td>\n",
       "      <td>1.000000</td>\n",
       "    </tr>\n",
       "    <tr>\n",
       "      <th>25%</th>\n",
       "      <td>3.000000</td>\n",
       "      <td>3.000000</td>\n",
       "      <td>3.000000</td>\n",
       "      <td>3.000000</td>\n",
       "    </tr>\n",
       "    <tr>\n",
       "      <th>50%</th>\n",
       "      <td>3.000000</td>\n",
       "      <td>3.000000</td>\n",
       "      <td>7.000000</td>\n",
       "      <td>5.000000</td>\n",
       "    </tr>\n",
       "    <tr>\n",
       "      <th>75%</th>\n",
       "      <td>8.000000</td>\n",
       "      <td>7.000000</td>\n",
       "      <td>8.000000</td>\n",
       "      <td>6.000000</td>\n",
       "    </tr>\n",
       "    <tr>\n",
       "      <th>max</th>\n",
       "      <td>10.000000</td>\n",
       "      <td>10.000000</td>\n",
       "      <td>9.000000</td>\n",
       "      <td>10.000000</td>\n",
       "    </tr>\n",
       "  </tbody>\n",
       "</table>\n",
       "</div>"
      ],
      "text/plain": [
       "           Reach     Impact  Confidence    Efforts\n",
       "count   9.000000   9.000000    9.000000   9.000000\n",
       "mean    4.777778   4.777778    5.555556   4.888889\n",
       "std     3.153481   3.192874    3.045944   2.803767\n",
       "min     1.000000   1.000000    1.000000   1.000000\n",
       "25%     3.000000   3.000000    3.000000   3.000000\n",
       "50%     3.000000   3.000000    7.000000   5.000000\n",
       "75%     8.000000   7.000000    8.000000   6.000000\n",
       "max    10.000000  10.000000    9.000000  10.000000"
      ]
     },
     "metadata": {},
     "output_type": "display_data"
    },
    {
     "name": "stdout",
     "output_type": "stream",
     "text": [
      "\n",
      "The amount of duplicates in data is 0\n"
     ]
    }
   ],
   "source": [
    "def data_first_look(data):\n",
    "    print('Main information:')\n",
    "    print()\n",
    "    data.info()\n",
    "    print()\n",
    "    print('The first 10 rows of the data:')\n",
    "    display(data.head())\n",
    "    print()\n",
    "    print('Main characteristics of the data:')\n",
    "    display(data.describe())\n",
    "    print()\n",
    "    print('The amount of duplicates in data is', data.duplicated().sum())\n",
    "    \n",
    "data_first_look(hypothesis) \n"
   ]
  },
  {
   "cell_type": "code",
   "execution_count": 103,
   "metadata": {},
   "outputs": [
    {
     "name": "stdout",
     "output_type": "stream",
     "text": [
      "Main information:\n",
      "\n",
      "<class 'pandas.core.frame.DataFrame'>\n",
      "RangeIndex: 1197 entries, 0 to 1196\n",
      "Data columns (total 5 columns):\n",
      " #   Column         Non-Null Count  Dtype \n",
      "---  ------         --------------  ----- \n",
      " 0   transactionId  1197 non-null   int64 \n",
      " 1   visitorId      1197 non-null   int64 \n",
      " 2   date           1197 non-null   object\n",
      " 3   revenue        1197 non-null   int64 \n",
      " 4   group          1197 non-null   object\n",
      "dtypes: int64(3), object(2)\n",
      "memory usage: 46.9+ KB\n",
      "\n",
      "The first 10 rows of the data:\n"
     ]
    },
    {
     "data": {
      "text/html": [
       "<div>\n",
       "<style scoped>\n",
       "    .dataframe tbody tr th:only-of-type {\n",
       "        vertical-align: middle;\n",
       "    }\n",
       "\n",
       "    .dataframe tbody tr th {\n",
       "        vertical-align: top;\n",
       "    }\n",
       "\n",
       "    .dataframe thead th {\n",
       "        text-align: right;\n",
       "    }\n",
       "</style>\n",
       "<table border=\"1\" class=\"dataframe\">\n",
       "  <thead>\n",
       "    <tr style=\"text-align: right;\">\n",
       "      <th></th>\n",
       "      <th>transactionId</th>\n",
       "      <th>visitorId</th>\n",
       "      <th>date</th>\n",
       "      <th>revenue</th>\n",
       "      <th>group</th>\n",
       "    </tr>\n",
       "  </thead>\n",
       "  <tbody>\n",
       "    <tr>\n",
       "      <th>0</th>\n",
       "      <td>3667963787</td>\n",
       "      <td>3312258926</td>\n",
       "      <td>2019-08-15</td>\n",
       "      <td>1650</td>\n",
       "      <td>B</td>\n",
       "    </tr>\n",
       "    <tr>\n",
       "      <th>1</th>\n",
       "      <td>2804400009</td>\n",
       "      <td>3642806036</td>\n",
       "      <td>2019-08-15</td>\n",
       "      <td>730</td>\n",
       "      <td>B</td>\n",
       "    </tr>\n",
       "    <tr>\n",
       "      <th>2</th>\n",
       "      <td>2961555356</td>\n",
       "      <td>4069496402</td>\n",
       "      <td>2019-08-15</td>\n",
       "      <td>400</td>\n",
       "      <td>A</td>\n",
       "    </tr>\n",
       "    <tr>\n",
       "      <th>3</th>\n",
       "      <td>3797467345</td>\n",
       "      <td>1196621759</td>\n",
       "      <td>2019-08-15</td>\n",
       "      <td>9759</td>\n",
       "      <td>B</td>\n",
       "    </tr>\n",
       "    <tr>\n",
       "      <th>4</th>\n",
       "      <td>2282983706</td>\n",
       "      <td>2322279887</td>\n",
       "      <td>2019-08-15</td>\n",
       "      <td>2308</td>\n",
       "      <td>B</td>\n",
       "    </tr>\n",
       "  </tbody>\n",
       "</table>\n",
       "</div>"
      ],
      "text/plain": [
       "   transactionId   visitorId        date  revenue group\n",
       "0     3667963787  3312258926  2019-08-15     1650     B\n",
       "1     2804400009  3642806036  2019-08-15      730     B\n",
       "2     2961555356  4069496402  2019-08-15      400     A\n",
       "3     3797467345  1196621759  2019-08-15     9759     B\n",
       "4     2282983706  2322279887  2019-08-15     2308     B"
      ]
     },
     "metadata": {},
     "output_type": "display_data"
    },
    {
     "name": "stdout",
     "output_type": "stream",
     "text": [
      "\n",
      "Main characteristics of the data:\n"
     ]
    },
    {
     "data": {
      "text/html": [
       "<div>\n",
       "<style scoped>\n",
       "    .dataframe tbody tr th:only-of-type {\n",
       "        vertical-align: middle;\n",
       "    }\n",
       "\n",
       "    .dataframe tbody tr th {\n",
       "        vertical-align: top;\n",
       "    }\n",
       "\n",
       "    .dataframe thead th {\n",
       "        text-align: right;\n",
       "    }\n",
       "</style>\n",
       "<table border=\"1\" class=\"dataframe\">\n",
       "  <thead>\n",
       "    <tr style=\"text-align: right;\">\n",
       "      <th></th>\n",
       "      <th>transactionId</th>\n",
       "      <th>visitorId</th>\n",
       "      <th>revenue</th>\n",
       "    </tr>\n",
       "  </thead>\n",
       "  <tbody>\n",
       "    <tr>\n",
       "      <th>count</th>\n",
       "      <td>1.197000e+03</td>\n",
       "      <td>1.197000e+03</td>\n",
       "      <td>1.197000e+03</td>\n",
       "    </tr>\n",
       "    <tr>\n",
       "      <th>mean</th>\n",
       "      <td>2.155621e+09</td>\n",
       "      <td>2.165960e+09</td>\n",
       "      <td>8.348006e+03</td>\n",
       "    </tr>\n",
       "    <tr>\n",
       "      <th>std</th>\n",
       "      <td>1.229085e+09</td>\n",
       "      <td>1.236014e+09</td>\n",
       "      <td>3.919113e+04</td>\n",
       "    </tr>\n",
       "    <tr>\n",
       "      <th>min</th>\n",
       "      <td>1.062393e+06</td>\n",
       "      <td>5.114589e+06</td>\n",
       "      <td>5.000000e+01</td>\n",
       "    </tr>\n",
       "    <tr>\n",
       "      <th>25%</th>\n",
       "      <td>1.166776e+09</td>\n",
       "      <td>1.111826e+09</td>\n",
       "      <td>1.220000e+03</td>\n",
       "    </tr>\n",
       "    <tr>\n",
       "      <th>50%</th>\n",
       "      <td>2.145194e+09</td>\n",
       "      <td>2.217985e+09</td>\n",
       "      <td>2.978000e+03</td>\n",
       "    </tr>\n",
       "    <tr>\n",
       "      <th>75%</th>\n",
       "      <td>3.237740e+09</td>\n",
       "      <td>3.177606e+09</td>\n",
       "      <td>8.290000e+03</td>\n",
       "    </tr>\n",
       "    <tr>\n",
       "      <th>max</th>\n",
       "      <td>4.293856e+09</td>\n",
       "      <td>4.283872e+09</td>\n",
       "      <td>1.294500e+06</td>\n",
       "    </tr>\n",
       "  </tbody>\n",
       "</table>\n",
       "</div>"
      ],
      "text/plain": [
       "       transactionId     visitorId       revenue\n",
       "count   1.197000e+03  1.197000e+03  1.197000e+03\n",
       "mean    2.155621e+09  2.165960e+09  8.348006e+03\n",
       "std     1.229085e+09  1.236014e+09  3.919113e+04\n",
       "min     1.062393e+06  5.114589e+06  5.000000e+01\n",
       "25%     1.166776e+09  1.111826e+09  1.220000e+03\n",
       "50%     2.145194e+09  2.217985e+09  2.978000e+03\n",
       "75%     3.237740e+09  3.177606e+09  8.290000e+03\n",
       "max     4.293856e+09  4.283872e+09  1.294500e+06"
      ]
     },
     "metadata": {},
     "output_type": "display_data"
    },
    {
     "name": "stdout",
     "output_type": "stream",
     "text": [
      "\n",
      "The amount of duplicates in data is 0\n"
     ]
    }
   ],
   "source": [
    "data_first_look(orders)"
   ]
  },
  {
   "cell_type": "code",
   "execution_count": 104,
   "metadata": {},
   "outputs": [
    {
     "name": "stdout",
     "output_type": "stream",
     "text": [
      "Main information:\n",
      "\n",
      "<class 'pandas.core.frame.DataFrame'>\n",
      "RangeIndex: 62 entries, 0 to 61\n",
      "Data columns (total 3 columns):\n",
      " #   Column    Non-Null Count  Dtype \n",
      "---  ------    --------------  ----- \n",
      " 0   date      62 non-null     object\n",
      " 1   group     62 non-null     object\n",
      " 2   visitors  62 non-null     int64 \n",
      "dtypes: int64(1), object(2)\n",
      "memory usage: 1.6+ KB\n",
      "\n",
      "The first 10 rows of the data:\n"
     ]
    },
    {
     "data": {
      "text/html": [
       "<div>\n",
       "<style scoped>\n",
       "    .dataframe tbody tr th:only-of-type {\n",
       "        vertical-align: middle;\n",
       "    }\n",
       "\n",
       "    .dataframe tbody tr th {\n",
       "        vertical-align: top;\n",
       "    }\n",
       "\n",
       "    .dataframe thead th {\n",
       "        text-align: right;\n",
       "    }\n",
       "</style>\n",
       "<table border=\"1\" class=\"dataframe\">\n",
       "  <thead>\n",
       "    <tr style=\"text-align: right;\">\n",
       "      <th></th>\n",
       "      <th>date</th>\n",
       "      <th>group</th>\n",
       "      <th>visitors</th>\n",
       "    </tr>\n",
       "  </thead>\n",
       "  <tbody>\n",
       "    <tr>\n",
       "      <th>0</th>\n",
       "      <td>2019-08-01</td>\n",
       "      <td>A</td>\n",
       "      <td>719</td>\n",
       "    </tr>\n",
       "    <tr>\n",
       "      <th>1</th>\n",
       "      <td>2019-08-02</td>\n",
       "      <td>A</td>\n",
       "      <td>619</td>\n",
       "    </tr>\n",
       "    <tr>\n",
       "      <th>2</th>\n",
       "      <td>2019-08-03</td>\n",
       "      <td>A</td>\n",
       "      <td>507</td>\n",
       "    </tr>\n",
       "    <tr>\n",
       "      <th>3</th>\n",
       "      <td>2019-08-04</td>\n",
       "      <td>A</td>\n",
       "      <td>717</td>\n",
       "    </tr>\n",
       "    <tr>\n",
       "      <th>4</th>\n",
       "      <td>2019-08-05</td>\n",
       "      <td>A</td>\n",
       "      <td>756</td>\n",
       "    </tr>\n",
       "  </tbody>\n",
       "</table>\n",
       "</div>"
      ],
      "text/plain": [
       "         date group  visitors\n",
       "0  2019-08-01     A       719\n",
       "1  2019-08-02     A       619\n",
       "2  2019-08-03     A       507\n",
       "3  2019-08-04     A       717\n",
       "4  2019-08-05     A       756"
      ]
     },
     "metadata": {},
     "output_type": "display_data"
    },
    {
     "name": "stdout",
     "output_type": "stream",
     "text": [
      "\n",
      "Main characteristics of the data:\n"
     ]
    },
    {
     "data": {
      "text/html": [
       "<div>\n",
       "<style scoped>\n",
       "    .dataframe tbody tr th:only-of-type {\n",
       "        vertical-align: middle;\n",
       "    }\n",
       "\n",
       "    .dataframe tbody tr th {\n",
       "        vertical-align: top;\n",
       "    }\n",
       "\n",
       "    .dataframe thead th {\n",
       "        text-align: right;\n",
       "    }\n",
       "</style>\n",
       "<table border=\"1\" class=\"dataframe\">\n",
       "  <thead>\n",
       "    <tr style=\"text-align: right;\">\n",
       "      <th></th>\n",
       "      <th>visitors</th>\n",
       "    </tr>\n",
       "  </thead>\n",
       "  <tbody>\n",
       "    <tr>\n",
       "      <th>count</th>\n",
       "      <td>62.000000</td>\n",
       "    </tr>\n",
       "    <tr>\n",
       "      <th>mean</th>\n",
       "      <td>607.290323</td>\n",
       "    </tr>\n",
       "    <tr>\n",
       "      <th>std</th>\n",
       "      <td>114.400560</td>\n",
       "    </tr>\n",
       "    <tr>\n",
       "      <th>min</th>\n",
       "      <td>361.000000</td>\n",
       "    </tr>\n",
       "    <tr>\n",
       "      <th>25%</th>\n",
       "      <td>534.000000</td>\n",
       "    </tr>\n",
       "    <tr>\n",
       "      <th>50%</th>\n",
       "      <td>624.500000</td>\n",
       "    </tr>\n",
       "    <tr>\n",
       "      <th>75%</th>\n",
       "      <td>710.500000</td>\n",
       "    </tr>\n",
       "    <tr>\n",
       "      <th>max</th>\n",
       "      <td>770.000000</td>\n",
       "    </tr>\n",
       "  </tbody>\n",
       "</table>\n",
       "</div>"
      ],
      "text/plain": [
       "         visitors\n",
       "count   62.000000\n",
       "mean   607.290323\n",
       "std    114.400560\n",
       "min    361.000000\n",
       "25%    534.000000\n",
       "50%    624.500000\n",
       "75%    710.500000\n",
       "max    770.000000"
      ]
     },
     "metadata": {},
     "output_type": "display_data"
    },
    {
     "name": "stdout",
     "output_type": "stream",
     "text": [
      "\n",
      "The amount of duplicates in data is 0\n"
     ]
    }
   ],
   "source": [
    "data_first_look(visitors)"
   ]
  },
  {
   "cell_type": "markdown",
   "metadata": {},
   "source": [
    "**We imported the files and looked at the basic information about the dataset. We divided dataset into 4 column: event data, user id, event date, and group id in the a/b test.**"
   ]
  },
  {
   "cell_type": "markdown",
   "metadata": {},
   "source": [
    "### Data preprocessing"
   ]
  },
  {
   "cell_type": "code",
   "execution_count": 105,
   "metadata": {},
   "outputs": [],
   "source": [
    "hypothesis.columns = hypothesis.columns.str.lower() # changed the column names to lower case\n",
    "orders.columns = orders.columns.str.lower()\n",
    "orders.rename({'transactionid':'transaction_id', 'visitorid':'visitor_id'}, axis=1, inplace = True) # rename the columns\n",
    "orders['date'] = pd.to_datetime(orders['date']) # changed to datetime type\n",
    "visitors.columns = visitors.columns.str.lower()\n",
    "visitors['date'] = pd.to_datetime(visitors['date'])"
   ]
  },
  {
   "cell_type": "markdown",
   "metadata": {},
   "source": [
    "We renamed the columns and changed the data format."
   ]
  },
  {
   "cell_type": "code",
   "execution_count": 106,
   "metadata": {
    "scrolled": true
   },
   "outputs": [
    {
     "name": "stdout",
     "output_type": "stream",
     "text": [
      "<class 'pandas.core.frame.DataFrame'>\n",
      "RangeIndex: 9 entries, 0 to 8\n",
      "Data columns (total 5 columns):\n",
      " #   Column      Non-Null Count  Dtype \n",
      "---  ------      --------------  ----- \n",
      " 0   hypothesis  9 non-null      object\n",
      " 1   reach       9 non-null      int64 \n",
      " 2   impact      9 non-null      int64 \n",
      " 3   confidence  9 non-null      int64 \n",
      " 4   efforts     9 non-null      int64 \n",
      "dtypes: int64(4), object(1)\n",
      "memory usage: 488.0+ bytes\n",
      "<class 'pandas.core.frame.DataFrame'>\n",
      "RangeIndex: 1197 entries, 0 to 1196\n",
      "Data columns (total 5 columns):\n",
      " #   Column          Non-Null Count  Dtype         \n",
      "---  ------          --------------  -----         \n",
      " 0   transaction_id  1197 non-null   int64         \n",
      " 1   visitor_id      1197 non-null   int64         \n",
      " 2   date            1197 non-null   datetime64[ns]\n",
      " 3   revenue         1197 non-null   int64         \n",
      " 4   group           1197 non-null   object        \n",
      "dtypes: datetime64[ns](1), int64(3), object(1)\n",
      "memory usage: 46.9+ KB\n",
      "<class 'pandas.core.frame.DataFrame'>\n",
      "RangeIndex: 62 entries, 0 to 61\n",
      "Data columns (total 3 columns):\n",
      " #   Column    Non-Null Count  Dtype         \n",
      "---  ------    --------------  -----         \n",
      " 0   date      62 non-null     datetime64[ns]\n",
      " 1   group     62 non-null     object        \n",
      " 2   visitors  62 non-null     int64         \n",
      "dtypes: datetime64[ns](1), int64(1), object(1)\n",
      "memory usage: 1.6+ KB\n"
     ]
    }
   ],
   "source": [
    "hypothesis.info() \n",
    "orders.info()\n",
    "visitors.info()"
   ]
  },
  {
   "cell_type": "markdown",
   "metadata": {},
   "source": [
    "Checked if every changes worked out."
   ]
  },
  {
   "cell_type": "code",
   "execution_count": 107,
   "metadata": {
    "scrolled": true
   },
   "outputs": [
    {
     "data": {
      "text/plain": [
       "0"
      ]
     },
     "metadata": {},
     "output_type": "display_data"
    },
    {
     "data": {
      "text/plain": [
       "0"
      ]
     },
     "metadata": {},
     "output_type": "display_data"
    },
    {
     "data": {
      "text/plain": [
       "0"
      ]
     },
     "metadata": {},
     "output_type": "display_data"
    }
   ],
   "source": [
    "display(visitors.duplicated().sum(), orders.duplicated().sum(), hypothesis.duplicated().sum())"
   ]
  },
  {
   "cell_type": "markdown",
   "metadata": {},
   "source": [
    "We checked our data for duplicates - there are none. At this point, data preprocessing can be considered complete and we can proceed to examine the data for correctness."
   ]
  },
  {
   "cell_type": "markdown",
   "metadata": {},
   "source": [
    "## Examine the data for correctness"
   ]
  },
  {
   "cell_type": "code",
   "execution_count": 108,
   "metadata": {},
   "outputs": [
    {
     "data": {
      "text/plain": [
       "visitor_id    58\n",
       "group         58\n",
       "dtype: int64"
      ]
     },
     "execution_count": 108,
     "metadata": {},
     "output_type": "execute_result"
    }
   ],
   "source": [
    "orders.groupby('visitor_id', as_index=False)\\\n",
    "    .agg({'group':'nunique'})\\\n",
    "    .query(\"group==2\").count()"
   ]
  },
  {
   "cell_type": "markdown",
   "metadata": {},
   "source": [
    "We checked if there are users who were distributed into both groups.\n",
    "We found out that 58 users got into both groups of the test. It indicates the incorrect operation of the user separation mechanism. There are two strategies to handle it:\n",
    "- remove these users\n",
    "- leave it as it is\n",
    "\n",
    "Since we need to remove them from the data, and as we cannot do this (the dataset of visits is aggregated by days), the only option is to leave them in the dataset.\n"
   ]
  },
  {
   "cell_type": "markdown",
   "metadata": {},
   "source": [
    "## Hypotheses prioritization"
   ]
  },
  {
   "cell_type": "markdown",
   "metadata": {},
   "source": [
    "### Data overview"
   ]
  },
  {
   "cell_type": "code",
   "execution_count": 109,
   "metadata": {
    "scrolled": true
   },
   "outputs": [
    {
     "data": {
      "text/html": [
       "<div>\n",
       "<style scoped>\n",
       "    .dataframe tbody tr th:only-of-type {\n",
       "        vertical-align: middle;\n",
       "    }\n",
       "\n",
       "    .dataframe tbody tr th {\n",
       "        vertical-align: top;\n",
       "    }\n",
       "\n",
       "    .dataframe thead th {\n",
       "        text-align: right;\n",
       "    }\n",
       "</style>\n",
       "<table border=\"1\" class=\"dataframe\">\n",
       "  <thead>\n",
       "    <tr style=\"text-align: right;\">\n",
       "      <th></th>\n",
       "      <th>hypothesis</th>\n",
       "      <th>reach</th>\n",
       "      <th>impact</th>\n",
       "      <th>confidence</th>\n",
       "      <th>efforts</th>\n",
       "    </tr>\n",
       "  </thead>\n",
       "  <tbody>\n",
       "    <tr>\n",
       "      <th>0</th>\n",
       "      <td>Добавить два новых канала привлечения трафика, что позволит привлекать на 30% больше пользователей</td>\n",
       "      <td>3</td>\n",
       "      <td>10</td>\n",
       "      <td>8</td>\n",
       "      <td>6</td>\n",
       "    </tr>\n",
       "    <tr>\n",
       "      <th>1</th>\n",
       "      <td>Запустить собственную службу доставки, что сократит срок доставки заказов</td>\n",
       "      <td>2</td>\n",
       "      <td>5</td>\n",
       "      <td>4</td>\n",
       "      <td>10</td>\n",
       "    </tr>\n",
       "    <tr>\n",
       "      <th>2</th>\n",
       "      <td>Добавить блоки рекомендаций товаров на сайт интернет магазина, чтобы повысить конверсию и средний чек заказа</td>\n",
       "      <td>8</td>\n",
       "      <td>3</td>\n",
       "      <td>7</td>\n",
       "      <td>3</td>\n",
       "    </tr>\n",
       "    <tr>\n",
       "      <th>3</th>\n",
       "      <td>Изменить структура категорий, что увеличит конверсию, т.к. пользователи быстрее найдут нужный товар</td>\n",
       "      <td>8</td>\n",
       "      <td>3</td>\n",
       "      <td>3</td>\n",
       "      <td>8</td>\n",
       "    </tr>\n",
       "    <tr>\n",
       "      <th>4</th>\n",
       "      <td>Изменить цвет фона главной страницы, чтобы увеличить вовлеченность пользователей</td>\n",
       "      <td>3</td>\n",
       "      <td>1</td>\n",
       "      <td>1</td>\n",
       "      <td>1</td>\n",
       "    </tr>\n",
       "    <tr>\n",
       "      <th>5</th>\n",
       "      <td>Добавить страницу отзывов клиентов о магазине, что позволит увеличить количество заказов</td>\n",
       "      <td>3</td>\n",
       "      <td>2</td>\n",
       "      <td>2</td>\n",
       "      <td>3</td>\n",
       "    </tr>\n",
       "    <tr>\n",
       "      <th>6</th>\n",
       "      <td>Показать на главной странице баннеры с актуальными акциями и распродажами, чтобы увеличить конверсию</td>\n",
       "      <td>5</td>\n",
       "      <td>3</td>\n",
       "      <td>8</td>\n",
       "      <td>3</td>\n",
       "    </tr>\n",
       "    <tr>\n",
       "      <th>7</th>\n",
       "      <td>Добавить форму подписки на все основные страницы, чтобы собрать базу клиентов для email-рассылок</td>\n",
       "      <td>10</td>\n",
       "      <td>7</td>\n",
       "      <td>8</td>\n",
       "      <td>5</td>\n",
       "    </tr>\n",
       "    <tr>\n",
       "      <th>8</th>\n",
       "      <td>Запустить акцию, дающую скидку на товар в день рождения</td>\n",
       "      <td>1</td>\n",
       "      <td>9</td>\n",
       "      <td>9</td>\n",
       "      <td>5</td>\n",
       "    </tr>\n",
       "  </tbody>\n",
       "</table>\n",
       "</div>"
      ],
      "text/plain": [
       "                                                                                                     hypothesis  \\\n",
       "0            Добавить два новых канала привлечения трафика, что позволит привлекать на 30% больше пользователей   \n",
       "1                                     Запустить собственную службу доставки, что сократит срок доставки заказов   \n",
       "2  Добавить блоки рекомендаций товаров на сайт интернет магазина, чтобы повысить конверсию и средний чек заказа   \n",
       "3           Изменить структура категорий, что увеличит конверсию, т.к. пользователи быстрее найдут нужный товар   \n",
       "4                              Изменить цвет фона главной страницы, чтобы увеличить вовлеченность пользователей   \n",
       "5                      Добавить страницу отзывов клиентов о магазине, что позволит увеличить количество заказов   \n",
       "6          Показать на главной странице баннеры с актуальными акциями и распродажами, чтобы увеличить конверсию   \n",
       "7              Добавить форму подписки на все основные страницы, чтобы собрать базу клиентов для email-рассылок   \n",
       "8                                                       Запустить акцию, дающую скидку на товар в день рождения   \n",
       "\n",
       "   reach  impact  confidence  efforts  \n",
       "0      3      10           8        6  \n",
       "1      2       5           4       10  \n",
       "2      8       3           7        3  \n",
       "3      8       3           3        8  \n",
       "4      3       1           1        1  \n",
       "5      3       2           2        3  \n",
       "6      5       3           8        3  \n",
       "7     10       7           8        5  \n",
       "8      1       9           9        5  "
      ]
     },
     "metadata": {},
     "output_type": "display_data"
    }
   ],
   "source": [
    "pd.set_option(\"display.max_colwidth\", 150)\n",
    "display(hypothesis)"
   ]
  },
  {
   "cell_type": "markdown",
   "metadata": {},
   "source": [
    "We reviewed nine hypotheses that were provided to us by the marketing department. All of them seem pretty promising, but in order to save money and time, we need to choose the most reliable one. We will use for prioritization two methods: ICE and RICE.\n",
    "These methods use in their calculations the number of resources needed to implement this hypothesis, the number of users who will be affected by this change, how many users will be affected by it, and how confident we are in these forecasts.\n",
    "The marketing department has already provided us with this data, so our task is to prioritize the hypotheses according to the formula.\n"
   ]
  },
  {
   "cell_type": "markdown",
   "metadata": {},
   "source": [
    "### Calculation of prioritization according to the ICE method\n"
   ]
  },
  {
   "cell_type": "code",
   "execution_count": 110,
   "metadata": {},
   "outputs": [
    {
     "data": {
      "text/html": [
       "<div>\n",
       "<style scoped>\n",
       "    .dataframe tbody tr th:only-of-type {\n",
       "        vertical-align: middle;\n",
       "    }\n",
       "\n",
       "    .dataframe tbody tr th {\n",
       "        vertical-align: top;\n",
       "    }\n",
       "\n",
       "    .dataframe thead th {\n",
       "        text-align: right;\n",
       "    }\n",
       "</style>\n",
       "<table border=\"1\" class=\"dataframe\">\n",
       "  <thead>\n",
       "    <tr style=\"text-align: right;\">\n",
       "      <th></th>\n",
       "      <th>hypothesis</th>\n",
       "      <th>reach</th>\n",
       "      <th>impact</th>\n",
       "      <th>confidence</th>\n",
       "      <th>efforts</th>\n",
       "      <th>ICE</th>\n",
       "    </tr>\n",
       "  </thead>\n",
       "  <tbody>\n",
       "    <tr>\n",
       "      <th>0</th>\n",
       "      <td>Добавить два новых канала привлечения трафика, что позволит привлекать на 30% больше пользователей</td>\n",
       "      <td>3</td>\n",
       "      <td>10</td>\n",
       "      <td>8</td>\n",
       "      <td>6</td>\n",
       "      <td>13.333333</td>\n",
       "    </tr>\n",
       "    <tr>\n",
       "      <th>1</th>\n",
       "      <td>Запустить собственную службу доставки, что сократит срок доставки заказов</td>\n",
       "      <td>2</td>\n",
       "      <td>5</td>\n",
       "      <td>4</td>\n",
       "      <td>10</td>\n",
       "      <td>2.000000</td>\n",
       "    </tr>\n",
       "    <tr>\n",
       "      <th>2</th>\n",
       "      <td>Добавить блоки рекомендаций товаров на сайт интернет магазина, чтобы повысить конверсию и средний чек заказа</td>\n",
       "      <td>8</td>\n",
       "      <td>3</td>\n",
       "      <td>7</td>\n",
       "      <td>3</td>\n",
       "      <td>7.000000</td>\n",
       "    </tr>\n",
       "    <tr>\n",
       "      <th>3</th>\n",
       "      <td>Изменить структура категорий, что увеличит конверсию, т.к. пользователи быстрее найдут нужный товар</td>\n",
       "      <td>8</td>\n",
       "      <td>3</td>\n",
       "      <td>3</td>\n",
       "      <td>8</td>\n",
       "      <td>1.125000</td>\n",
       "    </tr>\n",
       "    <tr>\n",
       "      <th>4</th>\n",
       "      <td>Изменить цвет фона главной страницы, чтобы увеличить вовлеченность пользователей</td>\n",
       "      <td>3</td>\n",
       "      <td>1</td>\n",
       "      <td>1</td>\n",
       "      <td>1</td>\n",
       "      <td>1.000000</td>\n",
       "    </tr>\n",
       "    <tr>\n",
       "      <th>5</th>\n",
       "      <td>Добавить страницу отзывов клиентов о магазине, что позволит увеличить количество заказов</td>\n",
       "      <td>3</td>\n",
       "      <td>2</td>\n",
       "      <td>2</td>\n",
       "      <td>3</td>\n",
       "      <td>1.333333</td>\n",
       "    </tr>\n",
       "    <tr>\n",
       "      <th>6</th>\n",
       "      <td>Показать на главной странице баннеры с актуальными акциями и распродажами, чтобы увеличить конверсию</td>\n",
       "      <td>5</td>\n",
       "      <td>3</td>\n",
       "      <td>8</td>\n",
       "      <td>3</td>\n",
       "      <td>8.000000</td>\n",
       "    </tr>\n",
       "    <tr>\n",
       "      <th>7</th>\n",
       "      <td>Добавить форму подписки на все основные страницы, чтобы собрать базу клиентов для email-рассылок</td>\n",
       "      <td>10</td>\n",
       "      <td>7</td>\n",
       "      <td>8</td>\n",
       "      <td>5</td>\n",
       "      <td>11.200000</td>\n",
       "    </tr>\n",
       "    <tr>\n",
       "      <th>8</th>\n",
       "      <td>Запустить акцию, дающую скидку на товар в день рождения</td>\n",
       "      <td>1</td>\n",
       "      <td>9</td>\n",
       "      <td>9</td>\n",
       "      <td>5</td>\n",
       "      <td>16.200000</td>\n",
       "    </tr>\n",
       "  </tbody>\n",
       "</table>\n",
       "</div>"
      ],
      "text/plain": [
       "                                                                                                     hypothesis  \\\n",
       "0            Добавить два новых канала привлечения трафика, что позволит привлекать на 30% больше пользователей   \n",
       "1                                     Запустить собственную службу доставки, что сократит срок доставки заказов   \n",
       "2  Добавить блоки рекомендаций товаров на сайт интернет магазина, чтобы повысить конверсию и средний чек заказа   \n",
       "3           Изменить структура категорий, что увеличит конверсию, т.к. пользователи быстрее найдут нужный товар   \n",
       "4                              Изменить цвет фона главной страницы, чтобы увеличить вовлеченность пользователей   \n",
       "5                      Добавить страницу отзывов клиентов о магазине, что позволит увеличить количество заказов   \n",
       "6          Показать на главной странице баннеры с актуальными акциями и распродажами, чтобы увеличить конверсию   \n",
       "7              Добавить форму подписки на все основные страницы, чтобы собрать базу клиентов для email-рассылок   \n",
       "8                                                       Запустить акцию, дающую скидку на товар в день рождения   \n",
       "\n",
       "   reach  impact  confidence  efforts        ICE  \n",
       "0      3      10           8        6  13.333333  \n",
       "1      2       5           4       10   2.000000  \n",
       "2      8       3           7        3   7.000000  \n",
       "3      8       3           3        8   1.125000  \n",
       "4      3       1           1        1   1.000000  \n",
       "5      3       2           2        3   1.333333  \n",
       "6      5       3           8        3   8.000000  \n",
       "7     10       7           8        5  11.200000  \n",
       "8      1       9           9        5  16.200000  "
      ]
     },
     "execution_count": 110,
     "metadata": {},
     "output_type": "execute_result"
    }
   ],
   "source": [
    "hypothesis['ICE'] = hypothesis['impact'] * hypothesis['confidence'] / hypothesis['efforts'].round()\n",
    "hypothesis[['hypothesis','ICE']].sort_values(by='ICE', ascending=False)\n",
    "hypothesis"
   ]
  },
  {
   "cell_type": "markdown",
   "metadata": {},
   "source": [
    "We prioritized the hypotheses according to the ICE method. This method includes three parameters:\n",
    "1. Impact - how much the change will affect users, their experience and satisfaction with the product,\n",
    "2. Efforts - the cost of testing this hypothesis,\n",
    "3. Confidence - how confident we are that this change will affect users in a particular way.\n",
    "\n",
    "According to this method, the top three hypotheses are:\n",
    "1. Launching a promotion that gives a discount on goods on a user’s birthday,\n",
    "2. Adding two new channels to attract traffic, which will engage 30% more users,\n",
    "3. Adding a subscription form to all main pages to build a customer base for email newsletters.\n",
    "\n",
    "But in order to decide whether to conduct an A / B test on one of these hypotheses, we need to check our prioritization by one more method - RICE. This method uses an additional parameter - Reach - how many users will be affected by the change we want to make.\n"
   ]
  },
  {
   "cell_type": "markdown",
   "metadata": {},
   "source": [
    "### Calculation of prioritization according to the RICE method"
   ]
  },
  {
   "cell_type": "code",
   "execution_count": 111,
   "metadata": {
    "scrolled": true
   },
   "outputs": [
    {
     "data": {
      "text/html": [
       "<div>\n",
       "<style scoped>\n",
       "    .dataframe tbody tr th:only-of-type {\n",
       "        vertical-align: middle;\n",
       "    }\n",
       "\n",
       "    .dataframe tbody tr th {\n",
       "        vertical-align: top;\n",
       "    }\n",
       "\n",
       "    .dataframe thead th {\n",
       "        text-align: right;\n",
       "    }\n",
       "</style>\n",
       "<table border=\"1\" class=\"dataframe\">\n",
       "  <thead>\n",
       "    <tr style=\"text-align: right;\">\n",
       "      <th></th>\n",
       "      <th>hypothesis</th>\n",
       "      <th>RICE</th>\n",
       "    </tr>\n",
       "  </thead>\n",
       "  <tbody>\n",
       "    <tr>\n",
       "      <th>7</th>\n",
       "      <td>Добавить форму подписки на все основные страницы, чтобы собрать базу клиентов для email-рассылок</td>\n",
       "      <td>112.0</td>\n",
       "    </tr>\n",
       "    <tr>\n",
       "      <th>2</th>\n",
       "      <td>Добавить блоки рекомендаций товаров на сайт интернет магазина, чтобы повысить конверсию и средний чек заказа</td>\n",
       "      <td>56.0</td>\n",
       "    </tr>\n",
       "    <tr>\n",
       "      <th>0</th>\n",
       "      <td>Добавить два новых канала привлечения трафика, что позволит привлекать на 30% больше пользователей</td>\n",
       "      <td>40.0</td>\n",
       "    </tr>\n",
       "    <tr>\n",
       "      <th>6</th>\n",
       "      <td>Показать на главной странице баннеры с актуальными акциями и распродажами, чтобы увеличить конверсию</td>\n",
       "      <td>40.0</td>\n",
       "    </tr>\n",
       "    <tr>\n",
       "      <th>8</th>\n",
       "      <td>Запустить акцию, дающую скидку на товар в день рождения</td>\n",
       "      <td>16.2</td>\n",
       "    </tr>\n",
       "    <tr>\n",
       "      <th>3</th>\n",
       "      <td>Изменить структура категорий, что увеличит конверсию, т.к. пользователи быстрее найдут нужный товар</td>\n",
       "      <td>9.0</td>\n",
       "    </tr>\n",
       "    <tr>\n",
       "      <th>1</th>\n",
       "      <td>Запустить собственную службу доставки, что сократит срок доставки заказов</td>\n",
       "      <td>4.0</td>\n",
       "    </tr>\n",
       "    <tr>\n",
       "      <th>5</th>\n",
       "      <td>Добавить страницу отзывов клиентов о магазине, что позволит увеличить количество заказов</td>\n",
       "      <td>4.0</td>\n",
       "    </tr>\n",
       "    <tr>\n",
       "      <th>4</th>\n",
       "      <td>Изменить цвет фона главной страницы, чтобы увеличить вовлеченность пользователей</td>\n",
       "      <td>3.0</td>\n",
       "    </tr>\n",
       "  </tbody>\n",
       "</table>\n",
       "</div>"
      ],
      "text/plain": [
       "                                                                                                     hypothesis  \\\n",
       "7              Добавить форму подписки на все основные страницы, чтобы собрать базу клиентов для email-рассылок   \n",
       "2  Добавить блоки рекомендаций товаров на сайт интернет магазина, чтобы повысить конверсию и средний чек заказа   \n",
       "0            Добавить два новых канала привлечения трафика, что позволит привлекать на 30% больше пользователей   \n",
       "6          Показать на главной странице баннеры с актуальными акциями и распродажами, чтобы увеличить конверсию   \n",
       "8                                                       Запустить акцию, дающую скидку на товар в день рождения   \n",
       "3           Изменить структура категорий, что увеличит конверсию, т.к. пользователи быстрее найдут нужный товар   \n",
       "1                                     Запустить собственную службу доставки, что сократит срок доставки заказов   \n",
       "5                      Добавить страницу отзывов клиентов о магазине, что позволит увеличить количество заказов   \n",
       "4                              Изменить цвет фона главной страницы, чтобы увеличить вовлеченность пользователей   \n",
       "\n",
       "    RICE  \n",
       "7  112.0  \n",
       "2   56.0  \n",
       "0   40.0  \n",
       "6   40.0  \n",
       "8   16.2  \n",
       "3    9.0  \n",
       "1    4.0  \n",
       "5    4.0  \n",
       "4    3.0  "
      ]
     },
     "execution_count": 111,
     "metadata": {},
     "output_type": "execute_result"
    }
   ],
   "source": [
    "hypothesis['RICE'] = hypothesis['reach'] * hypothesis['impact'] * hypothesis['confidence'] / hypothesis['efforts'].round()\n",
    "hypothesis[['hypothesis','RICE']].sort_values(by='RICE', ascending=False)"
   ]
  },
  {
   "cell_type": "markdown",
   "metadata": {},
   "source": [
    "According to the prioritization calculation using the RICE method, the following hypotheses were in the top 3:\n",
    "1. Adding a subscription form to all main pages to build a customer base for email newsletters,\n",
    "2. Adding blocks of product recommendations to the website of the online store in order to increase the conversion and the average check of the order,\n",
    "3. Adding two new channels to attract traffic, which hopefully will attract 30% more users,\n",
    "\n",
    "Indeed, if we add the Reach factor, the hypothesis about a discount on a product on a birthday of the user loses because it only affects those users who have a birthday on that particular day."
   ]
  },
  {
   "cell_type": "markdown",
   "metadata": {},
   "source": [
    "### Hypothesis Prioritization Conclusion"
   ]
  },
  {
   "cell_type": "code",
   "execution_count": 112,
   "metadata": {},
   "outputs": [
    {
     "data": {
      "text/html": [
       "<div>\n",
       "<style scoped>\n",
       "    .dataframe tbody tr th:only-of-type {\n",
       "        vertical-align: middle;\n",
       "    }\n",
       "\n",
       "    .dataframe tbody tr th {\n",
       "        vertical-align: top;\n",
       "    }\n",
       "\n",
       "    .dataframe thead th {\n",
       "        text-align: right;\n",
       "    }\n",
       "</style>\n",
       "<table border=\"1\" class=\"dataframe\">\n",
       "  <thead>\n",
       "    <tr style=\"text-align: right;\">\n",
       "      <th></th>\n",
       "      <th>hypothesis</th>\n",
       "      <th>reach</th>\n",
       "      <th>impact</th>\n",
       "      <th>confidence</th>\n",
       "      <th>efforts</th>\n",
       "      <th>ICE</th>\n",
       "      <th>RICE</th>\n",
       "    </tr>\n",
       "  </thead>\n",
       "  <tbody>\n",
       "    <tr>\n",
       "      <th>7</th>\n",
       "      <td>Добавить форму подписки на все основные страницы, чтобы собрать базу клиентов для email-рассылок</td>\n",
       "      <td>10</td>\n",
       "      <td>7</td>\n",
       "      <td>8</td>\n",
       "      <td>5</td>\n",
       "      <td>11.200000</td>\n",
       "      <td>112.0</td>\n",
       "    </tr>\n",
       "    <tr>\n",
       "      <th>2</th>\n",
       "      <td>Добавить блоки рекомендаций товаров на сайт интернет магазина, чтобы повысить конверсию и средний чек заказа</td>\n",
       "      <td>8</td>\n",
       "      <td>3</td>\n",
       "      <td>7</td>\n",
       "      <td>3</td>\n",
       "      <td>7.000000</td>\n",
       "      <td>56.0</td>\n",
       "    </tr>\n",
       "    <tr>\n",
       "      <th>0</th>\n",
       "      <td>Добавить два новых канала привлечения трафика, что позволит привлекать на 30% больше пользователей</td>\n",
       "      <td>3</td>\n",
       "      <td>10</td>\n",
       "      <td>8</td>\n",
       "      <td>6</td>\n",
       "      <td>13.333333</td>\n",
       "      <td>40.0</td>\n",
       "    </tr>\n",
       "    <tr>\n",
       "      <th>6</th>\n",
       "      <td>Показать на главной странице баннеры с актуальными акциями и распродажами, чтобы увеличить конверсию</td>\n",
       "      <td>5</td>\n",
       "      <td>3</td>\n",
       "      <td>8</td>\n",
       "      <td>3</td>\n",
       "      <td>8.000000</td>\n",
       "      <td>40.0</td>\n",
       "    </tr>\n",
       "    <tr>\n",
       "      <th>8</th>\n",
       "      <td>Запустить акцию, дающую скидку на товар в день рождения</td>\n",
       "      <td>1</td>\n",
       "      <td>9</td>\n",
       "      <td>9</td>\n",
       "      <td>5</td>\n",
       "      <td>16.200000</td>\n",
       "      <td>16.2</td>\n",
       "    </tr>\n",
       "    <tr>\n",
       "      <th>3</th>\n",
       "      <td>Изменить структура категорий, что увеличит конверсию, т.к. пользователи быстрее найдут нужный товар</td>\n",
       "      <td>8</td>\n",
       "      <td>3</td>\n",
       "      <td>3</td>\n",
       "      <td>8</td>\n",
       "      <td>1.125000</td>\n",
       "      <td>9.0</td>\n",
       "    </tr>\n",
       "    <tr>\n",
       "      <th>1</th>\n",
       "      <td>Запустить собственную службу доставки, что сократит срок доставки заказов</td>\n",
       "      <td>2</td>\n",
       "      <td>5</td>\n",
       "      <td>4</td>\n",
       "      <td>10</td>\n",
       "      <td>2.000000</td>\n",
       "      <td>4.0</td>\n",
       "    </tr>\n",
       "    <tr>\n",
       "      <th>5</th>\n",
       "      <td>Добавить страницу отзывов клиентов о магазине, что позволит увеличить количество заказов</td>\n",
       "      <td>3</td>\n",
       "      <td>2</td>\n",
       "      <td>2</td>\n",
       "      <td>3</td>\n",
       "      <td>1.333333</td>\n",
       "      <td>4.0</td>\n",
       "    </tr>\n",
       "    <tr>\n",
       "      <th>4</th>\n",
       "      <td>Изменить цвет фона главной страницы, чтобы увеличить вовлеченность пользователей</td>\n",
       "      <td>3</td>\n",
       "      <td>1</td>\n",
       "      <td>1</td>\n",
       "      <td>1</td>\n",
       "      <td>1.000000</td>\n",
       "      <td>3.0</td>\n",
       "    </tr>\n",
       "  </tbody>\n",
       "</table>\n",
       "</div>"
      ],
      "text/plain": [
       "                                                                                                     hypothesis  \\\n",
       "7              Добавить форму подписки на все основные страницы, чтобы собрать базу клиентов для email-рассылок   \n",
       "2  Добавить блоки рекомендаций товаров на сайт интернет магазина, чтобы повысить конверсию и средний чек заказа   \n",
       "0            Добавить два новых канала привлечения трафика, что позволит привлекать на 30% больше пользователей   \n",
       "6          Показать на главной странице баннеры с актуальными акциями и распродажами, чтобы увеличить конверсию   \n",
       "8                                                       Запустить акцию, дающую скидку на товар в день рождения   \n",
       "3           Изменить структура категорий, что увеличит конверсию, т.к. пользователи быстрее найдут нужный товар   \n",
       "1                                     Запустить собственную службу доставки, что сократит срок доставки заказов   \n",
       "5                      Добавить страницу отзывов клиентов о магазине, что позволит увеличить количество заказов   \n",
       "4                              Изменить цвет фона главной страницы, чтобы увеличить вовлеченность пользователей   \n",
       "\n",
       "   reach  impact  confidence  efforts        ICE   RICE  \n",
       "7     10       7           8        5  11.200000  112.0  \n",
       "2      8       3           7        3   7.000000   56.0  \n",
       "0      3      10           8        6  13.333333   40.0  \n",
       "6      5       3           8        3   8.000000   40.0  \n",
       "8      1       9           9        5  16.200000   16.2  \n",
       "3      8       3           3        8   1.125000    9.0  \n",
       "1      2       5           4       10   2.000000    4.0  \n",
       "5      3       2           2        3   1.333333    4.0  \n",
       "4      3       1           1        1   1.000000    3.0  "
      ]
     },
     "metadata": {},
     "output_type": "display_data"
    }
   ],
   "source": [
    "display(hypothesis.sort_values(by='RICE', ascending=False))\n",
    "pd.reset_option(\"display.max_colwidth\", 150)"
   ]
  },
  {
   "cell_type": "markdown",
   "metadata": {},
   "source": [
    "If we aggregate the result of hypotheses prioritization by the RICE and ICE methods, we will find out that the two of the top-three hypotheses coincide.\n",
    "\n",
    "These are the following hypotheses: \n",
    "1) add a subscription form on all main pages\n",
    "\n",
    "2) add two new channels to increase traffic.\n",
    "\n",
    "The points scored by each hypothesis by both methods are in the table above\n",
    "\n",
    "Based on them, we can conclude that adding a subscription form is the most promising hypothesis.\n",
    "This hypothesis has slightly less (by 2.1) points on the ICE metric, but significantly more (by 72) points on the RICE method.\n"
   ]
  },
  {
   "cell_type": "markdown",
   "metadata": {},
   "source": [
    "## A/B test analysis"
   ]
  },
  {
   "cell_type": "markdown",
   "metadata": {},
   "source": [
    "In this part of the project, we will analyze the results of the A/B test. We did it based on the hypothesis chosen in the previous part. \n",
    "This is adding a subscription form to all the main pages in order to build a customer base for email newsletters. \n",
    "The analysis consists of the following steps:\n",
    "1. Evaluate the cumulative data (receipt, revenue, conversion) and build the necessary graphs;\n",
    "2. Define abnormal data and outliers;\n",
    "3. Calculate the statistical significance of differences for raw data and for data without outliers;\n",
    "4. Draw conclusions based on the research;\n",
    "5. Decide whether to stop the A / B test or continue it."
   ]
  },
  {
   "cell_type": "markdown",
   "metadata": {},
   "source": [
    "### Data overview"
   ]
  },
  {
   "cell_type": "markdown",
   "metadata": {},
   "source": [
    "In the first part of the project, we already got acquainted with the data, but now we need to pay attention to additional details: how evenly the users are distributed among the test groups and what is going on with the revenue in both groups."
   ]
  },
  {
   "cell_type": "code",
   "execution_count": 113,
   "metadata": {
    "scrolled": false
   },
   "outputs": [
    {
     "data": {
      "text/html": [
       "<div>\n",
       "<style scoped>\n",
       "    .dataframe tbody tr th:only-of-type {\n",
       "        vertical-align: middle;\n",
       "    }\n",
       "\n",
       "    .dataframe tbody tr th {\n",
       "        vertical-align: top;\n",
       "    }\n",
       "\n",
       "    .dataframe thead th {\n",
       "        text-align: right;\n",
       "    }\n",
       "</style>\n",
       "<table border=\"1\" class=\"dataframe\">\n",
       "  <thead>\n",
       "    <tr style=\"text-align: right;\">\n",
       "      <th></th>\n",
       "      <th>transaction_id</th>\n",
       "      <th>visitor_id</th>\n",
       "      <th>date</th>\n",
       "      <th>revenue</th>\n",
       "      <th>group</th>\n",
       "    </tr>\n",
       "  </thead>\n",
       "  <tbody>\n",
       "    <tr>\n",
       "      <th>0</th>\n",
       "      <td>3667963787</td>\n",
       "      <td>3312258926</td>\n",
       "      <td>2019-08-15</td>\n",
       "      <td>1650</td>\n",
       "      <td>B</td>\n",
       "    </tr>\n",
       "    <tr>\n",
       "      <th>1</th>\n",
       "      <td>2804400009</td>\n",
       "      <td>3642806036</td>\n",
       "      <td>2019-08-15</td>\n",
       "      <td>730</td>\n",
       "      <td>B</td>\n",
       "    </tr>\n",
       "    <tr>\n",
       "      <th>2</th>\n",
       "      <td>2961555356</td>\n",
       "      <td>4069496402</td>\n",
       "      <td>2019-08-15</td>\n",
       "      <td>400</td>\n",
       "      <td>A</td>\n",
       "    </tr>\n",
       "    <tr>\n",
       "      <th>3</th>\n",
       "      <td>3797467345</td>\n",
       "      <td>1196621759</td>\n",
       "      <td>2019-08-15</td>\n",
       "      <td>9759</td>\n",
       "      <td>B</td>\n",
       "    </tr>\n",
       "    <tr>\n",
       "      <th>4</th>\n",
       "      <td>2282983706</td>\n",
       "      <td>2322279887</td>\n",
       "      <td>2019-08-15</td>\n",
       "      <td>2308</td>\n",
       "      <td>B</td>\n",
       "    </tr>\n",
       "  </tbody>\n",
       "</table>\n",
       "</div>"
      ],
      "text/plain": [
       "   transaction_id  visitor_id       date  revenue group\n",
       "0      3667963787  3312258926 2019-08-15     1650     B\n",
       "1      2804400009  3642806036 2019-08-15      730     B\n",
       "2      2961555356  4069496402 2019-08-15      400     A\n",
       "3      3797467345  1196621759 2019-08-15     9759     B\n",
       "4      2282983706  2322279887 2019-08-15     2308     B"
      ]
     },
     "execution_count": 113,
     "metadata": {},
     "output_type": "execute_result"
    }
   ],
   "source": [
    "orders.head(5)"
   ]
  },
  {
   "cell_type": "code",
   "execution_count": 114,
   "metadata": {
    "scrolled": false
   },
   "outputs": [
    {
     "data": {
      "text/html": [
       "<div>\n",
       "<style scoped>\n",
       "    .dataframe tbody tr th:only-of-type {\n",
       "        vertical-align: middle;\n",
       "    }\n",
       "\n",
       "    .dataframe tbody tr th {\n",
       "        vertical-align: top;\n",
       "    }\n",
       "\n",
       "    .dataframe thead th {\n",
       "        text-align: right;\n",
       "    }\n",
       "</style>\n",
       "<table border=\"1\" class=\"dataframe\">\n",
       "  <thead>\n",
       "    <tr style=\"text-align: right;\">\n",
       "      <th></th>\n",
       "      <th>visitor_id</th>\n",
       "    </tr>\n",
       "    <tr>\n",
       "      <th>group</th>\n",
       "      <th></th>\n",
       "    </tr>\n",
       "  </thead>\n",
       "  <tbody>\n",
       "    <tr>\n",
       "      <th>A</th>\n",
       "      <td>503</td>\n",
       "    </tr>\n",
       "    <tr>\n",
       "      <th>B</th>\n",
       "      <td>586</td>\n",
       "    </tr>\n",
       "  </tbody>\n",
       "</table>\n",
       "</div>"
      ],
      "text/plain": [
       "       visitor_id\n",
       "group            \n",
       "A             503\n",
       "B             586"
      ]
     },
     "execution_count": 114,
     "metadata": {},
     "output_type": "execute_result"
    }
   ],
   "source": [
    "orders.groupby(['group']).agg({'visitor_id':'nunique'})"
   ]
  },
  {
   "cell_type": "markdown",
   "metadata": {},
   "source": [
    "<a class=\"anchor\" id=\"21-bullet\">"
   ]
  },
  {
   "cell_type": "markdown",
   "metadata": {},
   "source": [
    "We have an assigned group for each user - we see this in the data (dataset <code>orders</code>). If the test is designed correctly, the user's group does not change throughout it. We calculate how many unique groups there are for each user. We take a dataset of orders, group it by user_id, and count the unique number of groups."
   ]
  },
  {
   "cell_type": "code",
   "execution_count": 115,
   "metadata": {
    "scrolled": true
   },
   "outputs": [
    {
     "name": "stdout",
     "output_type": "stream",
     "text": [
      "2019-08-01 00:00:00\n",
      "2019-08-31 00:00:00\n"
     ]
    }
   ],
   "source": [
    "print(orders['date'].min()) \n",
    "print(orders['date'].max())"
   ]
  },
  {
   "cell_type": "code",
   "execution_count": 116,
   "metadata": {
    "scrolled": true
   },
   "outputs": [
    {
     "data": {
      "text/html": [
       "<div>\n",
       "<style scoped>\n",
       "    .dataframe tbody tr th:only-of-type {\n",
       "        vertical-align: middle;\n",
       "    }\n",
       "\n",
       "    .dataframe tbody tr th {\n",
       "        vertical-align: top;\n",
       "    }\n",
       "\n",
       "    .dataframe thead th {\n",
       "        text-align: right;\n",
       "    }\n",
       "</style>\n",
       "<table border=\"1\" class=\"dataframe\">\n",
       "  <thead>\n",
       "    <tr style=\"text-align: right;\">\n",
       "      <th></th>\n",
       "      <th>revenue</th>\n",
       "    </tr>\n",
       "    <tr>\n",
       "      <th>group</th>\n",
       "      <th></th>\n",
       "    </tr>\n",
       "  </thead>\n",
       "  <tbody>\n",
       "    <tr>\n",
       "      <th>A</th>\n",
       "      <td>4084803</td>\n",
       "    </tr>\n",
       "    <tr>\n",
       "      <th>B</th>\n",
       "      <td>5907760</td>\n",
       "    </tr>\n",
       "  </tbody>\n",
       "</table>\n",
       "</div>"
      ],
      "text/plain": [
       "       revenue\n",
       "group         \n",
       "A      4084803\n",
       "B      5907760"
      ]
     },
     "execution_count": 116,
     "metadata": {},
     "output_type": "execute_result"
    }
   ],
   "source": [
    "orders.groupby(['group']).agg({'revenue':'sum'}) # calculated sale's amount"
   ]
  },
  {
   "cell_type": "markdown",
   "metadata": {},
   "source": [
    "We estimated the total amount of revenue in each group - the revenue is significantly higher in raw data in group B. During further analysis, we will determine whether this difference is statistically significant."
   ]
  },
  {
   "cell_type": "code",
   "execution_count": 117,
   "metadata": {
    "scrolled": false
   },
   "outputs": [
    {
     "data": {
      "text/html": [
       "<div>\n",
       "<style scoped>\n",
       "    .dataframe tbody tr th:only-of-type {\n",
       "        vertical-align: middle;\n",
       "    }\n",
       "\n",
       "    .dataframe tbody tr th {\n",
       "        vertical-align: top;\n",
       "    }\n",
       "\n",
       "    .dataframe thead th {\n",
       "        text-align: right;\n",
       "    }\n",
       "</style>\n",
       "<table border=\"1\" class=\"dataframe\">\n",
       "  <thead>\n",
       "    <tr style=\"text-align: right;\">\n",
       "      <th></th>\n",
       "      <th>date</th>\n",
       "      <th>group</th>\n",
       "      <th>visitors</th>\n",
       "    </tr>\n",
       "  </thead>\n",
       "  <tbody>\n",
       "    <tr>\n",
       "      <th>0</th>\n",
       "      <td>2019-08-01</td>\n",
       "      <td>A</td>\n",
       "      <td>719</td>\n",
       "    </tr>\n",
       "    <tr>\n",
       "      <th>1</th>\n",
       "      <td>2019-08-02</td>\n",
       "      <td>A</td>\n",
       "      <td>619</td>\n",
       "    </tr>\n",
       "    <tr>\n",
       "      <th>2</th>\n",
       "      <td>2019-08-03</td>\n",
       "      <td>A</td>\n",
       "      <td>507</td>\n",
       "    </tr>\n",
       "    <tr>\n",
       "      <th>3</th>\n",
       "      <td>2019-08-04</td>\n",
       "      <td>A</td>\n",
       "      <td>717</td>\n",
       "    </tr>\n",
       "    <tr>\n",
       "      <th>4</th>\n",
       "      <td>2019-08-05</td>\n",
       "      <td>A</td>\n",
       "      <td>756</td>\n",
       "    </tr>\n",
       "  </tbody>\n",
       "</table>\n",
       "</div>"
      ],
      "text/plain": [
       "        date group  visitors\n",
       "0 2019-08-01     A       719\n",
       "1 2019-08-02     A       619\n",
       "2 2019-08-03     A       507\n",
       "3 2019-08-04     A       717\n",
       "4 2019-08-05     A       756"
      ]
     },
     "execution_count": 117,
     "metadata": {},
     "output_type": "execute_result"
    }
   ],
   "source": [
    "visitors.head(5) # checked the second dataset"
   ]
  },
  {
   "cell_type": "code",
   "execution_count": 118,
   "metadata": {
    "scrolled": true
   },
   "outputs": [
    {
     "name": "stdout",
     "output_type": "stream",
     "text": [
      "2019-08-01 00:00:00\n",
      "2019-08-31 00:00:00\n"
     ]
    }
   ],
   "source": [
    "print(visitors['date'].min())\n",
    "print(visitors['date'].max()) # the dates in the datasets of visitors and sales are coincide"
   ]
  },
  {
   "cell_type": "code",
   "execution_count": 119,
   "metadata": {
    "scrolled": false
   },
   "outputs": [
    {
     "data": {
      "text/html": [
       "<div>\n",
       "<style scoped>\n",
       "    .dataframe tbody tr th:only-of-type {\n",
       "        vertical-align: middle;\n",
       "    }\n",
       "\n",
       "    .dataframe tbody tr th {\n",
       "        vertical-align: top;\n",
       "    }\n",
       "\n",
       "    .dataframe thead th {\n",
       "        text-align: right;\n",
       "    }\n",
       "</style>\n",
       "<table border=\"1\" class=\"dataframe\">\n",
       "  <thead>\n",
       "    <tr style=\"text-align: right;\">\n",
       "      <th></th>\n",
       "      <th>visitors</th>\n",
       "    </tr>\n",
       "    <tr>\n",
       "      <th>group</th>\n",
       "      <th></th>\n",
       "    </tr>\n",
       "  </thead>\n",
       "  <tbody>\n",
       "    <tr>\n",
       "      <th>A</th>\n",
       "      <td>18736</td>\n",
       "    </tr>\n",
       "    <tr>\n",
       "      <th>B</th>\n",
       "      <td>18916</td>\n",
       "    </tr>\n",
       "  </tbody>\n",
       "</table>\n",
       "</div>"
      ],
      "text/plain": [
       "       visitors\n",
       "group          \n",
       "A         18736\n",
       "B         18916"
      ]
     },
     "execution_count": 119,
     "metadata": {},
     "output_type": "execute_result"
    }
   ],
   "source": [
    "visitors.groupby(['group']).agg({'visitors':'sum'}) # calculated amount of visits"
   ]
  },
  {
   "cell_type": "markdown",
   "metadata": {},
   "source": [
    "We found out that there are users who were distributed in both groups: perhaps these are users who made several orders on different days, so they accidentally came across different types of pages.\n",
    "Unfortunately, this indicates a poor-quality division into groups, although the total number of visitors in each group is approximately the same.\n",
    "We cannot remove these users completely, as they remain in the general list of visitors and cannot be removed from there. Therefore, we will work more carefully with outliers, look at the average number of orders by users, and remove those who made an anomalous number of orders. Most likely, these users will coincide with the incorrectly distributed, because they made more than one order.\n"
   ]
  },
  {
   "cell_type": "markdown",
   "metadata": {},
   "source": [
    "### Calculation of cumulative metrics"
   ]
  },
  {
   "cell_type": "code",
   "execution_count": 120,
   "metadata": {},
   "outputs": [],
   "source": [
    "dates_groups = orders[['date','group']].drop_duplicates()"
   ]
  },
  {
   "cell_type": "markdown",
   "metadata": {},
   "source": [
    "Created an array of unique pairs of date values and test groups."
   ]
  },
  {
   "cell_type": "code",
   "execution_count": 121,
   "metadata": {},
   "outputs": [],
   "source": [
    "orders_aggregated = (\n",
    "                     dates_groups\n",
    "                     .apply(lambda x: orders[np.logical_and(orders['date'] <= x['date'], orders['group'] == x['group'])]\\\n",
    "                     .agg({'date' : 'max', 'group' : 'max', 'transaction_id' : 'nunique', 'visitor_id' : 'nunique', 'revenue' : 'sum'}), axis=1)\n",
    "                     .sort_values(by=['date','group'])\n",
    ")\n",
    "# we get aggregated cumulative daily data of orders"
   ]
  },
  {
   "cell_type": "code",
   "execution_count": 122,
   "metadata": {},
   "outputs": [],
   "source": [
    "visitors_aggregated = (\n",
    "                        dates_groups\n",
    "                        .apply(lambda x: visitors[np.logical_and(visitors['date'] <= x['date'], visitors['group'] == x['group'])]\n",
    "                        .agg({'date' : 'max', 'group' : 'max', 'visitors' : 'sum'}), axis=1)\n",
    "                        .sort_values(by=['date','group'])\n",
    ")\n",
    "# we get aggregated daily cumulative data on online store visitors"
   ]
  },
  {
   "cell_type": "code",
   "execution_count": 123,
   "metadata": {},
   "outputs": [
    {
     "name": "stdout",
     "output_type": "stream",
     "text": [
      "        date group  orders  buyers  revenue  visitors\n",
      "0 2019-08-01     A      24      20   148579       719\n",
      "1 2019-08-01     B      21      20   101217       713\n",
      "2 2019-08-02     A      44      38   242401      1338\n",
      "3 2019-08-02     B      45      43   266748      1294\n",
      "4 2019-08-03     A      68      62   354874      1845\n"
     ]
    }
   ],
   "source": [
    "cumulative_data = orders_aggregated.merge(visitors_aggregated, left_on=['date', 'group'], right_on=['date', 'group'])\n",
    "cumulative_data.columns = ['date', 'group', 'orders', 'buyers', 'revenue', 'visitors']\n",
    "# we combine cumulative data in one table and assign names to its columns\n",
    "print(cumulative_data.head(5)) "
   ]
  },
  {
   "cell_type": "markdown",
   "metadata": {},
   "source": [
    "We build graphs of daily cumulative revenue by groups of A/B testing:"
   ]
  },
  {
   "cell_type": "code",
   "execution_count": 124,
   "metadata": {
    "scrolled": true
   },
   "outputs": [
    {
     "data": {
      "image/png": "[encoded data removed]",
      "text/plain": [
       "<Figure size 432x288 with 1 Axes>"
      ]
     },
     "metadata": {
      "needs_background": "light"
     },
     "output_type": "display_data"
    }
   ],
   "source": [
    "cumulative_revenue_a = cumulative_data[cumulative_data['group']=='A'][['date','revenue', 'orders']]\n",
    "\n",
    "cumulative_revenue_b = cumulative_data[cumulative_data['group']=='B'][['date','revenue', 'orders']]\n",
    "\n",
    "plt.plot(cumulative_revenue_a['date'], cumulative_revenue_a['revenue'], label='A')\n",
    "\n",
    "plt.plot(cumulative_revenue_b['date'], cumulative_revenue_b['revenue'], label='B')\n",
    "plt.xticks(rotation=90)\n",
    "plt.title(\"Daily cumulative revenue\")\n",
    "plt.xlabel(\"Dates\")\n",
    "plt.ylabel(\"Cumulative revenue\")\n",
    "plt.legend() \n",
    "plt.show()"
   ]
  },
  {
   "cell_type": "markdown",
   "metadata": {},
   "source": [
    "Revenue increases almost evenly throughout the test. It’s a good sign.\n",
    "However, the revenue graph of group B at one point is sharply rising. \n",
    "This may be the sign of either a sharp increase in the number of orders or in the price of orders."
   ]
  },
  {
   "cell_type": "markdown",
   "metadata": {},
   "source": [
    "We build graphs of the average bill by groups - we divide the cumulative revenue by the cumulative number of orders:"
   ]
  },
  {
   "cell_type": "code",
   "execution_count": 125,
   "metadata": {
    "scrolled": true
   },
   "outputs": [
    {
     "data": {
      "image/png": "[encoded data removed]",
      "text/plain": [
       "<Figure size 432x288 with 1 Axes>"
      ]
     },
     "metadata": {
      "needs_background": "light"
     },
     "output_type": "display_data"
    }
   ],
   "source": [
    "plt.plot(cumulative_revenue_a['date'], cumulative_revenue_a['revenue']/cumulative_revenue_a['orders'], label='A')\n",
    "plt.plot(cumulative_revenue_b['date'], cumulative_revenue_b['revenue']/cumulative_revenue_b['orders'], label='B')\n",
    "plt.legend()\n",
    "plt.xticks(rotation=90)\n",
    "plt.title(\"Cumulative average check amount\")\n",
    "plt.xlabel(\"Dates\")\n",
    "plt.ylabel(\"Average check amount\")\n",
    "plt.show()"
   ]
  },
  {
   "cell_type": "markdown",
   "metadata": {},
   "source": [
    "The graphs are unpredictable: there were sharp rises in sales in both groups; the average check increased by 1.5 times in group B at one moment. This clearly indicates an outlier in the values."
   ]
  },
  {
   "cell_type": "markdown",
   "metadata": {},
   "source": [
    "We build a graph of the relative difference for the average bill. "
   ]
  },
  {
   "cell_type": "code",
   "execution_count": 126,
   "metadata": {
    "scrolled": true
   },
   "outputs": [
    {
     "data": {
      "image/png": "[encoded data removed]",
      "text/plain": [
       "<Figure size 432x288 with 1 Axes>"
      ]
     },
     "metadata": {
      "needs_background": "light"
     },
     "output_type": "display_data"
    }
   ],
   "source": [
    "cumulative_revenue_merge = cumulative_revenue_a.merge(cumulative_revenue_b, left_on='date', right_on='date', how='left', suffixes=['A', 'B'])\n",
    "# collect data in one dataframe\n",
    "plt.plot(cumulative_revenue_merge['date'], (cumulative_revenue_merge['revenueB']/cumulative_revenue_merge['ordersB'])/(cumulative_revenue_merge['revenueA']/cumulative_revenue_merge['ordersA'])-1)\n",
    "# build the ratio of average bills\n",
    "plt.axhline(y=0, color='black', linestyle='--')\n",
    "# add x axis\n",
    "plt.xticks(rotation=90)\n",
    "plt.title(\"The difference between the average check of group B and the average check of group A\")\n",
    "plt.xlabel(\"Dates\")\n",
    "plt.ylabel(\"Deviation of the average check\")\n",
    "plt.show()"
   ]
  },
  {
   "cell_type": "markdown",
   "metadata": {},
   "source": [
    "At several points, the graph of the difference between the segments rises sharply. This also shows outliers in data."
   ]
  },
  {
   "cell_type": "code",
   "execution_count": 127,
   "metadata": {
    "scrolled": true
   },
   "outputs": [
    {
     "data": {
      "image/png": "[encoded data removed]",
      "text/plain": [
       "<Figure size 432x288 with 1 Axes>"
      ]
     },
     "metadata": {
      "needs_background": "light"
     },
     "output_type": "display_data"
    }
   ],
   "source": [
    "# calculate cumulative conversion\n",
    "cumulative_data['conversion'] = cumulative_data['orders']/cumulative_data['visitors']\n",
    "\n",
    "# slicing data by group A\n",
    "cumulative_data_a = cumulative_data[cumulative_data['group']=='A']\n",
    "\n",
    "# slicing data by group B\n",
    "cumulative_data_b = cumulative_data[cumulative_data['group']=='B']\n",
    "\n",
    "# build graphs\n",
    "plt.plot(cumulative_data_a['date'], cumulative_data_a['conversion'], label='A')\n",
    "plt.plot(cumulative_data_b['date'], cumulative_data_b['conversion'], label='B')\n",
    "plt.legend()\n",
    "\n",
    "# set the scale of the axes\n",
    "\n",
    "plt.xticks(rotation=90)\n",
    "plt.title(\"Cumulative daily conversion\")\n",
    "plt.xlabel(\"Dates\")\n",
    "plt.ylabel(\"Cumulative conversion\")\n",
    "plt.show()"
   ]
  },
  {
   "cell_type": "markdown",
   "metadata": {},
   "source": [
    "The result is an almost symmetrical graph. The groups fluctuated around the same value, but then the conversion of group B took the lead and fixed, while the conversion of group A dropped and also fixed.\n",
    "\n",
    "We build a graph of the relative difference in cumulative conversions:"
   ]
  },
  {
   "cell_type": "code",
   "execution_count": 128,
   "metadata": {
    "scrolled": true
   },
   "outputs": [
    {
     "data": {
      "image/png": "[encoded data removed]",
      "text/plain": [
       "<Figure size 432x288 with 1 Axes>"
      ]
     },
     "metadata": {
      "needs_background": "light"
     },
     "output_type": "display_data"
    }
   ],
   "source": [
    "cumulative_conversion_merge = cumulative_data_a[['date','conversion']].merge(cumulative_data_b[['date','conversion']], left_on='date', right_on='date', how='left', suffixes=['A', 'B'])\n",
    "\n",
    "plt.plot(cumulative_conversion_merge['date'], cumulative_conversion_merge['conversionB']/cumulative_conversion_merge['conversionA']-1, label=\"Относительный прирост конверсии группы B относительно группы A\")\n",
    "\n",
    "plt.axhline(y=0, color='black', linestyle='--')\n",
    "plt.axhline(y=-0.1, color='grey', linestyle='--')\n",
    "\n",
    "plt.xticks(rotation=90)\n",
    "plt.title(\"Difference between conversions of group B and group A\")\n",
    "plt.xlabel(\"Dates\")\n",
    "plt.ylabel(\"Conversion deviation\")\n",
    "plt.show()"
   ]
  },
  {
   "cell_type": "markdown",
   "metadata": {},
   "source": [
    "The conversion of group B was clearly fixed above the conversion of group A.\n",
    "So far, both the graphs and the total revenue show us that sales were better before the implementation of changes."
   ]
  },
  {
   "cell_type": "markdown",
   "metadata": {},
   "source": [
    "### Analysis of outliers"
   ]
  },
  {
   "cell_type": "markdown",
   "metadata": {},
   "source": [
    "As we found out in the charts above, there were clearly outliers in the orders - checks or the number of orders that were significantly different from the average. In this part, we will find them and determine how much they affect the result."
   ]
  },
  {
   "cell_type": "markdown",
   "metadata": {},
   "source": [
    "#### Abnormal number of orders"
   ]
  },
  {
   "cell_type": "markdown",
   "metadata": {},
   "source": [
    "In this part of the project, we will find how many orders for one user are abnormal."
   ]
  },
  {
   "cell_type": "code",
   "execution_count": 129,
   "metadata": {
    "scrolled": false
   },
   "outputs": [
    {
     "name": "stdout",
     "output_type": "stream",
     "text": [
      "         user_id  orders\n",
      "1023  4256040402      11\n",
      "591   2458001652      11\n",
      "569   2378935119       9\n",
      "487   2038680547       8\n",
      "44     199603092       5\n",
      "744   3062433592       5\n",
      "55     237748145       5\n",
      "917   3803269165       5\n",
      "299   1230306981       5\n",
      "897   3717692402       5\n"
     ]
    }
   ],
   "source": [
    "orders_by_users = (\n",
    "    orders.groupby('visitor_id', as_index=False)\n",
    "    .agg({'transaction_id': pd.Series.nunique})\n",
    ")\n",
    "orders_by_users.columns = ['user_id', 'orders']\n",
    "\n",
    "print(orders_by_users.sort_values(by='orders', ascending=False).head(10))"
   ]
  },
  {
   "cell_type": "markdown",
   "metadata": {},
   "source": [
    "We counted the number of orders per user."
   ]
  },
  {
   "cell_type": "code",
   "execution_count": 130,
   "metadata": {
    "scrolled": true
   },
   "outputs": [
    {
     "data": {
      "image/png": "[encoded data removed]",
      "text/plain": [
       "<Figure size 432x288 with 1 Axes>"
      ]
     },
     "metadata": {
      "needs_background": "light"
     },
     "output_type": "display_data"
    }
   ],
   "source": [
    "orders_by_users['orders'].hist(bins=20)\n",
    "plt.title(\"Number of orders per user\")\n",
    "plt.xlabel(\"Number of orders\")\n",
    "plt.ylabel(\"Number of users\")\n",
    "plt.show()"
   ]
  },
  {
   "cell_type": "markdown",
   "metadata": {},
   "source": [
    "We built a histogram showing the distribution of the number of orders per user. The majority of users make one or two orders, rarely three. \n",
    "But there are also users who have made five or even ten orders. To find out how many of these users there are we build a scatterplot.\n"
   ]
  },
  {
   "cell_type": "code",
   "execution_count": 131,
   "metadata": {
    "scrolled": false
   },
   "outputs": [
    {
     "data": {
      "image/png": "[encoded data removed]",
      "text/plain": [
       "<Figure size 432x288 with 1 Axes>"
      ]
     },
     "metadata": {
      "needs_background": "light"
     },
     "output_type": "display_data"
    }
   ],
   "source": [
    "x_values = pd.Series(range(0, len(orders_by_users)))\n",
    "plt.scatter(x_values,orders_by_users['orders'])\n",
    "plt.title(\"Number of orders per user\")\n",
    "plt.xlabel(\"Number of orders\")\n",
    "plt.ylabel(\"Number of users\")\n",
    "plt.show()"
   ]
  },
  {
   "cell_type": "markdown",
   "metadata": {},
   "source": [
    "The scatterplot confirmed the conclusions from the histogram: more than two orders are made by single users, and the majority are still limited to one. "
   ]
  },
  {
   "cell_type": "code",
   "execution_count": 132,
   "metadata": {
    "scrolled": true
   },
   "outputs": [
    {
     "name": "stdout",
     "output_type": "stream",
     "text": [
      "[1. 2. 4.]\n"
     ]
    }
   ],
   "source": [
    "print(np.percentile(orders_by_users['orders'],[90,95,99]))"
   ]
  },
  {
   "cell_type": "markdown",
   "metadata": {},
   "source": [
    "We calculated the percentage distribution of the number of orders. \n",
    "As expected, 90% of users make one order, 5% two, and only 1% of users make more than 4 orders. \n",
    "At the same time, this one percent of users significantly affect the statistics. We consider it an outlier and in the next part of the project, we calculate the statistical coefficients without these orders."
   ]
  },
  {
   "cell_type": "markdown",
   "metadata": {},
   "source": [
    "#### Abnormal order cost"
   ]
  },
  {
   "cell_type": "markdown",
   "metadata": {},
   "source": [
    "In this part, we find out what order cost is abnormal."
   ]
  },
  {
   "cell_type": "code",
   "execution_count": 133,
   "metadata": {
    "scrolled": false
   },
   "outputs": [
    {
     "name": "stdout",
     "output_type": "stream",
     "text": [
      "      transaction_id  visitor_id       date  revenue group\n",
      "425        590470918  1920142716 2019-08-19  1294500     B\n",
      "1196      3936777065  2108080724 2019-08-15   202740     B\n",
      "858        192721366  1316129916 2019-08-27    93940     A\n",
      "1136       666610489  1307669133 2019-08-13    92550     A\n",
      "744       3668308183   888512513 2019-08-27    86620     B\n",
      "682       1216533772  4266935830 2019-08-29    78990     B\n",
      "662       1811671147  4266935830 2019-08-29    78990     A\n",
      "743       3603576309  4133034833 2019-08-09    67990     A\n",
      "1103      1348774318  1164614297 2019-08-12    66350     A\n",
      "1099       316924019   148427295 2019-08-12    65710     A\n"
     ]
    }
   ],
   "source": [
    "print(orders.sort_values(by='revenue', ascending=False).head(10))"
   ]
  },
  {
   "cell_type": "markdown",
   "metadata": {},
   "source": [
    "We have sorted the purchases in descending order. The order cost of the first few checks is clearly higher than the next ones.\n"
   ]
  },
  {
   "cell_type": "code",
   "execution_count": 134,
   "metadata": {
    "scrolled": true
   },
   "outputs": [
    {
     "data": {
      "image/png": "[encoded data removed]",
      "text/plain": [
       "<Figure size 432x288 with 1 Axes>"
      ]
     },
     "metadata": {
      "needs_background": "light"
     },
     "output_type": "display_data"
    }
   ],
   "source": [
    "orders['revenue'].hist(bins=20)\n",
    "plt.title(\"Cost of orders\")\n",
    "plt.xlabel(\"Amount of orders\")\n",
    "plt.ylabel(\"Cost of order\")\n",
    "plt.show()"
   ]
  },
  {
   "cell_type": "markdown",
   "metadata": {},
   "source": [
    "We have built a histogram showing the average cost of the order. The average order is within 50,000 rubles, but there are checks that exceed this sum. To find out how many of these orders there are we build a scatterplot."
   ]
  },
  {
   "cell_type": "code",
   "execution_count": 135,
   "metadata": {
    "scrolled": false
   },
   "outputs": [
    {
     "data": {
      "image/png": "[encoded data removed]",
      "text/plain": [
       "<Figure size 432x288 with 1 Axes>"
      ]
     },
     "metadata": {
      "needs_background": "light"
     },
     "output_type": "display_data"
    }
   ],
   "source": [
    "x_values = pd.Series(range(0, len(orders['revenue'])))\n",
    "plt.scatter(x_values, orders['revenue'])\n",
    "plt.title(\"Cost of orders\")\n",
    "plt.xlabel(\"Amount of orders\")\n",
    "plt.ylabel(\"Cost of order\")\n",
    "plt.show()"
   ]
  },
  {
   "cell_type": "markdown",
   "metadata": {},
   "source": [
    "The scatterplot confirms that the majority of checks are within 50,000 rubles, but there is one that exceeds a million. It is clearly an outlier."
   ]
  },
  {
   "cell_type": "code",
   "execution_count": 136,
   "metadata": {},
   "outputs": [
    {
     "name": "stdout",
     "output_type": "stream",
     "text": [
      "[18168.  28000.  58233.2]\n"
     ]
    }
   ],
   "source": [
    "print(np.percentile(orders['revenue'],[90,95,99]))"
   ]
  },
  {
   "cell_type": "markdown",
   "metadata": {},
   "source": [
    "We calculated the percentage distribution of the cost of orders.  \n",
    "90% of checks are not even within 50,000 rubles, but below 18,000 rubles, the cost of 95% of orders is below 28,000 rubles. And only one percent of checks exceed 58,000 rubles. At the same time, this one percent of orders significantly affect the statistics. We consider it an outlier. In the following part of the project, we will calculate the statistical coefficients without these orders.\n"
   ]
  },
  {
   "cell_type": "markdown",
   "metadata": {},
   "source": [
    "### Analysis of statistical significance on raw data"
   ]
  },
  {
   "cell_type": "markdown",
   "metadata": {},
   "source": [
    "In this part, we find out whether the difference between the two groups is statistically significant. Our <b>null hypothesis</b> is that <b>there is no statistically significant difference between the two groups</b>. The <b>alternative hypothesis</b> that <b>there is a statistically significant difference between the groups</b>. "
   ]
  },
  {
   "cell_type": "markdown",
   "metadata": {},
   "source": [
    "<a class=\"anchor\" id=\"24-bullet\">"
   ]
  },
  {
   "cell_type": "code",
   "execution_count": 137,
   "metadata": {},
   "outputs": [],
   "source": [
    "visitors_a_daily = visitors.query('group == \"A\"')[['date', 'visitors']]\n",
    "visitors_a_daily.columns = ['date', 'visitors_per_date_a'] # number of visitors per day in group A\n",
    "\n",
    "visitors_a_cummulative = visitors_a_daily.apply(\n",
    "    lambda x: visitors_a_daily[visitors_a_daily['date'] <= x['date']].agg(\n",
    "        {'date': 'max', 'visitors_per_date_a': 'sum'}\n",
    "    ),\n",
    "    axis=1,\n",
    ")\n",
    "visitors_a_cummulative.columns = ['date', 'visitors_cummulative_a'] # cumulative number of visitors in group A\n",
    "\n",
    "visitors_b_daily = visitors.query('group == \"B\"')[['date', 'visitors']]\n",
    "visitors_b_daily.columns = ['date', 'visitors_per_date_b'] # number of visitors per day in group B\n",
    "\n",
    "visitors_b_cummulative = visitors_b_daily.apply(\n",
    "    lambda x: visitors_b_daily[visitors_b_daily['date'] <= x['date']].agg(\n",
    "        {'date': 'max', 'visitors_per_date_b': 'sum'}\n",
    "    ),\n",
    "    axis=1,\n",
    ")\n",
    "visitors_b_cummulative.columns = ['date', 'visitors_cummulative_b'] # cumulative number of visitors in group B\n",
    "\n",
    "\n",
    "orders_a_daily = (\n",
    "    orders.query('group == \"A\"')[['date', 'transaction_id', 'visitor_id', 'revenue']]\n",
    "    .groupby('date', as_index=False)\n",
    "    .agg({'transaction_id': pd.Series.nunique, 'revenue': 'sum'})\n",
    ")\n",
    "orders_a_daily.columns = ['date', 'orders_per_date_a', 'revenue_per_date_a'] # daily revenue in group A\n",
    "\n",
    "orders_a_cummulative = orders_a_daily.apply(\n",
    "    lambda x: orders_a_daily[orders_a_daily['date'] <= x['date']].agg(\n",
    "        {'date': 'max', 'orders_per_date_a': 'sum', 'revenue_per_date_a': 'sum'}\n",
    "    ),\n",
    "    axis=1,\n",
    ").sort_values(by=['date'])\n",
    "orders_a_cummulative.columns = [\n",
    "    'date',\n",
    "    'orders_cummulative_a',\n",
    "    'revenue_cummulative_a',\n",
    "] # cumulative revenue in group A\n",
    "\n",
    "orders_b_daily = (\n",
    "    orders.query('group == \"B\"')[['date','transaction_id', 'visitor_id', 'revenue']]\n",
    "    .groupby('date', as_index=False)\n",
    "    .agg({'transaction_id': pd.Series.nunique, 'revenue': 'sum'})\n",
    ")\n",
    "orders_b_daily.columns = ['date', 'orders_per_date_b', 'revenue_per_date_b'] # daily revenue in group A\n",
    "\n",
    "orders_b_cummulative = orders_b_daily.apply(\n",
    "    lambda x: orders_b_daily[orders_b_daily['date'] <= x['date']].agg(\n",
    "        {'date': 'max', 'orders_per_date_b': 'sum', 'revenue_per_date_b': 'sum'}\n",
    "    ),\n",
    "    axis=1,\n",
    ").sort_values(by=['date'])\n",
    "orders_b_cummulative.columns = [\n",
    "    'date',\n",
    "    'orders_cummulative_b',\n",
    "    'revenue_cummulative_b',\n",
    "] # cumulative revenue in group A\n",
    "data = (\n",
    "    orders_a_daily.merge(\n",
    "        orders_b_daily, left_on='date', right_on='date', how='left'\n",
    "    )\n",
    "    .merge(orders_a_cummulative, left_on='date', right_on='date', how='left')\n",
    "    .merge(orders_b_cummulative, left_on='date', right_on='date', how='left')\n",
    "    .merge(visitors_a_daily, left_on='date', right_on='date', how='left')\n",
    "    .merge(visitors_b_daily, left_on='date', right_on='date', how='left')\n",
    "    .merge(visitors_a_cummulative, left_on='date', right_on='date', how='left')\n",
    "    .merge(visitors_b_cummulative, left_on='date', right_on='date', how='left')\n",
    ") # aggregated data"
   ]
  },
  {
   "cell_type": "code",
   "execution_count": 138,
   "metadata": {
    "scrolled": false
   },
   "outputs": [
    {
     "name": "stdout",
     "output_type": "stream",
     "text": [
      "        date  orders_per_date_a  revenue_per_date_a  orders_per_date_b  \\\n",
      "0 2019-08-01                 24              148579                 21   \n",
      "1 2019-08-02                 20               93822                 24   \n",
      "2 2019-08-03                 24              112473                 16   \n",
      "3 2019-08-04                 16               70825                 17   \n",
      "4 2019-08-05                 25              124218                 23   \n",
      "\n",
      "   revenue_per_date_b  orders_cummulative_a  revenue_cummulative_a  \\\n",
      "0              101217                    24                 148579   \n",
      "1              165531                    44                 242401   \n",
      "2              114248                    68                 354874   \n",
      "3              108571                    84                 425699   \n",
      "4               92428                   109                 549917   \n",
      "\n",
      "   orders_cummulative_b  revenue_cummulative_b  visitors_per_date_a  \\\n",
      "0                    21                 101217                  719   \n",
      "1                    45                 266748                  619   \n",
      "2                    61                 380996                  507   \n",
      "3                    78                 489567                  717   \n",
      "4                   101                 581995                  756   \n",
      "\n",
      "   visitors_per_date_b  visitors_cummulative_a  visitors_cummulative_b  \n",
      "0                  713                     719                     713  \n",
      "1                  581                    1338                    1294  \n",
      "2                  509                    1845                    1803  \n",
      "3                  770                    2562                    2573  \n",
      "4                  707                    3318                    3280  \n"
     ]
    }
   ],
   "source": [
    "print(data.head())"
   ]
  },
  {
   "cell_type": "markdown",
   "metadata": {},
   "source": [
    "We aggregated daily data of revenue and the number of visitors in each group in one dataset."
   ]
  },
  {
   "cell_type": "code",
   "execution_count": 139,
   "metadata": {
    "scrolled": true
   },
   "outputs": [
    {
     "name": "stdout",
     "output_type": "stream",
     "text": [
      "Statistical significance of the conversion difference according to the Mann-Whitney test 0.017\n",
      "Relative difference in conversion between groups 0.149\n",
      "We reject the null hypothesis. There is a statistically significant difference between groups A and B.\n",
      "The conversion in group B is higher than the conversion in group A by 14.90 %\n"
     ]
    }
   ],
   "source": [
    "orders_by_users_a = (\n",
    "    orders.query('group == \"A\"')\n",
    "    .groupby('visitor_id', as_index=False)\n",
    "    .agg({'transaction_id':pd.Series.nunique})\n",
    ")\n",
    "orders_by_users_a.columns = ['visitor_id', 'orders']\n",
    "\n",
    "orders_by_users_b = (\n",
    "    orders.query('group == \"B\"')\n",
    "    .groupby('visitor_id', as_index=False)\n",
    "    .agg({'transaction_id':pd.Series.nunique})\n",
    ")\n",
    "orders_by_users_b.columns = ['visitor_id', 'orders']\n",
    "\n",
    "\n",
    "sample_a = pd.concat(\n",
    "    [\n",
    "        orders_by_users_a['orders'],\n",
    "        pd.Series(\n",
    "            0,\n",
    "            index=np.arange(\n",
    "                data['visitors_per_date_a'].sum() - len(orders_by_users_a['orders'])\n",
    "            ),\n",
    "            name='orders',\n",
    "        ),\n",
    "    ],\n",
    "    axis=0,\n",
    ")\n",
    "\n",
    "sample_b = pd.concat(\n",
    "    [\n",
    "        orders_by_users_b['orders'],\n",
    "        pd.Series(\n",
    "            0,\n",
    "            index=np.arange(\n",
    "                data['visitors_per_date_b'].sum() - len(orders_by_users_b['orders'])\n",
    "            ),\n",
    "            name='orders',\n",
    "        ),\n",
    "    ],\n",
    "    axis=0,\n",
    ")\n",
    "mannwhitney_nonfilt = stats.mannwhitneyu(sample_a, sample_b, True, 'two-sided')[1]\n",
    "relative_conversion_nonfilt = data['orders_per_date_b'].sum()/data['visitors_per_date_b'].sum()/(data['orders_per_date_a'].sum()/data['visitors_per_date_b'].sum())-1\n",
    "# created variables where users with orders will match with a number of user orders\n",
    "print('Statistical significance of the conversion difference according to the Mann-Whitney test',\"{0:.3f}\".format(mannwhitney_nonfilt))\n",
    "\n",
    "print('Relative difference in conversion between groups',\"{0:.3f}\".format(relative_conversion_nonfilt))\n",
    "\n",
    "alpha = 0.05 # set the level of significance\n",
    "\n",
    "if mannwhitney_nonfilt < alpha:\n",
    "    print(\"We reject the null hypothesis. There is a statistically significant difference between groups A and B.\")\n",
    "else:\n",
    "    print(\"We accept the null hypothesis. There is no statistically significant difference between groups A and B.\")\n",
    "\n",
    "\n",
    "if relative_conversion_nonfilt:\n",
    "    print('The conversion in group B is higher than the conversion in group A by', '{0:.2f}'.format(relative_conversion_nonfilt*100), '%')\n",
    "else:\n",
    "    print('The conversion in group A is higher than the conversion in group B by', '{0:.2f}'.format(relative_conversion__nonfilt*100), '%')"
   ]
  },
  {
   "cell_type": "markdown",
   "metadata": {},
   "source": [
    "The first number is below The first number is above the accepted significance level of 0.05. This means there is no reason to reject the null hypothesis and believe that there are differences in the average bill. However, the average order cost in group B is significantly higher than the average order cost in group A.\n",
    "To confirm or reject the conclusion, we will calculate the same parameters on the data without outliers.\n",
    "the accepted p-value of 0.05. Therefore, according to raw data, there is a statistically significant difference in conversion between groups. At the same time, the conversion in group B is higher than the conversion in group A by 15%."
   ]
  },
  {
   "cell_type": "code",
   "execution_count": 140,
   "metadata": {},
   "outputs": [
    {
     "name": "stdout",
     "output_type": "stream",
     "text": [
      "Statistical significance of the conversion difference by average check amounts 0.729\n",
      "The relative increase in the average check amount of group B 0.259\n",
      "We accept the null hypothesis. There is no statistically significant difference between the cost of orders in groups A and B.\n",
      "The average order cost in group B is higher than the average order cost in group A by 25.87 %\n"
     ]
    }
   ],
   "source": [
    "mannwhitney_receipt_nf = stats.mannwhitneyu(orders[orders['group']=='A']['revenue'], orders[orders['group']=='B']['revenue'], True, 'two-sided')[1]\n",
    "relative_conversion_receipt_nf = orders[orders['group']=='B']['revenue'].mean()/orders[orders['group']=='A']['revenue'].mean()-1\n",
    "print('Statistical significance of the conversion difference by average check amounts','{0:.3f}'.format(mannwhitney_receipt_nf))\n",
    "print('The relative increase in the average check amount of group B','{0:.3f}'.format(relative_conversion_receipt_nf))\n",
    "\n",
    "alpha = 0.05\n",
    "\n",
    "if mannwhitney_receipt_nf < alpha:\n",
    "    print(\"We reject the null hypothesis. There is a statistically significant difference between the costs of orders in groups A and B.\")\n",
    "else:\n",
    "    print(\"We accept the null hypothesis. There is no statistically significant difference between the cost of orders in groups A and B.\")\n",
    "\n",
    "\n",
    "if relative_conversion_receipt_nf:\n",
    "    print('The average order cost in group B is higher than the average order cost in group A by', '{0:.2f}'.format(relative_conversion_receipt_nf*100), '%')\n",
    "else:\n",
    "    print('The average order cost in group A is higher than the average order cost in group B by', '{0:.2f}'.format(relative_conversion__receipt_nf*100), '%')"
   ]
  },
  {
   "cell_type": "markdown",
   "metadata": {},
   "source": [
    "The first number is above the accepted significance level of 0.05. This means there is no reason to reject the null hypothesis and believe that there are differences in the average bill. However, the average order cost in group B is significantly higher than the average order cost in group A.\n",
    "To confirm or reject the conclusion, we will calculate the same parameters on the data without outliers\n"
   ]
  },
  {
   "cell_type": "markdown",
   "metadata": {},
   "source": [
    "### Analysis of statistical significance on filtered data"
   ]
  },
  {
   "cell_type": "code",
   "execution_count": 141,
   "metadata": {
    "scrolled": true
   },
   "outputs": [
    {
     "name": "stdout",
     "output_type": "stream",
     "text": [
      "1099    148427295\n",
      "18      199603092\n",
      "928     204675465\n",
      "23      237748145\n",
      "37      249864742\n",
      "Name: visitor_id, dtype: int64\n",
      "(74,)\n"
     ]
    }
   ],
   "source": [
    "users_with_many_orders = pd.concat(\n",
    "    [\n",
    "        orders_by_users_a[orders_by_users_a['orders'] > 2]['visitor_id'],\n",
    "        orders_by_users_b[orders_by_users_b['orders'] > 2]['visitor_id'],\n",
    "    ],\n",
    "    axis=0,\n",
    ") # find outliers in the number of orders\n",
    "users_with_expensive_orders = orders[orders['revenue'] > 28000]['visitor_id'] # find outliers in orders cost\n",
    "abnormal_users = (\n",
    "    pd.concat([users_with_many_orders, users_with_expensive_orders], axis=0)\n",
    "    .drop_duplicates()\n",
    "    .sort_values()\n",
    ")\n",
    "print(abnormal_users.head(5))\n",
    "print(abnormal_users.shape)"
   ]
  },
  {
   "cell_type": "markdown",
   "metadata": {},
   "source": [
    "We got a list of users who made either a lot of orders or orders with a high average cost. There are 74 of them."
   ]
  },
  {
   "cell_type": "markdown",
   "metadata": {},
   "source": [
    "We find out how the actions of these users influenced the test results. We calculate the statistical significance of the differences in conversion between test groups based on the filtered data. First, we prepare samples of the number of orders by users by test groups:"
   ]
  },
  {
   "cell_type": "code",
   "execution_count": 142,
   "metadata": {
    "scrolled": false
   },
   "outputs": [
    {
     "name": "stdout",
     "output_type": "stream",
     "text": [
      "Statistical significance of the conversion difference according to the Mann-Whitney test 0.013\n",
      "Relative difference in conversion between groups 0.173\n",
      "We reject the null hypothesis. There is a statistically significant difference between groups A and B.\n",
      "The conversion in group B is higher than the conversion in group A by 17.27 %\n"
     ]
    }
   ],
   "source": [
    "normal_users_a = pd.concat(\n",
    "    [\n",
    "        orders_by_users_a[\n",
    "            np.logical_not(orders_by_users_a['visitor_id'].isin(abnormal_users))\n",
    "        ]['orders'],\n",
    "        pd.Series(\n",
    "            0,\n",
    "            index=np.arange(\n",
    "                data['visitors_per_date_a'].sum() - len(orders_by_users_a['orders'])\n",
    "            ),\n",
    "            name='orders',\n",
    "        ),\n",
    "    ],\n",
    "    axis=0,\n",
    ")\n",
    "\n",
    "normal_users_b = pd.concat(\n",
    "    [\n",
    "        orders_by_users_b[\n",
    "            np.logical_not(orders_by_users_b['visitor_id'].isin(abnormal_users))\n",
    "        ]['orders'],\n",
    "        pd.Series(\n",
    "            0,\n",
    "            index=np.arange(\n",
    "                data['visitors_per_date_b'].sum() - len(orders_by_users_b['orders'])\n",
    "            ),\n",
    "            name='orders',\n",
    "        ),\n",
    "    ],\n",
    "    axis=0,\n",
    ")\n",
    "mannwhitney_filt = stats.mannwhitneyu(normal_users_a, normal_users_b, True, 'two-sided')[1]\n",
    "relative_conversion_filt = normal_users_b.mean()/normal_users_a.mean()-1\n",
    "\n",
    "print('Statistical significance of the conversion difference according to the Mann-Whitney test',\"{0:.3f}\".format(mannwhitney_filt))\n",
    "\n",
    "print('Relative difference in conversion between groups',\"{0:.3f}\".format(relative_conversion_filt))\n",
    "\n",
    "alpha = 0.05 # set the significance level\n",
    "\n",
    "if mannwhitney_filt < alpha:\n",
    "    print(\"We reject the null hypothesis. There is a statistically significant difference between groups A and B.\")\n",
    "else:\n",
    "    print(\"We accept the null hypothesis. There is no statistically significant difference between the cost of orders in groups A and B.\")\n",
    "\n",
    "\n",
    "if relative_conversion_filt:\n",
    "    print('The conversion in group B is higher than the conversion in group A by', '{0:.2f}'.format(relative_conversion_filt*100), '%')\n",
    "else:\n",
    "    print('The conversion in group A is higher than the conversion in group B by', '{0:.2f}'.format(relative_conversion__filt*100), '%')"
   ]
  },
  {
   "cell_type": "markdown",
   "metadata": {},
   "source": [
    "The first number is below the accepted p-value of 0.05. Therefore, according to the filtered data, there is also a difference in conversion between groups. The conversion in group B is higher than the conversion in group A by 17%."
   ]
  },
  {
   "cell_type": "code",
   "execution_count": 143,
   "metadata": {},
   "outputs": [
    {
     "name": "stdout",
     "output_type": "stream",
     "text": [
      "Statistical significance of the conversion difference by average check amounts 0.738\n",
      "The relative increase in the average check amount of group B -0.020\n",
      "We accept the null hypothesis. There is no statistically significant difference between the cost of orders in groups A and B.\n",
      "The average order cost in group B is higher than the average order cost in group A by -1.96 %\n"
     ]
    }
   ],
   "source": [
    "mannwhitney_receipt_f = (\n",
    "            stats.mannwhitneyu(\n",
    "            orders[\n",
    "                np.logical_and(\n",
    "                    orders['group'] == 'A',\n",
    "                    np.logical_not(orders['visitor_id'].isin(abnormal_users)),\n",
    "                )\n",
    "            ]['revenue'],\n",
    "            orders[\n",
    "                np.logical_and(\n",
    "                    orders['group'] == 'B',\n",
    "                    np.logical_not(orders['visitor_id'].isin(abnormal_users)),\n",
    "                )\n",
    "            ]['revenue'],\n",
    "        True, 'two-sided')[1]\n",
    ")\n",
    "print(\"Statistical significance of the conversion difference by average check amounts\",\n",
    "    '{0:.3f}'.format(mannwhitney_receipt_f))\n",
    "relative_conversion_receipt_f = (\n",
    "    orders[\n",
    "            np.logical_and(\n",
    "                orders['group'] == 'B',\n",
    "                np.logical_not(orders['visitor_id'].isin(abnormal_users)),\n",
    "            )\n",
    "        ]['revenue'].mean()\n",
    "        / orders[\n",
    "            np.logical_and(\n",
    "                orders['group'] == 'A',\n",
    "                np.logical_not(orders['visitor_id'].isin(abnormal_users)),\n",
    "            )\n",
    "        ]['revenue'].mean()\n",
    "        - 1\n",
    ")\n",
    "print('The relative increase in the average check amount of group B',\"{0:.3f}\".format(relative_conversion_receipt_f))\n",
    "\n",
    "alpha = 0.05\n",
    "\n",
    "if mannwhitney_receipt_f < alpha:\n",
    "    print(\"We reject the null hypothesis. There is a statistically significant difference between the costs of orders in groups A and B.\")\n",
    "else:\n",
    "    print(\"We accept the null hypothesis. There is no statistically significant difference between the cost of orders in groups A and B.\")\n",
    "\n",
    "\n",
    "if relative_conversion_receipt_f:\n",
    "    print('The average order cost in group B is higher than the average order cost in group A by', '{0:.2f}'.format(relative_conversion_receipt_f*100), '%')\n",
    "else:\n",
    "    print('The average order cost in group A is higher than the average order cost in group B by', '{0:.2f}'.format(relative_conversion__receipt_f*100), '%')"
   ]
  },
  {
   "cell_type": "markdown",
   "metadata": {},
   "source": [
    "Statistical significance is above the set significance level of 0.05. This means there is no reason to reject the null hypothesis and believe that there are significant differences in the average bill.\n",
    "At the same time, the average check of group B is now lower by 2%. Based on the statistical indicators of the filtered data, we can conclude that there are no significant differences between the groups.\n"
   ]
  },
  {
   "cell_type": "markdown",
   "metadata": {},
   "source": [
    "## Overall conclusion"
   ]
  },
  {
   "cell_type": "markdown",
   "metadata": {},
   "source": [
    "Final conclusions on the A / B test:\n",
    "1. There is a statistically significant difference in conversion between groups both on raw data and filtered data.\n",
    "2. For both raw and filtered data, there is no statistically significant difference in the average amount of orders between groups.\n",
    "3. In the raw data, the average cost order in group B was significantly higher than in group A. But in the filtered data, the average cost order in group B is lower than in group A by 2%.\n",
    "4. The graph of the difference in conversion between groups shows that the results of group B are better than group A: they are consistently above the average.\n",
    "\n",
    "Based on the conclusions made, we decide to <b>stop the A/B test</b>.\n",
    "\n",
    "The <b>Hypothesis</b> that adding a sign-up form to all of the main pages will increase revenue to the company <b>was not confirmed</b>.\n",
    "\n",
    "So we can start testing the next theory of adding two new traffic acquisition channels.\n",
    "\n",
    "Hopefully, it turns out to be more promising.\n",
    "\n",
    "Moreover, in the next test, we will need to monitor the distribution of users into groups more thoroughly in case to avoid the situation with users who were divided into both testing groups.\n",
    "Thank you for your attention to the project.\n"
   ]
  }
 ],
 "metadata": {
  "ExecuteTimeLog": [
   {
    "duration": 304,
    "start_time": "2022-01-21T11:06:19.531Z"
   },
   {
    "duration": 1494,
    "start_time": "2022-01-21T11:06:26.327Z"
   },
   {
    "duration": 58,
    "start_time": "2022-01-21T11:06:28.080Z"
   },
   {
    "duration": 25,
    "start_time": "2022-01-21T11:06:30.209Z"
   },
   {
    "duration": 7,
    "start_time": "2022-01-21T11:07:10.423Z"
   },
   {
    "duration": 5,
    "start_time": "2022-01-21T11:07:59.839Z"
   },
   {
    "duration": 253,
    "start_time": "2022-01-21T11:12:22.670Z"
   },
   {
    "duration": 324,
    "start_time": "2022-01-21T11:13:30.772Z"
   },
   {
    "duration": 266,
    "start_time": "2022-01-21T11:13:38.533Z"
   },
   {
    "duration": 4,
    "start_time": "2022-01-21T11:14:00.188Z"
   },
   {
    "duration": 16,
    "start_time": "2022-01-21T11:24:49.202Z"
   },
   {
    "duration": 4,
    "start_time": "2022-01-21T11:25:39.577Z"
   },
   {
    "duration": 9,
    "start_time": "2022-01-21T11:26:24.967Z"
   },
   {
    "duration": 7,
    "start_time": "2022-01-21T11:26:53.128Z"
   },
   {
    "duration": 9,
    "start_time": "2022-01-21T11:31:50.192Z"
   },
   {
    "duration": 9,
    "start_time": "2022-01-21T11:32:12.094Z"
   },
   {
    "duration": 16,
    "start_time": "2022-01-21T11:32:41.837Z"
   },
   {
    "duration": 9,
    "start_time": "2022-01-21T11:32:59.877Z"
   },
   {
    "duration": 16,
    "start_time": "2022-01-21T11:33:03.213Z"
   },
   {
    "duration": 7,
    "start_time": "2022-01-21T11:33:54.461Z"
   },
   {
    "duration": 16,
    "start_time": "2022-01-21T11:33:57.475Z"
   },
   {
    "duration": 7,
    "start_time": "2022-01-21T11:34:40.236Z"
   },
   {
    "duration": 16,
    "start_time": "2022-01-21T11:34:46.873Z"
   },
   {
    "duration": 5,
    "start_time": "2022-01-21T11:35:16.909Z"
   },
   {
    "duration": 7,
    "start_time": "2022-01-21T11:35:20.105Z"
   },
   {
    "duration": 18,
    "start_time": "2022-01-21T11:35:23.244Z"
   },
   {
    "duration": 7,
    "start_time": "2022-01-21T11:35:51.939Z"
   },
   {
    "duration": 17,
    "start_time": "2022-01-21T11:36:03.291Z"
   },
   {
    "duration": 10,
    "start_time": "2022-01-21T11:36:33.281Z"
   },
   {
    "duration": 6,
    "start_time": "2022-01-21T11:36:36.830Z"
   },
   {
    "duration": 17,
    "start_time": "2022-01-21T11:36:38.853Z"
   },
   {
    "duration": 11,
    "start_time": "2022-01-21T11:37:34.600Z"
   },
   {
    "duration": 16,
    "start_time": "2022-01-21T11:37:37.501Z"
   },
   {
    "duration": 10,
    "start_time": "2022-01-21T11:38:26.586Z"
   },
   {
    "duration": 17,
    "start_time": "2022-01-21T11:38:31.334Z"
   },
   {
    "duration": 14,
    "start_time": "2022-01-21T11:39:01.620Z"
   },
   {
    "duration": 16,
    "start_time": "2022-01-21T11:39:03.244Z"
   },
   {
    "duration": 15,
    "start_time": "2022-01-21T11:40:00.296Z"
   },
   {
    "duration": 15,
    "start_time": "2022-01-21T11:43:57.465Z"
   },
   {
    "duration": 13,
    "start_time": "2022-01-21T11:45:02.360Z"
   },
   {
    "duration": 1115,
    "start_time": "2022-01-21T19:54:06.698Z"
   },
   {
    "duration": 63,
    "start_time": "2022-01-21T19:54:07.814Z"
   },
   {
    "duration": 10,
    "start_time": "2022-01-21T19:54:07.878Z"
   },
   {
    "duration": 4,
    "start_time": "2022-01-21T19:54:07.890Z"
   },
   {
    "duration": 393,
    "start_time": "2022-01-21T19:54:07.896Z"
   },
   {
    "duration": -1000,
    "start_time": "2022-01-21T19:54:09.291Z"
   },
   {
    "duration": -1003,
    "start_time": "2022-01-21T19:54:09.295Z"
   },
   {
    "duration": -1005,
    "start_time": "2022-01-21T19:54:09.298Z"
   },
   {
    "duration": -1007,
    "start_time": "2022-01-21T19:54:09.300Z"
   },
   {
    "duration": -1009,
    "start_time": "2022-01-21T19:54:09.303Z"
   },
   {
    "duration": 345,
    "start_time": "2022-01-21T19:54:22.203Z"
   },
   {
    "duration": 7,
    "start_time": "2022-01-21T19:54:29.466Z"
   },
   {
    "duration": 10,
    "start_time": "2022-01-21T19:54:34.986Z"
   },
   {
    "duration": 18,
    "start_time": "2022-01-21T19:54:34.998Z"
   },
   {
    "duration": 15,
    "start_time": "2022-01-21T19:54:35.018Z"
   },
   {
    "duration": 7,
    "start_time": "2022-01-21T19:54:35.034Z"
   },
   {
    "duration": 114,
    "start_time": "2022-01-21T19:54:35.043Z"
   },
   {
    "duration": 429,
    "start_time": "2022-01-21T19:55:06.539Z"
   },
   {
    "duration": 8010,
    "start_time": "2022-01-21T19:57:03.827Z"
   },
   {
    "duration": 237,
    "start_time": "2022-01-21T19:58:45.018Z"
   },
   {
    "duration": 7,
    "start_time": "2022-01-21T20:02:28.921Z"
   },
   {
    "duration": 413,
    "start_time": "2022-01-21T20:07:37.560Z"
   },
   {
    "duration": 2,
    "start_time": "2022-01-21T20:08:01.880Z"
   },
   {
    "duration": 116,
    "start_time": "2022-01-21T20:08:06.976Z"
   },
   {
    "duration": 9,
    "start_time": "2022-01-21T20:09:24.423Z"
   },
   {
    "duration": 358,
    "start_time": "2022-01-21T20:11:15.548Z"
   },
   {
    "duration": 339,
    "start_time": "2022-01-21T20:11:49.199Z"
   },
   {
    "duration": 9,
    "start_time": "2022-01-21T20:12:47.766Z"
   },
   {
    "duration": 111,
    "start_time": "2022-01-21T20:13:19.127Z"
   },
   {
    "duration": 99,
    "start_time": "2022-01-21T20:14:34.463Z"
   },
   {
    "duration": 144,
    "start_time": "2022-01-21T20:15:05.335Z"
   },
   {
    "duration": 244,
    "start_time": "2022-01-21T20:15:41.399Z"
   },
   {
    "duration": 4,
    "start_time": "2022-01-21T20:16:34.719Z"
   },
   {
    "duration": 153,
    "start_time": "2022-01-21T20:18:58.590Z"
   },
   {
    "duration": 151,
    "start_time": "2022-01-21T20:19:17.038Z"
   },
   {
    "duration": 7,
    "start_time": "2022-01-21T20:19:22.383Z"
   },
   {
    "duration": 233,
    "start_time": "2022-01-21T20:19:54.767Z"
   },
   {
    "duration": 9414,
    "start_time": "2022-01-21T20:20:19.470Z"
   },
   {
    "duration": 4,
    "start_time": "2022-01-21T20:20:45.231Z"
   },
   {
    "duration": 1128,
    "start_time": "2022-01-23T17:44:35.203Z"
   },
   {
    "duration": 73,
    "start_time": "2022-01-23T17:44:36.333Z"
   },
   {
    "duration": 12,
    "start_time": "2022-01-23T17:44:36.408Z"
   },
   {
    "duration": 6,
    "start_time": "2022-01-23T17:44:36.422Z"
   },
   {
    "duration": 10,
    "start_time": "2022-01-23T17:44:36.429Z"
   },
   {
    "duration": 12,
    "start_time": "2022-01-23T17:44:36.441Z"
   },
   {
    "duration": 14,
    "start_time": "2022-01-23T17:44:36.455Z"
   },
   {
    "duration": 27,
    "start_time": "2022-01-23T17:44:36.470Z"
   },
   {
    "duration": 9,
    "start_time": "2022-01-23T17:44:36.499Z"
   },
   {
    "duration": 117,
    "start_time": "2022-01-23T17:44:36.510Z"
   },
   {
    "duration": 176,
    "start_time": "2022-01-23T17:44:36.629Z"
   },
   {
    "duration": 292,
    "start_time": "2022-01-23T17:44:36.807Z"
   },
   {
    "duration": 4,
    "start_time": "2022-01-23T17:44:37.101Z"
   },
   {
    "duration": 10,
    "start_time": "2022-01-23T17:44:37.107Z"
   },
   {
    "duration": 239,
    "start_time": "2022-01-23T17:44:37.119Z"
   },
   {
    "duration": 274,
    "start_time": "2022-01-23T17:44:37.360Z"
   },
   {
    "duration": 4,
    "start_time": "2022-01-23T17:44:37.636Z"
   },
   {
    "duration": 262,
    "start_time": "2022-01-23T17:44:37.642Z"
   },
   {
    "duration": 6,
    "start_time": "2022-01-23T17:44:37.906Z"
   },
   {
    "duration": 129,
    "start_time": "2022-01-23T17:44:37.914Z"
   },
   {
    "duration": 8,
    "start_time": "2022-01-23T17:44:38.045Z"
   },
   {
    "duration": 256,
    "start_time": "2022-01-23T17:44:38.055Z"
   },
   {
    "duration": 5487,
    "start_time": "2022-01-23T17:51:00.127Z"
   },
   {
    "duration": 10,
    "start_time": "2022-01-23T17:51:58.641Z"
   },
   {
    "duration": 12,
    "start_time": "2022-01-23T18:02:10.810Z"
   },
   {
    "duration": 17,
    "start_time": "2022-01-23T18:05:55.011Z"
   },
   {
    "duration": 1202,
    "start_time": "2022-01-24T18:58:38.455Z"
   },
   {
    "duration": 77,
    "start_time": "2022-01-24T18:58:39.659Z"
   },
   {
    "duration": 19,
    "start_time": "2022-01-24T18:58:39.738Z"
   },
   {
    "duration": 8,
    "start_time": "2022-01-24T18:58:39.758Z"
   },
   {
    "duration": 19,
    "start_time": "2022-01-24T18:58:39.768Z"
   },
   {
    "duration": 42,
    "start_time": "2022-01-24T18:58:39.788Z"
   },
   {
    "duration": 15,
    "start_time": "2022-01-24T18:58:39.832Z"
   },
   {
    "duration": 9,
    "start_time": "2022-01-24T18:58:39.849Z"
   },
   {
    "duration": 10,
    "start_time": "2022-01-24T18:58:39.860Z"
   },
   {
    "duration": 144,
    "start_time": "2022-01-24T18:58:39.872Z"
   },
   {
    "duration": 221,
    "start_time": "2022-01-24T18:58:40.018Z"
   },
   {
    "duration": 303,
    "start_time": "2022-01-24T18:58:40.241Z"
   },
   {
    "duration": 4,
    "start_time": "2022-01-24T18:58:40.546Z"
   },
   {
    "duration": 13,
    "start_time": "2022-01-24T18:58:40.551Z"
   },
   {
    "duration": 245,
    "start_time": "2022-01-24T18:58:40.565Z"
   },
   {
    "duration": 344,
    "start_time": "2022-01-24T18:58:40.813Z"
   },
   {
    "duration": 4,
    "start_time": "2022-01-24T18:58:41.159Z"
   },
   {
    "duration": 307,
    "start_time": "2022-01-24T18:58:41.165Z"
   },
   {
    "duration": 7,
    "start_time": "2022-01-24T18:58:41.474Z"
   },
   {
    "duration": 163,
    "start_time": "2022-01-24T18:58:41.483Z"
   },
   {
    "duration": 11,
    "start_time": "2022-01-24T18:58:41.648Z"
   },
   {
    "duration": 400,
    "start_time": "2022-01-24T18:58:41.660Z"
   },
   {
    "duration": -46,
    "start_time": "2022-01-24T18:58:42.108Z"
   },
   {
    "duration": -47,
    "start_time": "2022-01-24T18:58:42.110Z"
   },
   {
    "duration": -52,
    "start_time": "2022-01-24T18:58:42.115Z"
   },
   {
    "duration": 9,
    "start_time": "2022-01-24T19:16:27.178Z"
   },
   {
    "duration": 9,
    "start_time": "2022-01-24T19:16:44.084Z"
   },
   {
    "duration": 8,
    "start_time": "2022-01-24T19:16:47.987Z"
   },
   {
    "duration": 254,
    "start_time": "2022-01-24T19:17:49.523Z"
   },
   {
    "duration": 4,
    "start_time": "2022-01-24T19:17:55.316Z"
   },
   {
    "duration": 4,
    "start_time": "2022-01-24T19:18:03.836Z"
   },
   {
    "duration": 85,
    "start_time": "2022-01-24T19:19:06.970Z"
   },
   {
    "duration": 293,
    "start_time": "2022-01-24T19:19:13.258Z"
   },
   {
    "duration": 8,
    "start_time": "2022-01-24T19:21:51.614Z"
   },
   {
    "duration": 10,
    "start_time": "2022-01-24T19:22:42.724Z"
   },
   {
    "duration": 9,
    "start_time": "2022-01-24T19:23:34.026Z"
   },
   {
    "duration": 8,
    "start_time": "2022-01-24T19:23:41.251Z"
   },
   {
    "duration": 6,
    "start_time": "2022-01-24T19:30:59.073Z"
   },
   {
    "duration": 6599,
    "start_time": "2022-01-24T19:32:07.209Z"
   },
   {
    "duration": 196,
    "start_time": "2022-01-24T19:33:21.206Z"
   },
   {
    "duration": 257,
    "start_time": "2022-01-24T19:34:23.606Z"
   },
   {
    "duration": 180,
    "start_time": "2022-01-24T19:34:49.782Z"
   },
   {
    "duration": 193,
    "start_time": "2022-01-24T19:35:46.207Z"
   },
   {
    "duration": 187,
    "start_time": "2022-01-24T19:36:44.487Z"
   },
   {
    "duration": 277,
    "start_time": "2022-01-24T19:38:15.293Z"
   },
   {
    "duration": 6,
    "start_time": "2022-01-24T19:38:22.182Z"
   },
   {
    "duration": 276,
    "start_time": "2022-01-24T19:39:24.692Z"
   },
   {
    "duration": 11,
    "start_time": "2022-01-24T19:40:03.924Z"
   },
   {
    "duration": 214,
    "start_time": "2022-01-24T19:41:26.460Z"
   },
   {
    "duration": 278,
    "start_time": "2022-01-24T19:43:01.844Z"
   },
   {
    "duration": 294,
    "start_time": "2022-01-24T19:45:13.149Z"
   },
   {
    "duration": 195,
    "start_time": "2022-01-24T19:53:54.251Z"
   },
   {
    "duration": 226,
    "start_time": "2022-01-24T19:54:12.146Z"
   },
   {
    "duration": 209,
    "start_time": "2022-01-24T19:54:48.362Z"
   },
   {
    "duration": 219,
    "start_time": "2022-01-24T19:55:27.456Z"
   },
   {
    "duration": 6959,
    "start_time": "2022-01-24T19:59:57.342Z"
   },
   {
    "duration": 6557,
    "start_time": "2022-01-24T20:03:52.390Z"
   },
   {
    "duration": 286,
    "start_time": "2022-01-24T20:04:14.639Z"
   },
   {
    "duration": 260,
    "start_time": "2022-01-24T20:05:11.513Z"
   },
   {
    "duration": 308,
    "start_time": "2022-01-24T20:05:35.430Z"
   },
   {
    "duration": 1635,
    "start_time": "2022-01-25T07:32:31.551Z"
   },
   {
    "duration": 106,
    "start_time": "2022-01-25T07:32:33.189Z"
   },
   {
    "duration": 17,
    "start_time": "2022-01-25T07:32:33.298Z"
   },
   {
    "duration": 13,
    "start_time": "2022-01-25T07:32:33.317Z"
   },
   {
    "duration": 18,
    "start_time": "2022-01-25T07:32:33.332Z"
   },
   {
    "duration": 17,
    "start_time": "2022-01-25T07:32:33.353Z"
   },
   {
    "duration": 21,
    "start_time": "2022-01-25T07:32:33.373Z"
   },
   {
    "duration": 21,
    "start_time": "2022-01-25T07:32:33.397Z"
   },
   {
    "duration": 13,
    "start_time": "2022-01-25T07:32:33.423Z"
   },
   {
    "duration": 34,
    "start_time": "2022-01-25T07:32:33.440Z"
   },
   {
    "duration": 19,
    "start_time": "2022-01-25T07:32:33.477Z"
   },
   {
    "duration": 13,
    "start_time": "2022-01-25T07:32:33.499Z"
   },
   {
    "duration": 14,
    "start_time": "2022-01-25T07:32:33.514Z"
   },
   {
    "duration": 9,
    "start_time": "2022-01-25T07:32:33.564Z"
   },
   {
    "duration": 342,
    "start_time": "2022-01-25T07:32:33.576Z"
   },
   {
    "duration": 287,
    "start_time": "2022-01-25T07:32:33.921Z"
   },
   {
    "duration": 16,
    "start_time": "2022-01-25T07:32:34.211Z"
   },
   {
    "duration": 358,
    "start_time": "2022-01-25T07:32:34.229Z"
   },
   {
    "duration": 371,
    "start_time": "2022-01-25T07:32:34.589Z"
   },
   {
    "duration": 424,
    "start_time": "2022-01-25T07:32:34.965Z"
   },
   {
    "duration": 365,
    "start_time": "2022-01-25T07:32:35.391Z"
   },
   {
    "duration": 453,
    "start_time": "2022-01-25T07:32:35.758Z"
   },
   {
    "duration": 200,
    "start_time": "2022-01-25T07:32:36.213Z"
   },
   {
    "duration": 283,
    "start_time": "2022-01-25T07:32:36.416Z"
   },
   {
    "duration": 440,
    "start_time": "2022-01-25T07:32:36.701Z"
   },
   {
    "duration": 6,
    "start_time": "2022-01-25T07:32:37.143Z"
   },
   {
    "duration": 19,
    "start_time": "2022-01-25T07:32:37.155Z"
   },
   {
    "duration": 329,
    "start_time": "2022-01-25T07:32:37.177Z"
   },
   {
    "duration": 394,
    "start_time": "2022-01-25T07:32:37.508Z"
   },
   {
    "duration": 6,
    "start_time": "2022-01-25T07:32:37.906Z"
   },
   {
    "duration": 489,
    "start_time": "2022-01-25T07:32:37.915Z"
   },
   {
    "duration": 12,
    "start_time": "2022-01-25T07:32:38.406Z"
   },
   {
    "duration": 274,
    "start_time": "2022-01-25T07:32:38.421Z"
   },
   {
    "duration": 17,
    "start_time": "2022-01-25T07:32:38.698Z"
   },
   {
    "duration": 48,
    "start_time": "2022-01-25T07:32:38.718Z"
   },
   {
    "duration": 21,
    "start_time": "2022-01-25T07:32:38.770Z"
   },
   {
    "duration": 21,
    "start_time": "2022-01-25T07:32:38.794Z"
   },
   {
    "duration": 421,
    "start_time": "2022-01-25T07:33:52.036Z"
   },
   {
    "duration": 5,
    "start_time": "2022-01-25T07:34:04.927Z"
   },
   {
    "duration": 111,
    "start_time": "2022-01-25T11:03:30.481Z"
   },
   {
    "duration": 1053,
    "start_time": "2022-01-25T11:04:17.096Z"
   },
   {
    "duration": 757,
    "start_time": "2022-01-25T11:04:27.267Z"
   },
   {
    "duration": 723,
    "start_time": "2022-01-25T11:05:10.918Z"
   },
   {
    "duration": 812,
    "start_time": "2022-01-25T11:09:03.630Z"
   },
   {
    "duration": 781,
    "start_time": "2022-01-25T11:09:12.950Z"
   },
   {
    "duration": 76,
    "start_time": "2022-01-25T11:12:54.556Z"
   },
   {
    "duration": 19,
    "start_time": "2022-01-25T11:13:00.212Z"
   },
   {
    "duration": 72,
    "start_time": "2022-01-25T11:14:46.872Z"
   },
   {
    "duration": 17,
    "start_time": "2022-01-25T11:14:49.988Z"
   },
   {
    "duration": 12,
    "start_time": "2022-01-25T11:16:13.390Z"
   },
   {
    "duration": 16,
    "start_time": "2022-01-25T11:16:15.334Z"
   },
   {
    "duration": 16,
    "start_time": "2022-01-25T11:21:34.808Z"
   },
   {
    "duration": 6,
    "start_time": "2022-01-25T11:22:16.516Z"
   },
   {
    "duration": 6,
    "start_time": "2022-01-25T11:22:28.728Z"
   },
   {
    "duration": 6,
    "start_time": "2022-01-25T11:22:55.529Z"
   },
   {
    "duration": 5,
    "start_time": "2022-01-25T11:28:13.160Z"
   },
   {
    "duration": 7,
    "start_time": "2022-01-25T11:28:18.039Z"
   },
   {
    "duration": 5,
    "start_time": "2022-01-25T11:28:46.026Z"
   },
   {
    "duration": 17,
    "start_time": "2022-01-25T11:29:40.552Z"
   },
   {
    "duration": 7,
    "start_time": "2022-01-25T11:31:00.336Z"
   },
   {
    "duration": 12,
    "start_time": "2022-01-25T11:38:34.323Z"
   },
   {
    "duration": 14,
    "start_time": "2022-01-25T11:41:56.330Z"
   },
   {
    "duration": 13,
    "start_time": "2022-01-25T11:50:12.744Z"
   },
   {
    "duration": 9,
    "start_time": "2022-01-25T11:55:23.184Z"
   },
   {
    "duration": 13,
    "start_time": "2022-01-25T11:55:32.092Z"
   },
   {
    "duration": 15,
    "start_time": "2022-01-25T11:55:58.344Z"
   },
   {
    "duration": 16,
    "start_time": "2022-01-25T11:56:10.208Z"
   },
   {
    "duration": 15,
    "start_time": "2022-01-25T11:57:21.098Z"
   },
   {
    "duration": 14,
    "start_time": "2022-01-25T11:57:37.405Z"
   },
   {
    "duration": 14,
    "start_time": "2022-01-25T11:57:44.008Z"
   },
   {
    "duration": 5,
    "start_time": "2022-01-25T11:57:50.240Z"
   },
   {
    "duration": 15,
    "start_time": "2022-01-25T11:57:57.550Z"
   },
   {
    "duration": 15,
    "start_time": "2022-01-25T11:58:01.247Z"
   },
   {
    "duration": 16,
    "start_time": "2022-01-25T11:58:04.541Z"
   },
   {
    "duration": 16,
    "start_time": "2022-01-25T11:58:12.021Z"
   },
   {
    "duration": 14,
    "start_time": "2022-01-25T11:58:14.966Z"
   },
   {
    "duration": 17,
    "start_time": "2022-01-25T11:58:26.838Z"
   },
   {
    "duration": 4,
    "start_time": "2022-01-25T11:58:37.852Z"
   },
   {
    "duration": 72,
    "start_time": "2022-01-25T11:58:37.863Z"
   },
   {
    "duration": 16,
    "start_time": "2022-01-25T11:58:37.937Z"
   },
   {
    "duration": 11,
    "start_time": "2022-01-25T11:58:38.000Z"
   },
   {
    "duration": 16,
    "start_time": "2022-01-25T11:58:38.102Z"
   },
   {
    "duration": 15,
    "start_time": "2022-01-25T11:58:38.120Z"
   },
   {
    "duration": 12,
    "start_time": "2022-01-25T11:58:38.214Z"
   },
   {
    "duration": 11,
    "start_time": "2022-01-25T11:58:38.228Z"
   },
   {
    "duration": 15,
    "start_time": "2022-01-25T11:58:38.328Z"
   },
   {
    "duration": 19,
    "start_time": "2022-01-25T11:58:38.347Z"
   },
   {
    "duration": 18,
    "start_time": "2022-01-25T11:58:38.370Z"
   },
   {
    "duration": 12,
    "start_time": "2022-01-25T11:58:38.391Z"
   },
   {
    "duration": 13,
    "start_time": "2022-01-25T11:58:38.406Z"
   },
   {
    "duration": 48,
    "start_time": "2022-01-25T11:58:38.421Z"
   },
   {
    "duration": 13,
    "start_time": "2022-01-25T11:58:38.472Z"
   },
   {
    "duration": 18,
    "start_time": "2022-01-25T11:58:38.487Z"
   },
   {
    "duration": 8,
    "start_time": "2022-01-25T11:58:38.508Z"
   },
   {
    "duration": 345,
    "start_time": "2022-01-25T11:58:38.566Z"
   },
   {
    "duration": 285,
    "start_time": "2022-01-25T11:58:38.914Z"
   },
   {
    "duration": 15,
    "start_time": "2022-01-25T11:58:39.201Z"
   },
   {
    "duration": 348,
    "start_time": "2022-01-25T11:58:39.219Z"
   },
   {
    "duration": 335,
    "start_time": "2022-01-25T11:58:39.569Z"
   },
   {
    "duration": 428,
    "start_time": "2022-01-25T11:58:39.908Z"
   },
   {
    "duration": 346,
    "start_time": "2022-01-25T11:58:40.338Z"
   },
   {
    "duration": 457,
    "start_time": "2022-01-25T11:58:40.686Z"
   },
   {
    "duration": 234,
    "start_time": "2022-01-25T11:58:41.146Z"
   },
   {
    "duration": 286,
    "start_time": "2022-01-25T11:58:41.383Z"
   },
   {
    "duration": 399,
    "start_time": "2022-01-25T11:58:41.671Z"
   },
   {
    "duration": 6,
    "start_time": "2022-01-25T11:58:42.073Z"
   },
   {
    "duration": 12,
    "start_time": "2022-01-25T11:58:42.082Z"
   },
   {
    "duration": 363,
    "start_time": "2022-01-25T11:58:42.097Z"
   },
   {
    "duration": 425,
    "start_time": "2022-01-25T11:58:42.465Z"
   },
   {
    "duration": 7,
    "start_time": "2022-01-25T11:58:42.893Z"
   },
   {
    "duration": 590,
    "start_time": "2022-01-25T11:58:42.903Z"
   },
   {
    "duration": 10,
    "start_time": "2022-01-25T11:58:43.495Z"
   },
   {
    "duration": 241,
    "start_time": "2022-01-25T11:58:43.507Z"
   },
   {
    "duration": 23,
    "start_time": "2022-01-25T11:58:43.750Z"
   },
   {
    "duration": 13,
    "start_time": "2022-01-25T11:58:43.776Z"
   },
   {
    "duration": 18,
    "start_time": "2022-01-25T11:58:43.792Z"
   },
   {
    "duration": 62,
    "start_time": "2022-01-25T11:58:43.813Z"
   },
   {
    "duration": 344,
    "start_time": "2022-01-25T18:47:00.988Z"
   },
   {
    "duration": 1508,
    "start_time": "2022-01-25T18:47:04.929Z"
   },
   {
    "duration": 72,
    "start_time": "2022-01-25T18:47:06.440Z"
   },
   {
    "duration": 18,
    "start_time": "2022-01-25T18:47:06.515Z"
   },
   {
    "duration": 24,
    "start_time": "2022-01-25T18:47:06.535Z"
   },
   {
    "duration": 39,
    "start_time": "2022-01-25T18:47:06.562Z"
   },
   {
    "duration": 17,
    "start_time": "2022-01-25T18:47:06.604Z"
   },
   {
    "duration": 15,
    "start_time": "2022-01-25T18:47:06.624Z"
   },
   {
    "duration": 5,
    "start_time": "2022-01-25T18:47:06.643Z"
   },
   {
    "duration": 14,
    "start_time": "2022-01-25T18:47:06.667Z"
   },
   {
    "duration": 14,
    "start_time": "2022-01-25T18:47:06.685Z"
   },
   {
    "duration": 25,
    "start_time": "2022-01-25T18:47:06.702Z"
   },
   {
    "duration": 43,
    "start_time": "2022-01-25T18:47:06.729Z"
   },
   {
    "duration": 12,
    "start_time": "2022-01-25T18:47:06.775Z"
   },
   {
    "duration": 13,
    "start_time": "2022-01-25T18:47:06.790Z"
   },
   {
    "duration": 32,
    "start_time": "2022-01-25T18:47:06.805Z"
   },
   {
    "duration": 43,
    "start_time": "2022-01-25T18:47:06.839Z"
   },
   {
    "duration": 321,
    "start_time": "2022-01-25T18:47:06.884Z"
   },
   {
    "duration": 286,
    "start_time": "2022-01-25T18:47:07.207Z"
   },
   {
    "duration": 13,
    "start_time": "2022-01-25T18:47:07.496Z"
   },
   {
    "duration": 359,
    "start_time": "2022-01-25T18:47:07.512Z"
   },
   {
    "duration": 304,
    "start_time": "2022-01-25T18:47:07.873Z"
   },
   {
    "duration": 392,
    "start_time": "2022-01-25T18:47:08.180Z"
   },
   {
    "duration": 337,
    "start_time": "2022-01-25T18:47:08.574Z"
   },
   {
    "duration": 490,
    "start_time": "2022-01-25T18:47:08.914Z"
   },
   {
    "duration": 201,
    "start_time": "2022-01-25T18:47:09.406Z"
   },
   {
    "duration": 267,
    "start_time": "2022-01-25T18:47:09.610Z"
   },
   {
    "duration": 474,
    "start_time": "2022-01-25T18:47:09.882Z"
   },
   {
    "duration": 10,
    "start_time": "2022-01-25T18:47:10.358Z"
   },
   {
    "duration": 11,
    "start_time": "2022-01-25T18:47:10.371Z"
   },
   {
    "duration": 309,
    "start_time": "2022-01-25T18:47:10.385Z"
   },
   {
    "duration": 370,
    "start_time": "2022-01-25T18:47:10.697Z"
   },
   {
    "duration": 7,
    "start_time": "2022-01-25T18:47:11.069Z"
   },
   {
    "duration": 481,
    "start_time": "2022-01-25T18:47:11.078Z"
   },
   {
    "duration": 10,
    "start_time": "2022-01-25T18:47:11.562Z"
   },
   {
    "duration": 245,
    "start_time": "2022-01-25T18:47:11.574Z"
   },
   {
    "duration": 15,
    "start_time": "2022-01-25T18:47:11.822Z"
   },
   {
    "duration": 34,
    "start_time": "2022-01-25T18:47:11.839Z"
   },
   {
    "duration": 18,
    "start_time": "2022-01-25T18:47:11.875Z"
   },
   {
    "duration": 19,
    "start_time": "2022-01-25T18:47:11.895Z"
   },
   {
    "duration": 8,
    "start_time": "2022-01-25T18:59:14.873Z"
   },
   {
    "duration": 97,
    "start_time": "2022-01-25T18:59:27.253Z"
   },
   {
    "duration": 9,
    "start_time": "2022-01-25T18:59:35.976Z"
   },
   {
    "duration": 8,
    "start_time": "2022-01-25T19:00:46.329Z"
   },
   {
    "duration": 6,
    "start_time": "2022-01-25T19:00:55.356Z"
   },
   {
    "duration": 6,
    "start_time": "2022-01-25T19:01:28.224Z"
   },
   {
    "duration": 6,
    "start_time": "2022-01-25T19:01:49.650Z"
   },
   {
    "duration": 316,
    "start_time": "2022-01-25T19:30:59.116Z"
   },
   {
    "duration": 358,
    "start_time": "2022-01-25T19:31:21.758Z"
   },
   {
    "duration": 433,
    "start_time": "2022-01-25T19:32:37.420Z"
   },
   {
    "duration": 368,
    "start_time": "2022-01-25T19:35:43.760Z"
   },
   {
    "duration": 27,
    "start_time": "2022-01-25T20:11:56.802Z"
   },
   {
    "duration": 12,
    "start_time": "2022-01-25T20:12:24.900Z"
   },
   {
    "duration": 13,
    "start_time": "2022-01-25T20:12:38.887Z"
   },
   {
    "duration": 486,
    "start_time": "2022-01-25T20:17:55.403Z"
   },
   {
    "duration": 7,
    "start_time": "2022-01-25T20:18:05.212Z"
   },
   {
    "duration": 7,
    "start_time": "2022-01-25T20:18:15.186Z"
   },
   {
    "duration": 7,
    "start_time": "2022-01-25T20:18:35.739Z"
   },
   {
    "duration": 6,
    "start_time": "2022-01-25T20:19:43.861Z"
   },
   {
    "duration": 9,
    "start_time": "2022-01-25T20:21:52.337Z"
   },
   {
    "duration": 10,
    "start_time": "2022-01-25T20:22:03.072Z"
   },
   {
    "duration": 8,
    "start_time": "2022-01-25T20:22:18.608Z"
   },
   {
    "duration": 5,
    "start_time": "2022-01-25T20:23:57.964Z"
   },
   {
    "duration": 17,
    "start_time": "2022-01-25T20:26:42.971Z"
   },
   {
    "duration": 13,
    "start_time": "2022-01-25T20:27:00.102Z"
   },
   {
    "duration": 1210,
    "start_time": "2022-01-26T05:51:50.471Z"
   },
   {
    "duration": 71,
    "start_time": "2022-01-26T05:51:51.683Z"
   },
   {
    "duration": 16,
    "start_time": "2022-01-26T05:51:51.756Z"
   },
   {
    "duration": 11,
    "start_time": "2022-01-26T05:51:51.774Z"
   },
   {
    "duration": 15,
    "start_time": "2022-01-26T05:51:51.787Z"
   },
   {
    "duration": 13,
    "start_time": "2022-01-26T05:51:51.804Z"
   },
   {
    "duration": 10,
    "start_time": "2022-01-26T05:51:51.818Z"
   },
   {
    "duration": 6,
    "start_time": "2022-01-26T05:51:51.830Z"
   },
   {
    "duration": 15,
    "start_time": "2022-01-26T05:51:51.840Z"
   },
   {
    "duration": 12,
    "start_time": "2022-01-26T05:51:51.857Z"
   },
   {
    "duration": 44,
    "start_time": "2022-01-26T05:51:51.871Z"
   },
   {
    "duration": 15,
    "start_time": "2022-01-26T05:51:51.917Z"
   },
   {
    "duration": 9,
    "start_time": "2022-01-26T05:51:51.934Z"
   },
   {
    "duration": 16,
    "start_time": "2022-01-26T05:51:51.945Z"
   },
   {
    "duration": 19,
    "start_time": "2022-01-26T05:51:51.963Z"
   },
   {
    "duration": 28,
    "start_time": "2022-01-26T05:51:51.983Z"
   },
   {
    "duration": 18,
    "start_time": "2022-01-26T05:51:52.013Z"
   },
   {
    "duration": 15,
    "start_time": "2022-01-26T05:51:52.033Z"
   },
   {
    "duration": 23,
    "start_time": "2022-01-26T05:51:52.050Z"
   },
   {
    "duration": 23,
    "start_time": "2022-01-26T05:51:52.076Z"
   },
   {
    "duration": 208,
    "start_time": "2022-01-26T05:51:52.101Z"
   },
   {
    "duration": 170,
    "start_time": "2022-01-26T05:51:52.311Z"
   },
   {
    "duration": 24,
    "start_time": "2022-01-26T05:51:52.483Z"
   },
   {
    "duration": 218,
    "start_time": "2022-01-26T05:51:52.509Z"
   },
   {
    "duration": 217,
    "start_time": "2022-01-26T05:51:52.729Z"
   },
   {
    "duration": 293,
    "start_time": "2022-01-26T05:51:52.948Z"
   },
   {
    "duration": 207,
    "start_time": "2022-01-26T05:51:53.245Z"
   },
   {
    "duration": 317,
    "start_time": "2022-01-26T05:51:53.454Z"
   },
   {
    "duration": 112,
    "start_time": "2022-01-26T05:51:53.772Z"
   },
   {
    "duration": 178,
    "start_time": "2022-01-26T05:51:53.886Z"
   },
   {
    "duration": 336,
    "start_time": "2022-01-26T05:51:54.065Z"
   },
   {
    "duration": 5,
    "start_time": "2022-01-26T05:51:54.408Z"
   },
   {
    "duration": 12,
    "start_time": "2022-01-26T05:51:54.415Z"
   },
   {
    "duration": 204,
    "start_time": "2022-01-26T05:51:54.429Z"
   },
   {
    "duration": 282,
    "start_time": "2022-01-26T05:51:54.635Z"
   },
   {
    "duration": 5,
    "start_time": "2022-01-26T05:51:54.919Z"
   },
   {
    "duration": 299,
    "start_time": "2022-01-26T05:51:54.926Z"
   },
   {
    "duration": 9,
    "start_time": "2022-01-26T05:51:55.227Z"
   },
   {
    "duration": 143,
    "start_time": "2022-01-26T05:51:55.239Z"
   },
   {
    "duration": 11,
    "start_time": "2022-01-26T05:51:55.384Z"
   },
   {
    "duration": 10,
    "start_time": "2022-01-26T05:51:55.407Z"
   },
   {
    "duration": 19,
    "start_time": "2022-01-26T05:51:55.418Z"
   },
   {
    "duration": 16,
    "start_time": "2022-01-26T05:51:55.439Z"
   },
   {
    "duration": 21,
    "start_time": "2022-01-26T05:57:32.562Z"
   },
   {
    "duration": 11,
    "start_time": "2022-01-26T06:00:40.299Z"
   },
   {
    "duration": 23,
    "start_time": "2022-01-26T06:01:34.455Z"
   },
   {
    "duration": 93,
    "start_time": "2022-01-26T06:02:30.433Z"
   },
   {
    "duration": 11,
    "start_time": "2022-01-26T06:02:51.217Z"
   },
   {
    "duration": 8,
    "start_time": "2022-01-26T06:03:35.033Z"
   },
   {
    "duration": 404,
    "start_time": "2022-01-26T06:03:44.167Z"
   },
   {
    "duration": 9,
    "start_time": "2022-01-26T06:03:51.112Z"
   },
   {
    "duration": 89,
    "start_time": "2022-01-26T06:04:52.874Z"
   },
   {
    "duration": 12,
    "start_time": "2022-01-26T06:05:37.071Z"
   },
   {
    "duration": 82,
    "start_time": "2022-01-26T06:08:04.847Z"
   },
   {
    "duration": 94,
    "start_time": "2022-01-26T06:08:22.748Z"
   },
   {
    "duration": 92,
    "start_time": "2022-01-26T06:08:35.922Z"
   },
   {
    "duration": 281,
    "start_time": "2022-01-26T06:08:43.081Z"
   },
   {
    "duration": 246,
    "start_time": "2022-01-26T06:08:58.562Z"
   },
   {
    "duration": 8,
    "start_time": "2022-01-26T06:09:12.172Z"
   },
   {
    "duration": 20,
    "start_time": "2022-01-26T06:09:25.545Z"
   },
   {
    "duration": 261,
    "start_time": "2022-01-26T06:10:38.222Z"
   },
   {
    "duration": 85,
    "start_time": "2022-01-26T06:11:02.266Z"
   },
   {
    "duration": 294,
    "start_time": "2022-01-26T06:11:28.254Z"
   },
   {
    "duration": 15,
    "start_time": "2022-01-26T06:11:45.741Z"
   },
   {
    "duration": 253,
    "start_time": "2022-01-26T06:12:00.421Z"
   },
   {
    "duration": 18,
    "start_time": "2022-01-26T06:12:08.428Z"
   },
   {
    "duration": 14,
    "start_time": "2022-01-26T06:12:45.156Z"
   },
   {
    "duration": 252,
    "start_time": "2022-01-26T06:13:26.779Z"
   },
   {
    "duration": 270,
    "start_time": "2022-01-26T06:13:36.284Z"
   },
   {
    "duration": 265,
    "start_time": "2022-01-26T06:13:43.841Z"
   },
   {
    "duration": 18,
    "start_time": "2022-01-26T06:13:53.247Z"
   },
   {
    "duration": 15,
    "start_time": "2022-01-26T06:25:27.585Z"
   },
   {
    "duration": 196,
    "start_time": "2022-01-26T06:26:11.057Z"
   },
   {
    "duration": 204,
    "start_time": "2022-01-26T06:26:23.943Z"
   },
   {
    "duration": 4,
    "start_time": "2022-01-26T07:40:27.725Z"
   },
   {
    "duration": 84,
    "start_time": "2022-01-26T07:40:27.735Z"
   },
   {
    "duration": 14,
    "start_time": "2022-01-26T07:40:27.822Z"
   },
   {
    "duration": 11,
    "start_time": "2022-01-26T07:40:27.839Z"
   },
   {
    "duration": 12,
    "start_time": "2022-01-26T07:40:27.853Z"
   },
   {
    "duration": 10,
    "start_time": "2022-01-26T07:40:27.867Z"
   },
   {
    "duration": 39,
    "start_time": "2022-01-26T07:40:27.880Z"
   },
   {
    "duration": 6,
    "start_time": "2022-01-26T07:40:27.921Z"
   },
   {
    "duration": 12,
    "start_time": "2022-01-26T07:40:27.931Z"
   },
   {
    "duration": 14,
    "start_time": "2022-01-26T07:40:27.946Z"
   },
   {
    "duration": 56,
    "start_time": "2022-01-26T07:40:27.962Z"
   },
   {
    "duration": 13,
    "start_time": "2022-01-26T07:40:28.020Z"
   },
   {
    "duration": 15,
    "start_time": "2022-01-26T07:40:28.035Z"
   },
   {
    "duration": 11,
    "start_time": "2022-01-26T07:40:28.052Z"
   },
   {
    "duration": 42,
    "start_time": "2022-01-26T07:40:28.065Z"
   },
   {
    "duration": 16,
    "start_time": "2022-01-26T07:40:28.109Z"
   },
   {
    "duration": 10,
    "start_time": "2022-01-26T07:40:28.127Z"
   },
   {
    "duration": 13,
    "start_time": "2022-01-26T07:40:28.139Z"
   },
   {
    "duration": 11,
    "start_time": "2022-01-26T07:40:28.154Z"
   },
   {
    "duration": 15,
    "start_time": "2022-01-26T07:40:28.167Z"
   },
   {
    "duration": 31,
    "start_time": "2022-01-26T07:40:28.184Z"
   },
   {
    "duration": 9,
    "start_time": "2022-01-26T07:40:28.217Z"
   },
   {
    "duration": 220,
    "start_time": "2022-01-26T07:40:28.228Z"
   },
   {
    "duration": 192,
    "start_time": "2022-01-26T07:40:28.451Z"
   },
   {
    "duration": 12,
    "start_time": "2022-01-26T07:40:28.645Z"
   },
   {
    "duration": 240,
    "start_time": "2022-01-26T07:40:28.659Z"
   },
   {
    "duration": 232,
    "start_time": "2022-01-26T07:40:28.901Z"
   },
   {
    "duration": 327,
    "start_time": "2022-01-26T07:40:29.135Z"
   },
   {
    "duration": 233,
    "start_time": "2022-01-26T07:40:29.464Z"
   },
   {
    "duration": 367,
    "start_time": "2022-01-26T07:40:29.708Z"
   },
   {
    "duration": 115,
    "start_time": "2022-01-26T07:40:30.077Z"
   },
   {
    "duration": 195,
    "start_time": "2022-01-26T07:40:30.194Z"
   },
   {
    "duration": 440,
    "start_time": "2022-01-26T07:40:30.392Z"
   },
   {
    "duration": 5,
    "start_time": "2022-01-26T07:40:30.836Z"
   },
   {
    "duration": 24,
    "start_time": "2022-01-26T07:40:30.844Z"
   },
   {
    "duration": 275,
    "start_time": "2022-01-26T07:40:30.871Z"
   },
   {
    "duration": 290,
    "start_time": "2022-01-26T07:40:31.148Z"
   },
   {
    "duration": 5,
    "start_time": "2022-01-26T07:40:31.440Z"
   },
   {
    "duration": 336,
    "start_time": "2022-01-26T07:40:31.446Z"
   },
   {
    "duration": 9,
    "start_time": "2022-01-26T07:40:31.784Z"
   },
   {
    "duration": 151,
    "start_time": "2022-01-26T07:40:31.808Z"
   },
   {
    "duration": 12,
    "start_time": "2022-01-26T07:40:31.961Z"
   },
   {
    "duration": 45,
    "start_time": "2022-01-26T07:40:31.975Z"
   },
   {
    "duration": 22,
    "start_time": "2022-01-26T07:40:32.023Z"
   },
   {
    "duration": 18,
    "start_time": "2022-01-26T07:40:32.048Z"
   },
   {
    "duration": 23,
    "start_time": "2022-01-26T07:42:47.462Z"
   },
   {
    "duration": 6276,
    "start_time": "2022-01-26T10:31:25.904Z"
   },
   {
    "duration": 243,
    "start_time": "2022-01-26T10:31:38.623Z"
   },
   {
    "duration": 144,
    "start_time": "2022-01-26T10:33:29.440Z"
   },
   {
    "duration": 125,
    "start_time": "2022-01-26T10:36:26.545Z"
   },
   {
    "duration": 133,
    "start_time": "2022-01-26T10:36:56.573Z"
   },
   {
    "duration": 6664,
    "start_time": "2022-01-26T10:38:10.456Z"
   },
   {
    "duration": 6237,
    "start_time": "2022-01-26T10:38:29.036Z"
   },
   {
    "duration": 128,
    "start_time": "2022-01-26T10:38:43.762Z"
   },
   {
    "duration": 5,
    "start_time": "2022-01-26T10:38:47.059Z"
   },
   {
    "duration": 258,
    "start_time": "2022-01-26T10:39:11.156Z"
   },
   {
    "duration": 6,
    "start_time": "2022-01-26T10:39:26.994Z"
   },
   {
    "duration": 85,
    "start_time": "2022-01-26T10:39:35.699Z"
   },
   {
    "duration": 5,
    "start_time": "2022-01-26T10:39:40.846Z"
   },
   {
    "duration": 132,
    "start_time": "2022-01-26T10:43:06.026Z"
   },
   {
    "duration": 6,
    "start_time": "2022-01-26T10:43:26.676Z"
   },
   {
    "duration": 270,
    "start_time": "2022-01-26T10:43:45.402Z"
   },
   {
    "duration": 129,
    "start_time": "2022-01-26T10:43:51.889Z"
   },
   {
    "duration": 9,
    "start_time": "2022-01-26T10:45:10.137Z"
   },
   {
    "duration": 3,
    "start_time": "2022-01-26T10:47:06.415Z"
   },
   {
    "duration": 3,
    "start_time": "2022-01-26T10:47:16.144Z"
   },
   {
    "duration": 3,
    "start_time": "2022-01-26T10:47:25.113Z"
   },
   {
    "duration": 3,
    "start_time": "2022-01-26T10:47:31.857Z"
   },
   {
    "duration": 200,
    "start_time": "2022-01-26T10:52:59.778Z"
   },
   {
    "duration": 6996,
    "start_time": "2022-01-26T11:03:27.850Z"
   },
   {
    "duration": 125,
    "start_time": "2022-01-26T11:03:40.807Z"
   },
   {
    "duration": 173,
    "start_time": "2022-01-26T11:03:43.922Z"
   },
   {
    "duration": 178,
    "start_time": "2022-01-26T11:04:01.792Z"
   },
   {
    "duration": 167,
    "start_time": "2022-01-26T11:05:23.440Z"
   },
   {
    "duration": 169,
    "start_time": "2022-01-26T11:09:13.408Z"
   },
   {
    "duration": 316,
    "start_time": "2022-01-26T11:09:23.303Z"
   },
   {
    "duration": 185,
    "start_time": "2022-01-26T11:09:35.241Z"
   },
   {
    "duration": 281,
    "start_time": "2022-01-26T11:09:41.663Z"
   },
   {
    "duration": 277,
    "start_time": "2022-01-26T11:09:47.336Z"
   },
   {
    "duration": 204,
    "start_time": "2022-01-26T11:10:13.406Z"
   },
   {
    "duration": 315,
    "start_time": "2022-01-26T11:10:22.578Z"
   },
   {
    "duration": 298,
    "start_time": "2022-01-26T11:10:29.856Z"
   },
   {
    "duration": 215,
    "start_time": "2022-01-26T11:10:39.044Z"
   },
   {
    "duration": 187,
    "start_time": "2022-01-26T11:23:45.823Z"
   },
   {
    "duration": 171,
    "start_time": "2022-01-26T11:23:52.385Z"
   },
   {
    "duration": 212,
    "start_time": "2022-01-26T11:23:57.702Z"
   },
   {
    "duration": 176,
    "start_time": "2022-01-26T11:25:41.283Z"
   },
   {
    "duration": 203,
    "start_time": "2022-01-26T11:26:26.518Z"
   },
   {
    "duration": 187,
    "start_time": "2022-01-26T11:26:32.576Z"
   },
   {
    "duration": 237,
    "start_time": "2022-01-26T11:26:40.057Z"
   },
   {
    "duration": 187,
    "start_time": "2022-01-26T11:26:47.722Z"
   },
   {
    "duration": 224,
    "start_time": "2022-01-26T11:26:53.244Z"
   },
   {
    "duration": 6390,
    "start_time": "2022-01-26T11:27:30.738Z"
   },
   {
    "duration": 191,
    "start_time": "2022-01-26T11:27:39.117Z"
   },
   {
    "duration": 127,
    "start_time": "2022-01-26T11:41:38.661Z"
   },
   {
    "duration": 143,
    "start_time": "2022-01-26T11:46:13.908Z"
   },
   {
    "duration": 149,
    "start_time": "2022-01-26T11:46:20.807Z"
   },
   {
    "duration": 11,
    "start_time": "2022-01-26T11:50:29.417Z"
   },
   {
    "duration": 434,
    "start_time": "2022-01-26T11:54:49.809Z"
   },
   {
    "duration": 11,
    "start_time": "2022-01-26T11:55:00.285Z"
   },
   {
    "duration": 14,
    "start_time": "2022-01-26T11:55:52.445Z"
   },
   {
    "duration": 12,
    "start_time": "2022-01-26T11:57:33.075Z"
   },
   {
    "duration": 11,
    "start_time": "2022-01-26T11:57:36.589Z"
   },
   {
    "duration": 195,
    "start_time": "2022-01-26T11:57:51.049Z"
   },
   {
    "duration": 116,
    "start_time": "2022-01-26T11:58:06.748Z"
   },
   {
    "duration": 15,
    "start_time": "2022-01-26T11:58:48.207Z"
   },
   {
    "duration": 15,
    "start_time": "2022-01-26T11:59:25.437Z"
   },
   {
    "duration": 35,
    "start_time": "2022-01-26T12:33:42.000Z"
   },
   {
    "duration": 1749,
    "start_time": "2022-01-27T06:08:11.219Z"
   },
   {
    "duration": 58,
    "start_time": "2022-01-27T06:08:12.971Z"
   },
   {
    "duration": 19,
    "start_time": "2022-01-27T06:08:13.033Z"
   },
   {
    "duration": 25,
    "start_time": "2022-01-27T06:08:13.055Z"
   },
   {
    "duration": 33,
    "start_time": "2022-01-27T06:08:13.083Z"
   },
   {
    "duration": 39,
    "start_time": "2022-01-27T06:08:13.118Z"
   },
   {
    "duration": 24,
    "start_time": "2022-01-27T06:08:13.160Z"
   },
   {
    "duration": 16,
    "start_time": "2022-01-27T06:08:13.190Z"
   },
   {
    "duration": 43,
    "start_time": "2022-01-27T06:08:13.210Z"
   },
   {
    "duration": 18,
    "start_time": "2022-01-27T06:08:13.256Z"
   },
   {
    "duration": 37,
    "start_time": "2022-01-27T06:08:13.277Z"
   },
   {
    "duration": 30,
    "start_time": "2022-01-27T06:08:13.317Z"
   },
   {
    "duration": 34,
    "start_time": "2022-01-27T06:08:13.350Z"
   },
   {
    "duration": 18,
    "start_time": "2022-01-27T06:08:13.387Z"
   },
   {
    "duration": 25,
    "start_time": "2022-01-27T06:08:13.407Z"
   },
   {
    "duration": 16,
    "start_time": "2022-01-27T06:08:13.434Z"
   },
   {
    "duration": 35,
    "start_time": "2022-01-27T06:08:13.453Z"
   },
   {
    "duration": 8,
    "start_time": "2022-01-27T06:08:13.491Z"
   },
   {
    "duration": 22,
    "start_time": "2022-01-27T06:08:13.501Z"
   },
   {
    "duration": 21,
    "start_time": "2022-01-27T06:08:13.526Z"
   },
   {
    "duration": 36,
    "start_time": "2022-01-27T06:08:13.549Z"
   },
   {
    "duration": 38,
    "start_time": "2022-01-27T06:08:13.587Z"
   },
   {
    "duration": 10,
    "start_time": "2022-01-27T06:08:13.630Z"
   },
   {
    "duration": 25,
    "start_time": "2022-01-27T06:08:13.644Z"
   },
   {
    "duration": 15,
    "start_time": "2022-01-27T06:08:13.672Z"
   },
   {
    "duration": 334,
    "start_time": "2022-01-27T06:08:13.690Z"
   },
   {
    "duration": 279,
    "start_time": "2022-01-27T06:08:14.027Z"
   },
   {
    "duration": 29,
    "start_time": "2022-01-27T06:08:14.309Z"
   },
   {
    "duration": 417,
    "start_time": "2022-01-27T06:08:14.341Z"
   },
   {
    "duration": 449,
    "start_time": "2022-01-27T06:08:14.761Z"
   },
   {
    "duration": 542,
    "start_time": "2022-01-27T06:08:15.213Z"
   },
   {
    "duration": 319,
    "start_time": "2022-01-27T06:08:15.759Z"
   },
   {
    "duration": 494,
    "start_time": "2022-01-27T06:08:16.081Z"
   },
   {
    "duration": 225,
    "start_time": "2022-01-27T06:08:16.577Z"
   },
   {
    "duration": 320,
    "start_time": "2022-01-27T06:08:16.805Z"
   },
   {
    "duration": 404,
    "start_time": "2022-01-27T06:08:17.128Z"
   },
   {
    "duration": 6,
    "start_time": "2022-01-27T06:08:17.535Z"
   },
   {
    "duration": 14,
    "start_time": "2022-01-27T06:08:17.544Z"
   },
   {
    "duration": 426,
    "start_time": "2022-01-27T06:08:17.560Z"
   },
   {
    "duration": 457,
    "start_time": "2022-01-27T06:08:17.988Z"
   },
   {
    "duration": 7,
    "start_time": "2022-01-27T06:08:18.448Z"
   },
   {
    "duration": 476,
    "start_time": "2022-01-27T06:08:18.458Z"
   },
   {
    "duration": 11,
    "start_time": "2022-01-27T06:08:18.936Z"
   },
   {
    "duration": 256,
    "start_time": "2022-01-27T06:08:18.950Z"
   },
   {
    "duration": 30,
    "start_time": "2022-01-27T06:08:19.209Z"
   },
   {
    "duration": 44,
    "start_time": "2022-01-27T06:08:19.242Z"
   },
   {
    "duration": 26,
    "start_time": "2022-01-27T06:08:19.289Z"
   },
   {
    "duration": 31,
    "start_time": "2022-01-27T06:08:19.318Z"
   },
   {
    "duration": 1112,
    "start_time": "2022-01-27T10:28:05.725Z"
   },
   {
    "duration": 59,
    "start_time": "2022-01-27T10:28:06.839Z"
   },
   {
    "duration": 13,
    "start_time": "2022-01-27T10:28:06.900Z"
   },
   {
    "duration": 9,
    "start_time": "2022-01-27T10:28:06.915Z"
   },
   {
    "duration": 13,
    "start_time": "2022-01-27T10:28:06.926Z"
   },
   {
    "duration": 12,
    "start_time": "2022-01-27T10:28:06.941Z"
   },
   {
    "duration": 8,
    "start_time": "2022-01-27T10:28:06.954Z"
   },
   {
    "duration": 4,
    "start_time": "2022-01-27T10:28:06.964Z"
   },
   {
    "duration": 43,
    "start_time": "2022-01-27T10:28:06.970Z"
   },
   {
    "duration": 11,
    "start_time": "2022-01-27T10:28:07.015Z"
   },
   {
    "duration": 11,
    "start_time": "2022-01-27T10:28:07.028Z"
   },
   {
    "duration": 9,
    "start_time": "2022-01-27T10:28:07.041Z"
   },
   {
    "duration": 10,
    "start_time": "2022-01-27T10:28:07.051Z"
   },
   {
    "duration": 2,
    "start_time": "2022-01-27T10:28:07.062Z"
   },
   {
    "duration": 6,
    "start_time": "2022-01-27T10:28:07.066Z"
   },
   {
    "duration": 5,
    "start_time": "2022-01-27T10:28:07.074Z"
   },
   {
    "duration": 35,
    "start_time": "2022-01-27T10:28:07.080Z"
   },
   {
    "duration": 4,
    "start_time": "2022-01-27T10:28:07.117Z"
   },
   {
    "duration": 5,
    "start_time": "2022-01-27T10:28:07.122Z"
   },
   {
    "duration": 7,
    "start_time": "2022-01-27T10:28:07.128Z"
   },
   {
    "duration": 10,
    "start_time": "2022-01-27T10:28:07.136Z"
   },
   {
    "duration": 7,
    "start_time": "2022-01-27T10:28:07.147Z"
   },
   {
    "duration": 3,
    "start_time": "2022-01-27T10:28:07.158Z"
   },
   {
    "duration": 8,
    "start_time": "2022-01-27T10:28:07.163Z"
   },
   {
    "duration": 6,
    "start_time": "2022-01-27T10:28:07.172Z"
   },
   {
    "duration": 191,
    "start_time": "2022-01-27T10:28:07.213Z"
   },
   {
    "duration": 163,
    "start_time": "2022-01-27T10:28:07.406Z"
   },
   {
    "duration": 10,
    "start_time": "2022-01-27T10:28:07.570Z"
   },
   {
    "duration": 225,
    "start_time": "2022-01-27T10:28:07.581Z"
   },
   {
    "duration": 212,
    "start_time": "2022-01-27T10:28:07.812Z"
   },
   {
    "duration": 293,
    "start_time": "2022-01-27T10:28:08.026Z"
   },
   {
    "duration": 197,
    "start_time": "2022-01-27T10:28:08.321Z"
   },
   {
    "duration": 312,
    "start_time": "2022-01-27T10:28:08.519Z"
   },
   {
    "duration": 118,
    "start_time": "2022-01-27T10:28:08.833Z"
   },
   {
    "duration": 196,
    "start_time": "2022-01-27T10:28:08.952Z"
   },
   {
    "duration": 341,
    "start_time": "2022-01-27T10:28:09.150Z"
   },
   {
    "duration": 19,
    "start_time": "2022-01-27T10:28:09.493Z"
   },
   {
    "duration": 7,
    "start_time": "2022-01-27T10:28:09.513Z"
   },
   {
    "duration": 205,
    "start_time": "2022-01-27T10:28:09.521Z"
   },
   {
    "duration": 287,
    "start_time": "2022-01-27T10:28:09.728Z"
   },
   {
    "duration": 4,
    "start_time": "2022-01-27T10:28:10.017Z"
   },
   {
    "duration": 263,
    "start_time": "2022-01-27T10:28:10.022Z"
   },
   {
    "duration": 7,
    "start_time": "2022-01-27T10:28:10.286Z"
   },
   {
    "duration": 145,
    "start_time": "2022-01-27T10:28:10.295Z"
   },
   {
    "duration": 10,
    "start_time": "2022-01-27T10:28:10.441Z"
   },
   {
    "duration": 11,
    "start_time": "2022-01-27T10:28:10.452Z"
   },
   {
    "duration": 12,
    "start_time": "2022-01-27T10:28:10.465Z"
   },
   {
    "duration": 33,
    "start_time": "2022-01-27T10:28:10.479Z"
   },
   {
    "duration": 16,
    "start_time": "2022-01-27T10:32:14.177Z"
   },
   {
    "duration": 15,
    "start_time": "2022-01-27T10:32:39.645Z"
   },
   {
    "duration": 18,
    "start_time": "2022-01-27T10:35:32.717Z"
   },
   {
    "duration": 303,
    "start_time": "2022-01-27T10:36:09.783Z"
   },
   {
    "duration": 218,
    "start_time": "2022-01-27T10:36:20.189Z"
   },
   {
    "duration": 270,
    "start_time": "2022-01-27T10:38:13.307Z"
   },
   {
    "duration": 217,
    "start_time": "2022-01-27T10:39:39.998Z"
   },
   {
    "duration": 198,
    "start_time": "2022-01-27T10:39:52.152Z"
   },
   {
    "duration": 18,
    "start_time": "2022-01-27T10:40:09.488Z"
   },
   {
    "duration": 20,
    "start_time": "2022-01-27T10:40:33.585Z"
   },
   {
    "duration": 18,
    "start_time": "2022-01-27T10:40:42.977Z"
   },
   {
    "duration": 322,
    "start_time": "2022-01-27T10:40:54.424Z"
   },
   {
    "duration": 17,
    "start_time": "2022-01-27T10:41:09.919Z"
   },
   {
    "duration": 27,
    "start_time": "2022-01-27T10:41:41.671Z"
   },
   {
    "duration": 18,
    "start_time": "2022-01-27T10:42:04.671Z"
   },
   {
    "duration": 19,
    "start_time": "2022-01-27T10:42:12.656Z"
   },
   {
    "duration": 70,
    "start_time": "2022-01-27T10:44:11.377Z"
   },
   {
    "duration": 133,
    "start_time": "2022-01-27T10:44:29.313Z"
   },
   {
    "duration": 121,
    "start_time": "2022-01-27T10:45:29.620Z"
   },
   {
    "duration": 130,
    "start_time": "2022-01-27T10:48:11.384Z"
   },
   {
    "duration": 128,
    "start_time": "2022-01-27T10:48:28.441Z"
   },
   {
    "duration": 346,
    "start_time": "2022-01-27T10:50:13.569Z"
   },
   {
    "duration": 129,
    "start_time": "2022-01-27T10:50:22.752Z"
   },
   {
    "duration": 10,
    "start_time": "2022-01-27T10:51:06.385Z"
   },
   {
    "duration": 10,
    "start_time": "2022-01-27T10:51:59.240Z"
   },
   {
    "duration": 12,
    "start_time": "2022-01-27T10:57:02.767Z"
   },
   {
    "duration": 12,
    "start_time": "2022-01-27T10:57:22.617Z"
   },
   {
    "duration": 12,
    "start_time": "2022-01-27T10:57:42.473Z"
   },
   {
    "duration": 12,
    "start_time": "2022-01-27T10:58:29.272Z"
   },
   {
    "duration": 14,
    "start_time": "2022-01-27T10:58:40.205Z"
   },
   {
    "duration": 11,
    "start_time": "2022-01-27T10:59:14.341Z"
   },
   {
    "duration": 68,
    "start_time": "2022-01-27T11:02:37.008Z"
   },
   {
    "duration": 87,
    "start_time": "2022-01-27T11:03:08.833Z"
   },
   {
    "duration": 16,
    "start_time": "2022-01-27T11:03:36.518Z"
   },
   {
    "duration": 14,
    "start_time": "2022-01-27T11:04:01.124Z"
   },
   {
    "duration": 140,
    "start_time": "2022-01-27T11:04:50.996Z"
   },
   {
    "duration": 123,
    "start_time": "2022-01-27T11:05:04.615Z"
   },
   {
    "duration": 155,
    "start_time": "2022-01-27T11:06:14.100Z"
   },
   {
    "duration": 12,
    "start_time": "2022-01-27T11:06:39.897Z"
   },
   {
    "duration": 17,
    "start_time": "2022-01-27T11:07:48.608Z"
   },
   {
    "duration": 73,
    "start_time": "2022-01-27T11:10:02.535Z"
   },
   {
    "duration": 88,
    "start_time": "2022-01-27T11:10:07.929Z"
   },
   {
    "duration": 72,
    "start_time": "2022-01-27T11:11:15.504Z"
   },
   {
    "duration": 72,
    "start_time": "2022-01-27T11:12:07.744Z"
   },
   {
    "duration": 14,
    "start_time": "2022-01-27T11:12:36.175Z"
   },
   {
    "duration": 10,
    "start_time": "2022-01-27T11:13:19.343Z"
   },
   {
    "duration": 69,
    "start_time": "2022-01-27T11:13:40.806Z"
   },
   {
    "duration": 75,
    "start_time": "2022-01-27T11:13:47.477Z"
   },
   {
    "duration": 15,
    "start_time": "2022-01-27T11:13:56.470Z"
   },
   {
    "duration": 14,
    "start_time": "2022-01-27T11:14:23.680Z"
   },
   {
    "duration": 250,
    "start_time": "2022-01-27T11:14:50.296Z"
   },
   {
    "duration": 13,
    "start_time": "2022-01-27T11:15:25.307Z"
   },
   {
    "duration": 18,
    "start_time": "2022-01-27T11:16:12.153Z"
   },
   {
    "duration": 15,
    "start_time": "2022-01-27T11:16:34.742Z"
   },
   {
    "duration": 13,
    "start_time": "2022-01-27T11:17:56.937Z"
   },
   {
    "duration": 16,
    "start_time": "2022-01-27T11:18:19.960Z"
   },
   {
    "duration": 127,
    "start_time": "2022-01-27T11:20:52.034Z"
   },
   {
    "duration": 11,
    "start_time": "2022-01-27T11:21:26.007Z"
   },
   {
    "duration": 15,
    "start_time": "2022-01-27T11:21:42.136Z"
   },
   {
    "duration": 16,
    "start_time": "2022-01-27T11:22:02.143Z"
   },
   {
    "duration": 1411,
    "start_time": "2022-01-28T04:35:49.052Z"
   },
   {
    "duration": 73,
    "start_time": "2022-01-28T04:35:50.465Z"
   },
   {
    "duration": 14,
    "start_time": "2022-01-28T04:35:50.540Z"
   },
   {
    "duration": 16,
    "start_time": "2022-01-28T04:35:50.556Z"
   },
   {
    "duration": 14,
    "start_time": "2022-01-28T04:35:50.574Z"
   },
   {
    "duration": 23,
    "start_time": "2022-01-28T04:35:50.589Z"
   },
   {
    "duration": 8,
    "start_time": "2022-01-28T04:35:50.614Z"
   },
   {
    "duration": 6,
    "start_time": "2022-01-28T04:35:50.625Z"
   },
   {
    "duration": 24,
    "start_time": "2022-01-28T04:35:50.633Z"
   },
   {
    "duration": 11,
    "start_time": "2022-01-28T04:35:50.659Z"
   },
   {
    "duration": 35,
    "start_time": "2022-01-28T04:35:50.672Z"
   },
   {
    "duration": 16,
    "start_time": "2022-01-28T04:35:50.709Z"
   },
   {
    "duration": 26,
    "start_time": "2022-01-28T04:35:50.727Z"
   },
   {
    "duration": 5,
    "start_time": "2022-01-28T04:35:50.755Z"
   },
   {
    "duration": 19,
    "start_time": "2022-01-28T04:35:50.762Z"
   },
   {
    "duration": 6,
    "start_time": "2022-01-28T04:35:50.784Z"
   },
   {
    "duration": 26,
    "start_time": "2022-01-28T04:35:50.792Z"
   },
   {
    "duration": 17,
    "start_time": "2022-01-28T04:35:50.820Z"
   },
   {
    "duration": 20,
    "start_time": "2022-01-28T04:35:50.839Z"
   },
   {
    "duration": 17,
    "start_time": "2022-01-28T04:35:50.860Z"
   },
   {
    "duration": 22,
    "start_time": "2022-01-28T04:35:50.879Z"
   },
   {
    "duration": 22,
    "start_time": "2022-01-28T04:35:50.903Z"
   },
   {
    "duration": 15,
    "start_time": "2022-01-28T04:35:50.928Z"
   },
   {
    "duration": 21,
    "start_time": "2022-01-28T04:35:50.946Z"
   },
   {
    "duration": 28,
    "start_time": "2022-01-28T04:35:50.969Z"
   },
   {
    "duration": 214,
    "start_time": "2022-01-28T04:35:50.999Z"
   },
   {
    "duration": 174,
    "start_time": "2022-01-28T04:35:51.215Z"
   },
   {
    "duration": 37,
    "start_time": "2022-01-28T04:35:51.391Z"
   },
   {
    "duration": 239,
    "start_time": "2022-01-28T04:35:51.431Z"
   },
   {
    "duration": 229,
    "start_time": "2022-01-28T04:35:51.672Z"
   },
   {
    "duration": 324,
    "start_time": "2022-01-28T04:35:51.903Z"
   },
   {
    "duration": 207,
    "start_time": "2022-01-28T04:35:52.229Z"
   },
   {
    "duration": 325,
    "start_time": "2022-01-28T04:35:52.438Z"
   },
   {
    "duration": 163,
    "start_time": "2022-01-28T04:35:52.765Z"
   },
   {
    "duration": 193,
    "start_time": "2022-01-28T04:35:52.929Z"
   },
   {
    "duration": 383,
    "start_time": "2022-01-28T04:35:53.124Z"
   },
   {
    "duration": 5,
    "start_time": "2022-01-28T04:35:53.509Z"
   },
   {
    "duration": 10,
    "start_time": "2022-01-28T04:35:53.515Z"
   },
   {
    "duration": 213,
    "start_time": "2022-01-28T04:35:53.528Z"
   },
   {
    "duration": 293,
    "start_time": "2022-01-28T04:35:53.743Z"
   },
   {
    "duration": 4,
    "start_time": "2022-01-28T04:35:54.038Z"
   },
   {
    "duration": 291,
    "start_time": "2022-01-28T04:35:54.044Z"
   },
   {
    "duration": 8,
    "start_time": "2022-01-28T04:35:54.337Z"
   },
   {
    "duration": 140,
    "start_time": "2022-01-28T04:35:54.347Z"
   },
   {
    "duration": 21,
    "start_time": "2022-01-28T04:35:54.489Z"
   },
   {
    "duration": 10,
    "start_time": "2022-01-28T04:35:54.512Z"
   },
   {
    "duration": 18,
    "start_time": "2022-01-28T04:35:54.524Z"
   },
   {
    "duration": 18,
    "start_time": "2022-01-28T04:35:54.543Z"
   },
   {
    "duration": 12,
    "start_time": "2022-01-28T04:42:33.811Z"
   },
   {
    "duration": 13,
    "start_time": "2022-01-28T04:42:52.573Z"
   },
   {
    "duration": 389,
    "start_time": "2022-01-28T04:43:06.448Z"
   },
   {
    "duration": 15,
    "start_time": "2022-01-28T04:43:11.222Z"
   },
   {
    "duration": 10,
    "start_time": "2022-01-28T04:44:17.163Z"
   },
   {
    "duration": 1173,
    "start_time": "2022-01-28T04:44:51.943Z"
   },
   {
    "duration": 73,
    "start_time": "2022-01-28T04:44:53.118Z"
   },
   {
    "duration": 12,
    "start_time": "2022-01-28T04:44:53.193Z"
   },
   {
    "duration": 16,
    "start_time": "2022-01-28T04:44:53.208Z"
   },
   {
    "duration": 18,
    "start_time": "2022-01-28T04:44:53.226Z"
   },
   {
    "duration": 23,
    "start_time": "2022-01-28T04:44:53.246Z"
   },
   {
    "duration": 10,
    "start_time": "2022-01-28T04:44:53.271Z"
   },
   {
    "duration": 22,
    "start_time": "2022-01-28T04:44:53.285Z"
   },
   {
    "duration": 12,
    "start_time": "2022-01-28T04:44:53.310Z"
   },
   {
    "duration": 12,
    "start_time": "2022-01-28T04:44:53.325Z"
   },
   {
    "duration": 13,
    "start_time": "2022-01-28T04:44:53.339Z"
   },
   {
    "duration": 10,
    "start_time": "2022-01-28T04:44:53.353Z"
   },
   {
    "duration": 47,
    "start_time": "2022-01-28T04:44:53.365Z"
   },
   {
    "duration": 3,
    "start_time": "2022-01-28T04:44:53.414Z"
   },
   {
    "duration": 8,
    "start_time": "2022-01-28T04:44:53.419Z"
   },
   {
    "duration": 12,
    "start_time": "2022-01-28T04:44:53.429Z"
   },
   {
    "duration": 8,
    "start_time": "2022-01-28T04:44:53.443Z"
   },
   {
    "duration": 8,
    "start_time": "2022-01-28T04:44:53.452Z"
   },
   {
    "duration": 8,
    "start_time": "2022-01-28T04:44:53.461Z"
   },
   {
    "duration": 22,
    "start_time": "2022-01-28T04:44:53.471Z"
   },
   {
    "duration": 14,
    "start_time": "2022-01-28T04:44:53.495Z"
   },
   {
    "duration": 5,
    "start_time": "2022-01-28T04:44:53.510Z"
   },
   {
    "duration": 18,
    "start_time": "2022-01-28T04:44:53.519Z"
   },
   {
    "duration": 16,
    "start_time": "2022-01-28T04:44:53.539Z"
   },
   {
    "duration": 9,
    "start_time": "2022-01-28T04:44:53.556Z"
   },
   {
    "duration": 14,
    "start_time": "2022-01-28T04:44:53.567Z"
   },
   {
    "duration": 29,
    "start_time": "2022-01-28T04:44:53.582Z"
   },
   {
    "duration": 202,
    "start_time": "2022-01-28T04:44:53.613Z"
   },
   {
    "duration": 166,
    "start_time": "2022-01-28T04:44:53.817Z"
   },
   {
    "duration": 23,
    "start_time": "2022-01-28T04:44:53.985Z"
   },
   {
    "duration": 217,
    "start_time": "2022-01-28T04:44:54.009Z"
   },
   {
    "duration": 196,
    "start_time": "2022-01-28T04:44:54.227Z"
   },
   {
    "duration": 319,
    "start_time": "2022-01-28T04:44:54.425Z"
   },
   {
    "duration": 202,
    "start_time": "2022-01-28T04:44:54.745Z"
   },
   {
    "duration": 303,
    "start_time": "2022-01-28T04:44:54.949Z"
   },
   {
    "duration": 111,
    "start_time": "2022-01-28T04:44:55.254Z"
   },
   {
    "duration": 191,
    "start_time": "2022-01-28T04:44:55.367Z"
   },
   {
    "duration": 340,
    "start_time": "2022-01-28T04:44:55.560Z"
   },
   {
    "duration": 5,
    "start_time": "2022-01-28T04:44:55.907Z"
   },
   {
    "duration": 14,
    "start_time": "2022-01-28T04:44:55.914Z"
   },
   {
    "duration": 221,
    "start_time": "2022-01-28T04:44:55.930Z"
   },
   {
    "duration": 271,
    "start_time": "2022-01-28T04:44:56.153Z"
   },
   {
    "duration": 4,
    "start_time": "2022-01-28T04:44:56.427Z"
   },
   {
    "duration": 276,
    "start_time": "2022-01-28T04:44:56.433Z"
   },
   {
    "duration": 8,
    "start_time": "2022-01-28T04:44:56.711Z"
   },
   {
    "duration": 140,
    "start_time": "2022-01-28T04:44:56.720Z"
   },
   {
    "duration": 13,
    "start_time": "2022-01-28T04:44:56.861Z"
   },
   {
    "duration": 29,
    "start_time": "2022-01-28T04:44:56.875Z"
   },
   {
    "duration": 50,
    "start_time": "2022-01-28T04:44:56.906Z"
   },
   {
    "duration": 40,
    "start_time": "2022-01-28T04:44:56.958Z"
   },
   {
    "duration": 322,
    "start_time": "2022-01-28T10:39:00.764Z"
   },
   {
    "duration": 1310,
    "start_time": "2022-01-28T10:39:05.765Z"
   },
   {
    "duration": 72,
    "start_time": "2022-01-28T10:39:07.077Z"
   },
   {
    "duration": 13,
    "start_time": "2022-01-28T10:39:07.152Z"
   },
   {
    "duration": 14,
    "start_time": "2022-01-28T10:39:07.167Z"
   },
   {
    "duration": 21,
    "start_time": "2022-01-28T10:39:07.183Z"
   },
   {
    "duration": 18,
    "start_time": "2022-01-28T10:39:07.206Z"
   },
   {
    "duration": 11,
    "start_time": "2022-01-28T10:39:07.227Z"
   },
   {
    "duration": 5,
    "start_time": "2022-01-28T10:39:07.242Z"
   },
   {
    "duration": 15,
    "start_time": "2022-01-28T10:39:07.249Z"
   },
   {
    "duration": 45,
    "start_time": "2022-01-28T10:39:07.266Z"
   },
   {
    "duration": 12,
    "start_time": "2022-01-28T10:39:07.313Z"
   },
   {
    "duration": 18,
    "start_time": "2022-01-28T10:39:07.326Z"
   },
   {
    "duration": 15,
    "start_time": "2022-01-28T10:39:07.345Z"
   },
   {
    "duration": 3,
    "start_time": "2022-01-28T10:39:07.362Z"
   },
   {
    "duration": 7,
    "start_time": "2022-01-28T10:39:07.366Z"
   },
   {
    "duration": 5,
    "start_time": "2022-01-28T10:39:07.375Z"
   },
   {
    "duration": 27,
    "start_time": "2022-01-28T10:39:07.382Z"
   },
   {
    "duration": 7,
    "start_time": "2022-01-28T10:39:07.411Z"
   },
   {
    "duration": 8,
    "start_time": "2022-01-28T10:39:07.420Z"
   },
   {
    "duration": 20,
    "start_time": "2022-01-28T10:39:07.430Z"
   },
   {
    "duration": 9,
    "start_time": "2022-01-28T10:39:07.452Z"
   },
   {
    "duration": 5,
    "start_time": "2022-01-28T10:39:07.463Z"
   },
   {
    "duration": 37,
    "start_time": "2022-01-28T10:39:07.472Z"
   },
   {
    "duration": 12,
    "start_time": "2022-01-28T10:39:07.512Z"
   },
   {
    "duration": 10,
    "start_time": "2022-01-28T10:39:07.526Z"
   },
   {
    "duration": 17,
    "start_time": "2022-01-28T10:39:07.539Z"
   },
   {
    "duration": 11,
    "start_time": "2022-01-28T10:39:07.559Z"
   },
   {
    "duration": 362,
    "start_time": "2022-01-28T10:39:07.573Z"
   },
   {
    "duration": 281,
    "start_time": "2022-01-28T10:39:07.938Z"
   },
   {
    "duration": 14,
    "start_time": "2022-01-28T10:39:08.221Z"
   },
   {
    "duration": 230,
    "start_time": "2022-01-28T10:39:08.237Z"
   },
   {
    "duration": 215,
    "start_time": "2022-01-28T10:39:08.469Z"
   },
   {
    "duration": 354,
    "start_time": "2022-01-28T10:39:08.686Z"
   },
   {
    "duration": 207,
    "start_time": "2022-01-28T10:39:09.042Z"
   },
   {
    "duration": 330,
    "start_time": "2022-01-28T10:39:09.251Z"
   },
   {
    "duration": 111,
    "start_time": "2022-01-28T10:39:09.582Z"
   },
   {
    "duration": 197,
    "start_time": "2022-01-28T10:39:09.695Z"
   },
   {
    "duration": 377,
    "start_time": "2022-01-28T10:39:09.894Z"
   },
   {
    "duration": 5,
    "start_time": "2022-01-28T10:39:10.273Z"
   },
   {
    "duration": 10,
    "start_time": "2022-01-28T10:39:10.279Z"
   },
   {
    "duration": 225,
    "start_time": "2022-01-28T10:39:10.291Z"
   },
   {
    "duration": 325,
    "start_time": "2022-01-28T10:39:10.518Z"
   },
   {
    "duration": 5,
    "start_time": "2022-01-28T10:39:10.845Z"
   },
   {
    "duration": 365,
    "start_time": "2022-01-28T10:39:10.852Z"
   },
   {
    "duration": 7,
    "start_time": "2022-01-28T10:39:11.219Z"
   },
   {
    "duration": 158,
    "start_time": "2022-01-28T10:39:11.228Z"
   },
   {
    "duration": 22,
    "start_time": "2022-01-28T10:39:11.388Z"
   },
   {
    "duration": 13,
    "start_time": "2022-01-28T10:39:11.412Z"
   },
   {
    "duration": 20,
    "start_time": "2022-01-28T10:39:11.427Z"
   },
   {
    "duration": 18,
    "start_time": "2022-01-28T10:39:11.449Z"
   },
   {
    "duration": 205,
    "start_time": "2022-01-28T10:50:22.656Z"
   },
   {
    "duration": 232,
    "start_time": "2022-01-28T10:52:38.796Z"
   },
   {
    "duration": 219,
    "start_time": "2022-01-28T10:53:20.430Z"
   },
   {
    "duration": 322,
    "start_time": "2022-01-28T10:54:10.141Z"
   },
   {
    "duration": 213,
    "start_time": "2022-01-28T10:54:27.180Z"
   },
   {
    "duration": 203,
    "start_time": "2022-01-28T10:56:07.193Z"
   },
   {
    "duration": 241,
    "start_time": "2022-01-28T10:56:24.229Z"
   },
   {
    "duration": 450,
    "start_time": "2022-01-28T10:57:14.487Z"
   },
   {
    "duration": 371,
    "start_time": "2022-01-28T10:57:24.803Z"
   },
   {
    "duration": 312,
    "start_time": "2022-01-28T10:58:30.144Z"
   },
   {
    "duration": 350,
    "start_time": "2022-01-28T10:58:39.308Z"
   },
   {
    "duration": 330,
    "start_time": "2022-01-28T10:58:52.221Z"
   },
   {
    "duration": 329,
    "start_time": "2022-01-28T10:58:57.465Z"
   },
   {
    "duration": 205,
    "start_time": "2022-01-28T10:59:37.915Z"
   },
   {
    "duration": 319,
    "start_time": "2022-01-28T10:59:48.491Z"
   },
   {
    "duration": 220,
    "start_time": "2022-01-28T11:08:11.316Z"
   },
   {
    "duration": 329,
    "start_time": "2022-01-28T11:08:26.103Z"
   },
   {
    "duration": 487,
    "start_time": "2022-01-28T11:12:12.841Z"
   },
   {
    "duration": 618,
    "start_time": "2022-01-28T11:12:23.744Z"
   },
   {
    "duration": 701,
    "start_time": "2022-01-28T11:12:32.585Z"
   },
   {
    "duration": 679,
    "start_time": "2022-01-28T11:13:23.928Z"
   },
   {
    "duration": 391,
    "start_time": "2022-01-28T11:13:33.862Z"
   },
   {
    "duration": 19,
    "start_time": "2022-01-28T11:33:10.855Z"
   },
   {
    "duration": 10,
    "start_time": "2022-01-28T11:33:53.848Z"
   },
   {
    "duration": 4,
    "start_time": "2022-01-28T11:38:28.643Z"
   },
   {
    "duration": 71,
    "start_time": "2022-01-28T11:38:28.654Z"
   },
   {
    "duration": 14,
    "start_time": "2022-01-28T11:38:28.727Z"
   },
   {
    "duration": 13,
    "start_time": "2022-01-28T11:38:28.743Z"
   },
   {
    "duration": 20,
    "start_time": "2022-01-28T11:38:28.759Z"
   },
   {
    "duration": 30,
    "start_time": "2022-01-28T11:38:28.781Z"
   },
   {
    "duration": 9,
    "start_time": "2022-01-28T11:38:28.813Z"
   },
   {
    "duration": 14,
    "start_time": "2022-01-28T11:38:28.824Z"
   },
   {
    "duration": 18,
    "start_time": "2022-01-28T11:38:28.840Z"
   },
   {
    "duration": 53,
    "start_time": "2022-01-28T11:38:28.860Z"
   },
   {
    "duration": 14,
    "start_time": "2022-01-28T11:38:28.915Z"
   },
   {
    "duration": 12,
    "start_time": "2022-01-28T11:38:28.931Z"
   },
   {
    "duration": 16,
    "start_time": "2022-01-28T11:38:28.945Z"
   },
   {
    "duration": 52,
    "start_time": "2022-01-28T11:38:28.962Z"
   },
   {
    "duration": 5,
    "start_time": "2022-01-28T11:38:29.016Z"
   },
   {
    "duration": 15,
    "start_time": "2022-01-28T11:38:29.023Z"
   },
   {
    "duration": 11,
    "start_time": "2022-01-28T11:38:29.040Z"
   },
   {
    "duration": 8,
    "start_time": "2022-01-28T11:38:29.053Z"
   },
   {
    "duration": 48,
    "start_time": "2022-01-28T11:38:29.062Z"
   },
   {
    "duration": 9,
    "start_time": "2022-01-28T11:38:29.112Z"
   },
   {
    "duration": 9,
    "start_time": "2022-01-28T11:38:29.123Z"
   },
   {
    "duration": 249,
    "start_time": "2022-01-28T11:38:29.134Z"
   },
   {
    "duration": 181,
    "start_time": "2022-01-28T11:38:29.385Z"
   },
   {
    "duration": 11,
    "start_time": "2022-01-28T11:38:29.568Z"
   },
   {
    "duration": 266,
    "start_time": "2022-01-28T11:38:29.581Z"
   },
   {
    "duration": 239,
    "start_time": "2022-01-28T11:38:29.849Z"
   },
   {
    "duration": 385,
    "start_time": "2022-01-28T11:38:30.090Z"
   },
   {
    "duration": 251,
    "start_time": "2022-01-28T11:38:30.478Z"
   },
   {
    "duration": 333,
    "start_time": "2022-01-28T11:38:30.731Z"
   },
   {
    "duration": 218,
    "start_time": "2022-01-28T11:38:31.067Z"
   },
   {
    "duration": 355,
    "start_time": "2022-01-28T11:38:31.288Z"
   },
   {
    "duration": 547,
    "start_time": "2022-01-28T11:38:31.645Z"
   },
   {
    "duration": 13,
    "start_time": "2022-01-28T11:38:32.194Z"
   },
   {
    "duration": 12,
    "start_time": "2022-01-28T11:38:32.210Z"
   },
   {
    "duration": 394,
    "start_time": "2022-01-28T11:38:32.224Z"
   },
   {
    "duration": 342,
    "start_time": "2022-01-28T11:38:32.620Z"
   },
   {
    "duration": 5,
    "start_time": "2022-01-28T11:38:32.964Z"
   },
   {
    "duration": 317,
    "start_time": "2022-01-28T11:38:32.971Z"
   },
   {
    "duration": 9,
    "start_time": "2022-01-28T11:38:33.290Z"
   },
   {
    "duration": 153,
    "start_time": "2022-01-28T11:38:33.308Z"
   },
   {
    "duration": 13,
    "start_time": "2022-01-28T11:38:33.463Z"
   },
   {
    "duration": 30,
    "start_time": "2022-01-28T11:38:33.478Z"
   },
   {
    "duration": 17,
    "start_time": "2022-01-28T11:38:33.510Z"
   },
   {
    "duration": 20,
    "start_time": "2022-01-28T11:38:33.529Z"
   },
   {
    "duration": 1455,
    "start_time": "2022-01-29T04:25:41.608Z"
   },
   {
    "duration": 71,
    "start_time": "2022-01-29T04:25:43.066Z"
   },
   {
    "duration": 14,
    "start_time": "2022-01-29T04:25:43.140Z"
   },
   {
    "duration": 15,
    "start_time": "2022-01-29T04:25:43.157Z"
   },
   {
    "duration": 24,
    "start_time": "2022-01-29T04:25:43.175Z"
   },
   {
    "duration": 17,
    "start_time": "2022-01-29T04:25:43.202Z"
   },
   {
    "duration": 11,
    "start_time": "2022-01-29T04:25:43.221Z"
   },
   {
    "duration": 38,
    "start_time": "2022-01-29T04:25:43.235Z"
   },
   {
    "duration": 19,
    "start_time": "2022-01-29T04:25:43.277Z"
   },
   {
    "duration": 17,
    "start_time": "2022-01-29T04:25:43.298Z"
   },
   {
    "duration": 10,
    "start_time": "2022-01-29T04:25:43.317Z"
   },
   {
    "duration": 43,
    "start_time": "2022-01-29T04:25:43.329Z"
   },
   {
    "duration": 19,
    "start_time": "2022-01-29T04:25:43.374Z"
   },
   {
    "duration": 11,
    "start_time": "2022-01-29T04:25:43.395Z"
   },
   {
    "duration": 5,
    "start_time": "2022-01-29T04:25:43.408Z"
   },
   {
    "duration": 12,
    "start_time": "2022-01-29T04:25:43.415Z"
   },
   {
    "duration": 40,
    "start_time": "2022-01-29T04:25:43.429Z"
   },
   {
    "duration": 5,
    "start_time": "2022-01-29T04:25:43.472Z"
   },
   {
    "duration": 12,
    "start_time": "2022-01-29T04:25:43.478Z"
   },
   {
    "duration": 10,
    "start_time": "2022-01-29T04:25:43.492Z"
   },
   {
    "duration": 7,
    "start_time": "2022-01-29T04:25:43.504Z"
   },
   {
    "duration": 309,
    "start_time": "2022-01-29T04:25:43.513Z"
   },
   {
    "duration": 236,
    "start_time": "2022-01-29T04:25:43.826Z"
   },
   {
    "duration": 14,
    "start_time": "2022-01-29T04:25:44.064Z"
   },
   {
    "duration": 310,
    "start_time": "2022-01-29T04:25:44.080Z"
   },
   {
    "duration": 313,
    "start_time": "2022-01-29T04:25:44.392Z"
   },
   {
    "duration": 312,
    "start_time": "2022-01-29T04:25:44.707Z"
   },
   {
    "duration": 232,
    "start_time": "2022-01-29T04:25:45.022Z"
   },
   {
    "duration": 312,
    "start_time": "2022-01-29T04:25:45.256Z"
   },
   {
    "duration": 128,
    "start_time": "2022-01-29T04:25:45.570Z"
   },
   {
    "duration": 212,
    "start_time": "2022-01-29T04:25:45.701Z"
   },
   {
    "duration": 352,
    "start_time": "2022-01-29T04:25:45.915Z"
   },
   {
    "duration": 4,
    "start_time": "2022-01-29T04:25:46.269Z"
   },
   {
    "duration": 10,
    "start_time": "2022-01-29T04:25:46.275Z"
   },
   {
    "duration": 209,
    "start_time": "2022-01-29T04:25:46.286Z"
   },
   {
    "duration": 299,
    "start_time": "2022-01-29T04:25:46.497Z"
   },
   {
    "duration": 5,
    "start_time": "2022-01-29T04:25:46.798Z"
   },
   {
    "duration": 411,
    "start_time": "2022-01-29T04:25:46.806Z"
   },
   {
    "duration": 9,
    "start_time": "2022-01-29T04:25:47.219Z"
   },
   {
    "duration": 207,
    "start_time": "2022-01-29T04:25:47.230Z"
   },
   {
    "duration": 21,
    "start_time": "2022-01-29T04:25:47.439Z"
   },
   {
    "duration": 12,
    "start_time": "2022-01-29T04:25:47.462Z"
   },
   {
    "duration": 41,
    "start_time": "2022-01-29T04:25:47.476Z"
   },
   {
    "duration": 19,
    "start_time": "2022-01-29T04:25:47.519Z"
   },
   {
    "duration": 1570,
    "start_time": "2022-02-21T13:19:44.086Z"
   },
   {
    "duration": 46,
    "start_time": "2022-02-21T13:19:45.659Z"
   },
   {
    "duration": 20,
    "start_time": "2022-02-21T13:19:45.708Z"
   },
   {
    "duration": 15,
    "start_time": "2022-02-21T13:19:45.731Z"
   },
   {
    "duration": 26,
    "start_time": "2022-02-21T13:19:45.748Z"
   },
   {
    "duration": 22,
    "start_time": "2022-02-21T13:19:45.793Z"
   },
   {
    "duration": 18,
    "start_time": "2022-02-21T13:19:45.819Z"
   },
   {
    "duration": 40,
    "start_time": "2022-02-21T13:19:45.843Z"
   },
   {
    "duration": 32,
    "start_time": "2022-02-21T13:19:45.895Z"
   },
   {
    "duration": 47,
    "start_time": "2022-02-21T13:19:45.930Z"
   },
   {
    "duration": 40,
    "start_time": "2022-02-21T13:19:45.980Z"
   },
   {
    "duration": 25,
    "start_time": "2022-02-21T13:19:46.023Z"
   },
   {
    "duration": 26,
    "start_time": "2022-02-21T13:19:46.050Z"
   },
   {
    "duration": 14,
    "start_time": "2022-02-21T13:19:46.079Z"
   },
   {
    "duration": 10,
    "start_time": "2022-02-21T13:19:46.096Z"
   },
   {
    "duration": 16,
    "start_time": "2022-02-21T13:19:46.108Z"
   },
   {
    "duration": 22,
    "start_time": "2022-02-21T13:19:46.126Z"
   },
   {
    "duration": 40,
    "start_time": "2022-02-21T13:19:46.150Z"
   },
   {
    "duration": 40,
    "start_time": "2022-02-21T13:19:46.192Z"
   },
   {
    "duration": 12,
    "start_time": "2022-02-21T13:19:46.234Z"
   },
   {
    "duration": 18,
    "start_time": "2022-02-21T13:19:46.248Z"
   },
   {
    "duration": 325,
    "start_time": "2022-02-21T13:19:46.268Z"
   },
   {
    "duration": 284,
    "start_time": "2022-02-21T13:19:46.599Z"
   },
   {
    "duration": 19,
    "start_time": "2022-02-21T13:19:46.886Z"
   },
   {
    "duration": 380,
    "start_time": "2022-02-21T13:19:46.907Z"
   },
   {
    "duration": 365,
    "start_time": "2022-02-21T13:19:47.295Z"
   },
   {
    "duration": 481,
    "start_time": "2022-02-21T13:19:47.664Z"
   },
   {
    "duration": 350,
    "start_time": "2022-02-21T13:19:48.149Z"
   },
   {
    "duration": 428,
    "start_time": "2022-02-21T13:19:48.502Z"
   },
   {
    "duration": 212,
    "start_time": "2022-02-21T13:19:48.933Z"
   },
   {
    "duration": 324,
    "start_time": "2022-02-21T13:19:49.147Z"
   },
   {
    "duration": 494,
    "start_time": "2022-02-21T13:19:49.473Z"
   },
   {
    "duration": 6,
    "start_time": "2022-02-21T13:19:49.970Z"
   },
   {
    "duration": 10,
    "start_time": "2022-02-21T13:19:49.994Z"
   },
   {
    "duration": 356,
    "start_time": "2022-02-21T13:19:50.006Z"
   },
   {
    "duration": 458,
    "start_time": "2022-02-21T13:19:50.364Z"
   },
   {
    "duration": 5,
    "start_time": "2022-02-21T13:19:50.825Z"
   },
   {
    "duration": 446,
    "start_time": "2022-02-21T13:19:50.833Z"
   },
   {
    "duration": 15,
    "start_time": "2022-02-21T13:19:51.281Z"
   },
   {
    "duration": 248,
    "start_time": "2022-02-21T13:19:51.298Z"
   },
   {
    "duration": 41,
    "start_time": "2022-02-21T13:19:51.549Z"
   },
   {
    "duration": 17,
    "start_time": "2022-02-21T13:19:51.594Z"
   },
   {
    "duration": 30,
    "start_time": "2022-02-21T13:19:51.614Z"
   },
   {
    "duration": 56,
    "start_time": "2022-02-21T13:19:51.647Z"
   }
  ],
  "kernelspec": {
   "display_name": "Python 3 (ipykernel)",
   "language": "python",
   "name": "python3"
  },
  "language_info": {
   "codemirror_mode": {
    "name": "ipython",
    "version": 3
   },
   "file_extension": ".py",
   "mimetype": "text/x-python",
   "name": "python",
   "nbconvert_exporter": "python",
   "pygments_lexer": "ipython3",
   "version": "3.9.7"
  },
  "toc": {
   "base_numbering": 1,
   "nav_menu": {},
   "number_sections": true,
   "sideBar": true,
   "skip_h1_title": true,
   "title_cell": "Table of Contents",
   "title_sidebar": "Contents",
   "toc_cell": false,
   "toc_position": {},
   "toc_section_display": true,
   "toc_window_display": false
  }
 },
 "nbformat": 4,
 "nbformat_minor": 2
}
